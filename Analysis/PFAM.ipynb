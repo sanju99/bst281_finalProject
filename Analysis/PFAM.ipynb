{
 "cells": [
  {
   "cell_type": "code",
   "execution_count": 1,
   "id": "546e7b82-149a-43a4-912d-f7f7ca3470ef",
   "metadata": {},
   "outputs": [],
   "source": [
    "import numpy as np\n",
    "import pandas as pd\n",
    "\n",
    "import matplotlib.pyplot as plt\n",
    "import seaborn as sns\n",
    "\n",
    "#plt.rcParams['figure.dpi'] = 150\n",
    "import glob, os, json\n",
    "\n",
    "from sklearn.decomposition import PCA\n",
    "from sklearn.cluster import DBSCAN\n",
    "\n",
    "import scipy.stats as st\n",
    "import timeit\n",
    "import pickle"
   ]
  },
  {
   "cell_type": "markdown",
   "id": "dfcf3191-774c-47e5-9d97-3a589dfdbbe0",
   "metadata": {},
   "source": [
    "# Download HMMER data from the 5 batch jobs using the `03_download_hmmer.py` script\n",
    "\n",
    "```console\n",
    "python3 03_download_hmmer.py Data/PFAM_1 498 \"https://www.ebi.ac.uk/Tools/hmmer/download/C89D6018-CF04-11EC-9B2E-CE02DCC3747A.\"\n",
    "\n",
    "python3 03_download_hmmer.py Data/PFAM_2 499 \"https://www.ebi.ac.uk/Tools/hmmer/download/0FA10BC6-CF06-11EC-B9A1-9E64E976C163.\"\n",
    "\n",
    "python3 03_download_hmmer.py Data/PFAM_3 498 \"https://www.ebi.ac.uk/Tools/hmmer/download/1E071650-CF07-11EC-8237-159953F04F9B.\"\n",
    "\n",
    "python3 03_download_hmmer.py Data/PFAM_4 500 \"https://www.ebi.ac.uk/Tools/hmmer/download/8EA0FB46-CF08-11EC-8CCE-9F64E976C163.\"\n",
    "\n",
    "python3 03_download_hmmer.py Data/PFAM_5 137 \"https://www.ebi.ac.uk/Tools/hmmer/download/15B613C2-CF0A-11EC-B9ED-F99853F04F9B.\"\n",
    "```"
   ]
  },
  {
   "cell_type": "markdown",
   "id": "d79ffe5f-db9d-4173-99ba-13eb21c8b68c",
   "metadata": {},
   "source": [
    "# Combine HMMER data for each protein in a batch using `04_process_hmmer.py`\n",
    "\n",
    "```console\n",
    "python3 04_process_hmmer.py Data/PFAM_1 Data/proteins_seq_small_1.fasta Data/batch_1\n",
    "\n",
    "python3 04_process_hmmer.py Data/PFAM_2 Data/proteins_seq_small_2.fasta Data/batch_2\n",
    "\n",
    "python3 04_process_hmmer.py Data/PFAM_3 Data/proteins_seq_small_3.fasta Data/batch_3\n",
    "\n",
    "python3 04_process_hmmer.py Data/PFAM_4 Data/proteins_seq_small_4.fasta Data/batch_4\n",
    "\n",
    "python3 04_process_hmmer.py Data/PFAM_5 Data/proteins_seq_small_5.fasta Data/batch_5\n",
    "```"
   ]
  },
  {
   "cell_type": "markdown",
   "id": "db27ae26-9100-442f-b1e9-6df19a35a0dd",
   "metadata": {},
   "source": [
    "# 7 Proteins longer than 5000 had to be queried using their UniProt ID\n",
    "\n",
    "## Following esults determined manually\n",
    "\n",
    "Q63HN8: 1 zf-C3HC4, 1 DUF6539\n",
    "\n",
    "Q09666: 0 (only disordered and low complexity regions)\n",
    "\n",
    "Q9NU22: 8 AAA_5, 3 AAA_lid_7, 1 AAA_lid_5\n",
    "\n",
    "P58107: 36 Plectin\n",
    "\n",
    "Q03001: 2 CH, 20 Spectrin, 1 SH3_10, 1 Spectrin_like, 1 Plectin, 1 EF-hand_7, 1 GAS2\n",
    "\n",
    "Q86UQ4: 2 ABC2_membrane_3, 2 ABC_tran\n",
    "\n",
    "Q8NF91: 2 CH, 10 Spectrin, 1 KASH\n",
    "\n",
    "<b>If a results file is not present in the expected directory, it means that no domains were found.</b>\n",
    "\n",
    "## Encode them in dataframes as follows (done already and combined with the main dataframe):"
   ]
  },
  {
   "cell_type": "code",
   "execution_count": 2,
   "id": "d025c16e-6b8e-414d-a941-80aea886570a",
   "metadata": {},
   "outputs": [],
   "source": [
    "# df_1 = pd.DataFrame({'UniProt': ['Q63HN8', 'Q63HN8'], 'PFAM': ['zf-C3HC4', 'DUF6539'], 'Count': [1, 1]})\n",
    "\n",
    "# df_2 = pd.DataFrame({'UniProt': ['Q9NU22', 'Q9NU22', 'Q9NU22'], 'PFAM': ['AAA_5', 'AAA_lid_7', 'AAA_lid_5'], 'Count': [8, 3, 1]})\n",
    "\n",
    "# df_3 = pd.DataFrame({'UniProt': ['P58107'], 'PFAM': ['Plectin'], 'Count': [36]})\n",
    "\n",
    "# df_4 = pd.DataFrame({'UniProt': ['Q03001', 'Q03001', 'Q03001', 'Q03001', 'Q03001', 'Q03001', 'Q03001'], 'PFAM': ['CH', 'Spectrin', 'SH3_10', 'Spectrin_like', 'Plectin', 'EF-hand_7', 'GAS2'], 'Count': [2, 20, 1, 1, 1, 1, 1]})\n",
    "\n",
    "# df_5 = pd.DataFrame({'UniProt': ['Q86UQ4', 'Q86UQ4'], 'PFAM': ['ABC2_membrane_3', 'ABC_tran'], 'Count': [2, 2]})\n",
    "\n",
    "# df_6 = pd.DataFrame({'UniProt': ['Q8NF91', 'Q8NF91', 'Q8NF91'], 'PFAM': ['CH', 'Spectrin', 'KASH'], 'Count': [2, 10, 1]})\n",
    "\n",
    "# files = glob.glob(\"../Data/batch_*.csv\")\n",
    "# dfs_lst = [pd.read_csv(f) for f in files]\n",
    "\n",
    "# final = pd.concat([pd.concat(dfs_lst), df_1, df_2, df_3, df_4, df_5, df_6])\n",
    "\n",
    "# final.to_csv(\"../Processed/protein_domains.csv\", index=False)"
   ]
  },
  {
   "cell_type": "code",
   "execution_count": 3,
   "id": "aee81bec-741f-4dae-85f7-a2e126db44fa",
   "metadata": {},
   "outputs": [
    {
     "name": "stdout",
     "output_type": "stream",
     "text": [
      "(5165, 3)\n",
      "2081 proteins\n"
     ]
    }
   ],
   "source": [
    "df = pd.read_csv(\"../Processed/protein_domains.csv\")\n",
    "print(df.shape)\n",
    "print(f\"{len(df.UniProt.unique())} proteins\")"
   ]
  },
  {
   "cell_type": "markdown",
   "id": "9d21c72b-b56b-432d-aa99-3707ef944e64",
   "metadata": {},
   "source": [
    "# Distribution of Protein Domains in the dataset"
   ]
  },
  {
   "cell_type": "code",
   "execution_count": 4,
   "id": "e5853455-5e04-44f4-b160-bd9020961a3a",
   "metadata": {},
   "outputs": [
    {
     "data": {
      "image/png": "[encoded data removed]",
      "text/plain": [
       "<Figure size 432x288 with 1 Axes>"
      ]
     },
     "metadata": {
      "needs_background": "light"
     },
     "output_type": "display_data"
    }
   ],
   "source": [
    "# count the number of proteins containing a given domain\n",
    "summary_df = pd.DataFrame(df.groupby(\"PFAM\")[\"UniProt\"].count()).sort_values(\"UniProt\", ascending=False).reset_index()\n",
    "plt.hist(np.log(summary_df[\"UniProt\"]))\n",
    "\n",
    "plt.title(\"Distribution of # of Proteins with a given PFAM Domain\")\n",
    "plt.xlabel(\"Log(# of Proteins)\")\n",
    "sns.despine()\n",
    "plt.show()"
   ]
  },
  {
   "cell_type": "markdown",
   "id": "aa6a4ec4-2b0c-4dc2-b8cc-63097b68b71f",
   "metadata": {},
   "source": [
    "# Unsupervised Methods\n",
    "\n",
    "## Principal Components Analysis -- not very informative b/c of such low explained variance and poor clustering\n",
    "\n",
    "### No significant Spearman correlations between domains and PCs\n",
    "\n",
    "### Was trying to see if proteins with shared GO functions would cluster together in protein domain space\n",
    "\n",
    "### Kind of suggestive that's a very weak correlation between sharing GO functions and protein domains"
   ]
  },
  {
   "cell_type": "code",
   "execution_count": 5,
   "id": "650d8b39-ddf2-4326-91af-d632d38aca9c",
   "metadata": {},
   "outputs": [
    {
     "data": {
      "image/png": "[encoded data removed]",
      "text/plain": [
       "<Figure size 432x288 with 1 Axes>"
      ]
     },
     "metadata": {
      "needs_background": "light"
     },
     "output_type": "display_data"
    }
   ],
   "source": [
    "# first check using the elbow method\n",
    "n = 10\n",
    "\n",
    "# use the whole matrix for now\n",
    "data = df.pivot(index=\"UniProt\", columns=\"PFAM\", values=\"Count\").fillna(0).astype(int)\n",
    "\n",
    "pca_large = PCA(n_components=n).fit(data.values)\n",
    "\n",
    "plt.plot(np.arange(1, n+1), pca_large.explained_variance_)\n",
    "sns.despine()\n",
    "plt.xticks(np.arange(1, n+1))\n",
    "plt.xlabel(\"Component\")\n",
    "plt.ylabel(\"Explained Variance\")\n",
    "plt.show()"
   ]
  },
  {
   "cell_type": "code",
   "execution_count": 6,
   "id": "a060a860-a60b-43fc-b63b-3ad584b25735",
   "metadata": {},
   "outputs": [
    {
     "data": {
      "text/plain": [
       "(0, 0)"
      ]
     },
     "execution_count": 6,
     "metadata": {},
     "output_type": "execute_result"
    }
   ],
   "source": [
    "# check that no proteins or domains have 0 representation\n",
    "sum(data.sum(axis=1)==0), sum(data.sum(axis=1)==0)"
   ]
  },
  {
   "cell_type": "code",
   "execution_count": 7,
   "id": "685d04b7-b593-4afe-936d-5c41a37dec65",
   "metadata": {},
   "outputs": [
    {
     "name": "stdout",
     "output_type": "stream",
     "text": [
      "Explained variances: [1.35499293 1.23873102]\n"
     ]
    },
    {
     "data": {
      "image/png": "[encoded data removed]",
      "text/plain": [
       "<Figure size 432x288 with 1 Axes>"
      ]
     },
     "metadata": {
      "needs_background": "light"
     },
     "output_type": "display_data"
    }
   ],
   "source": [
    "# dbscan = DBSCAN(min_samples=3).fit(matrix_domains_high.values)\n",
    "# print(f\"{np.max(dbscan.labels_)+1} clusters found\")\n",
    "\n",
    "pca = PCA(n_components=2).fit(data.values)\n",
    "\n",
    "print(f\"Explained variances: {pca.explained_variance_}\")\n",
    "\n",
    "pca_transformed = pca.transform(data.values)\n",
    "\n",
    "pca_df = pd.DataFrame(pca_transformed)\n",
    "\n",
    "pca_df.columns = [\"PC1\", \"PC2\"]\n",
    "\n",
    "pca_df[\"UniProt\"] = data.index\n",
    "\n",
    "# -1 cluster means too disordered\n",
    "#pca_df[\"Cluster\"] = dbscan.labels_\n",
    "\n",
    "sns.scatterplot(data=pca_df, x=\"PC1\", y=\"PC2\", \n",
    "                #hue=\"Cluster\", \n",
    "                #palette=\"viridis\"\n",
    "               )\n",
    "sns.despine()\n",
    "plt.show()"
   ]
  },
  {
   "cell_type": "code",
   "execution_count": 8,
   "id": "48b283e4-ac45-4cb1-aed3-cb21ec9568bb",
   "metadata": {},
   "outputs": [],
   "source": [
    "spearman_res_1 = [[data.columns[i], st.spearmanr(pca_df.PC1, data.iloc[:, i])] for i in range(n)]\n",
    "\n",
    "for domain, res in spearman_res_1:\n",
    "    \n",
    "    if res[1] < 0.05:\n",
    "        print(domain, res[0])"
   ]
  },
  {
   "cell_type": "code",
   "execution_count": 9,
   "id": "6c514189-d74b-4616-b9d1-dcd5d300ed80",
   "metadata": {},
   "outputs": [],
   "source": [
    "spearman_res_2 = [[data.columns[i], st.spearmanr(pca_df.PC2, data.iloc[:, i])] for i in range(n)]\n",
    "\n",
    "for domain, res in spearman_res_2:\n",
    "    \n",
    "    if res[1] < 0.05:\n",
    "        print(domain, res[0])"
   ]
  },
  {
   "cell_type": "markdown",
   "id": "145cb787-698d-4623-8a22-5829cdf7fab5",
   "metadata": {},
   "source": [
    "# Number of proteins associated with each GO annotation"
   ]
  },
  {
   "cell_type": "code",
   "execution_count": 10,
   "id": "0bde2158-21f7-4dfb-b592-32744b3b2e9f",
   "metadata": {},
   "outputs": [],
   "source": [
    "GO_proteins = pd.read_csv(\"../Processed/enriched_GO_proteins.csv\")\n",
    "\n",
    "# number of proteins that each GO is associated with\n",
    "summary_go_df = pd.DataFrame(GO_proteins.groupby(\"GO\")[\"Gene\"].count()).reset_index().sort_values(\"Gene\", ascending=False).reset_index(drop=True)\n",
    "summary_go_df.columns = [\"GO\", \"num_proteins\"]"
   ]
  },
  {
   "cell_type": "code",
   "execution_count": 11,
   "id": "ff6c061c-5abf-4ffa-862e-5358a135df12",
   "metadata": {},
   "outputs": [
    {
     "data": {
      "image/png": "[encoded data removed]",
      "text/plain": [
       "<Figure size 432x288 with 1 Axes>"
      ]
     },
     "metadata": {
      "needs_background": "light"
     },
     "output_type": "display_data"
    }
   ],
   "source": [
    "plt.hist(summary_go_df.num_proteins.values)\n",
    "sns.despine()\n",
    "plt.show()"
   ]
  },
  {
   "cell_type": "code",
   "execution_count": 12,
   "id": "43efe3d3-ca1d-455e-8916-2b0d3787c674",
   "metadata": {},
   "outputs": [],
   "source": [
    "# these are the 2229 proteins that were queried on PFAM for their domain\n",
    "GO_distances = pd.read_csv(\"../Processed/GO_distances.csv.gz\", compression=\"gzip\")"
   ]
  },
  {
   "cell_type": "code",
   "execution_count": 13,
   "id": "463a067d-7bda-4e60-b2a7-ebe62034ea99",
   "metadata": {},
   "outputs": [
    {
     "data": {
      "text/plain": [
       "(663724, 6)"
      ]
     },
     "execution_count": 13,
     "metadata": {},
     "output_type": "execute_result"
    }
   ],
   "source": [
    "GO_distances.shape"
   ]
  },
  {
   "cell_type": "markdown",
   "id": "132cbd89-de39-4d15-bcde-6a88de904599",
   "metadata": {},
   "source": [
    "## For each pair in the above dataframe, compute how many PFAM domains they share\n",
    "\n",
    "The next cell takes 5-6 minutes to run"
   ]
  },
  {
   "cell_type": "code",
   "execution_count": 14,
   "id": "5bc35544-0ea7-4115-9480-40ea4da7fd73",
   "metadata": {},
   "outputs": [],
   "source": [
    "# start = timeit.default_timer()\n",
    "\n",
    "# # this returns the number of rows containing the same PFAM --> means that they have the same domain\n",
    "# pfam_pairwise_share = [sum(df.loc[df.UniProt.isin([row[\"uniprot_1\"],  row[\"uniprot_2\"]])].duplicated(\"PFAM\")) for _, row in GO_distances.iterrows()]\n",
    "\n",
    "# end = timeit.default_timer()\n",
    "# print(f\"{end-start} seconds\")\n",
    "\n",
    "# # save this for later because it takes a few minutes to run\n",
    "# with open(\"../Processed/pfam_pairwise_share\", \"wb\") as file:\n",
    "#     pickle.dump(pfam_pairwise_share, file, protocol=pickle.HIGHEST_PROTOCOL)"
   ]
  },
  {
   "cell_type": "code",
   "execution_count": 15,
   "id": "4abda0c4-c225-4a95-b28a-e93212751b4b",
   "metadata": {},
   "outputs": [],
   "source": [
    "with open('../Processed/pfam_pairwise_share', 'rb') as file:\n",
    "    pfam_pairwise_share = pickle.load(file)"
   ]
  },
  {
   "cell_type": "code",
   "execution_count": 16,
   "id": "e963c88d-a678-4957-b692-b680bde3237f",
   "metadata": {},
   "outputs": [
    {
     "name": "stdout",
     "output_type": "stream",
     "text": [
      "0.03525561829917255 0.0 13\n"
     ]
    }
   ],
   "source": [
    "print(np.mean(pfam_pairwise_share), np.median(pfam_pairwise_share), np.max(pfam_pairwise_share))"
   ]
  },
  {
   "cell_type": "code",
   "execution_count": 17,
   "id": "3c98a45c-e296-481b-8f47-76aae3ef74a9",
   "metadata": {},
   "outputs": [
    {
     "data": {
      "text/plain": [
       "(663724, 663724)"
      ]
     },
     "execution_count": 17,
     "metadata": {},
     "output_type": "execute_result"
    }
   ],
   "source": [
    "len(pfam_pairwise_share), len(GO_distances)"
   ]
  },
  {
   "cell_type": "markdown",
   "id": "7f68b5a3-67aa-4daa-b3b7-9da3cd9e4c49",
   "metadata": {},
   "source": [
    "# See if proteins that share PFAM domains share GO functions\n",
    "\n",
    "Correlate only protein pairs that share at least 1 PFAM domain and 1 GO function (GO function filtering already done)"
   ]
  },
  {
   "cell_type": "code",
   "execution_count": 18,
   "id": "8fb14455-7510-4478-b0d0-16864b509fe2",
   "metadata": {},
   "outputs": [],
   "source": [
    "GO_distances[\"PFAM_share\"] = pfam_pairwise_share"
   ]
  },
  {
   "cell_type": "code",
   "execution_count": 19,
   "id": "1389db92-d6eb-49a5-8e39-6dd26a180ceb",
   "metadata": {},
   "outputs": [],
   "source": [
    "df_plot = GO_distances.loc[(GO_distances[\"num_GO_overlap\"]>0) & (GO_distances[\"PFAM_share\"]>0)].reset_index(drop=True)"
   ]
  },
  {
   "cell_type": "code",
   "execution_count": 20,
   "id": "8b082a6f-188d-4492-a1b3-5e787b5bed13",
   "metadata": {},
   "outputs": [
    {
     "data": {
      "text/html": [
       "<div>\n",
       "<style scoped>\n",
       "    .dataframe tbody tr th:only-of-type {\n",
       "        vertical-align: middle;\n",
       "    }\n",
       "\n",
       "    .dataframe tbody tr th {\n",
       "        vertical-align: top;\n",
       "    }\n",
       "\n",
       "    .dataframe thead th {\n",
       "        text-align: right;\n",
       "    }\n",
       "</style>\n",
       "<table border=\"1\" class=\"dataframe\">\n",
       "  <thead>\n",
       "    <tr style=\"text-align: right;\">\n",
       "      <th></th>\n",
       "      <th>gene_1</th>\n",
       "      <th>gene_2</th>\n",
       "      <th>Jaccard</th>\n",
       "      <th>num_GO_overlap</th>\n",
       "      <th>uniprot_1</th>\n",
       "      <th>uniprot_2</th>\n",
       "      <th>PFAM_share</th>\n",
       "    </tr>\n",
       "  </thead>\n",
       "  <tbody>\n",
       "    <tr>\n",
       "      <th>0</th>\n",
       "      <td>A1CF</td>\n",
       "      <td>ALYREF</td>\n",
       "      <td>0.333333</td>\n",
       "      <td>1</td>\n",
       "      <td>Q9NQ94</td>\n",
       "      <td>Q86V81</td>\n",
       "      <td>1</td>\n",
       "    </tr>\n",
       "    <tr>\n",
       "      <th>1</th>\n",
       "      <td>A1CF</td>\n",
       "      <td>BOLL</td>\n",
       "      <td>0.500000</td>\n",
       "      <td>2</td>\n",
       "      <td>Q9NQ94</td>\n",
       "      <td>F8WD91</td>\n",
       "      <td>1</td>\n",
       "    </tr>\n",
       "    <tr>\n",
       "      <th>2</th>\n",
       "      <td>A1CF</td>\n",
       "      <td>CELF1</td>\n",
       "      <td>0.500000</td>\n",
       "      <td>2</td>\n",
       "      <td>Q9NQ94</td>\n",
       "      <td>Q92879</td>\n",
       "      <td>1</td>\n",
       "    </tr>\n",
       "    <tr>\n",
       "      <th>3</th>\n",
       "      <td>A1CF</td>\n",
       "      <td>CIRBP</td>\n",
       "      <td>0.400000</td>\n",
       "      <td>2</td>\n",
       "      <td>Q9NQ94</td>\n",
       "      <td>Q14011</td>\n",
       "      <td>1</td>\n",
       "    </tr>\n",
       "    <tr>\n",
       "      <th>4</th>\n",
       "      <td>A1CF</td>\n",
       "      <td>CPEB4</td>\n",
       "      <td>0.285714</td>\n",
       "      <td>2</td>\n",
       "      <td>Q9NQ94</td>\n",
       "      <td>Q17RY0</td>\n",
       "      <td>1</td>\n",
       "    </tr>\n",
       "    <tr>\n",
       "      <th>...</th>\n",
       "      <td>...</td>\n",
       "      <td>...</td>\n",
       "      <td>...</td>\n",
       "      <td>...</td>\n",
       "      <td>...</td>\n",
       "      <td>...</td>\n",
       "      <td>...</td>\n",
       "    </tr>\n",
       "    <tr>\n",
       "      <th>17027</th>\n",
       "      <td>ZNF579</td>\n",
       "      <td>ZNF74</td>\n",
       "      <td>1.000000</td>\n",
       "      <td>1</td>\n",
       "      <td>Q8NAF0</td>\n",
       "      <td>Q16587</td>\n",
       "      <td>1</td>\n",
       "    </tr>\n",
       "    <tr>\n",
       "      <th>17028</th>\n",
       "      <td>ZNF579</td>\n",
       "      <td>ZNF768</td>\n",
       "      <td>1.000000</td>\n",
       "      <td>1</td>\n",
       "      <td>Q8NAF0</td>\n",
       "      <td>Q9H5H4</td>\n",
       "      <td>2</td>\n",
       "    </tr>\n",
       "    <tr>\n",
       "      <th>17029</th>\n",
       "      <td>ZNF622</td>\n",
       "      <td>ZNF638</td>\n",
       "      <td>1.000000</td>\n",
       "      <td>1</td>\n",
       "      <td>Q969S3</td>\n",
       "      <td>Q14966</td>\n",
       "      <td>1</td>\n",
       "    </tr>\n",
       "    <tr>\n",
       "      <th>17030</th>\n",
       "      <td>ZNF622</td>\n",
       "      <td>ZNF768</td>\n",
       "      <td>1.000000</td>\n",
       "      <td>1</td>\n",
       "      <td>Q969S3</td>\n",
       "      <td>Q9H5H4</td>\n",
       "      <td>1</td>\n",
       "    </tr>\n",
       "    <tr>\n",
       "      <th>17031</th>\n",
       "      <td>ZNF74</td>\n",
       "      <td>ZNF768</td>\n",
       "      <td>1.000000</td>\n",
       "      <td>1</td>\n",
       "      <td>Q16587</td>\n",
       "      <td>Q9H5H4</td>\n",
       "      <td>1</td>\n",
       "    </tr>\n",
       "  </tbody>\n",
       "</table>\n",
       "<p>17032 rows × 7 columns</p>\n",
       "</div>"
      ],
      "text/plain": [
       "       gene_1  gene_2   Jaccard  num_GO_overlap uniprot_1 uniprot_2  \\\n",
       "0        A1CF  ALYREF  0.333333               1    Q9NQ94    Q86V81   \n",
       "1        A1CF    BOLL  0.500000               2    Q9NQ94    F8WD91   \n",
       "2        A1CF   CELF1  0.500000               2    Q9NQ94    Q92879   \n",
       "3        A1CF   CIRBP  0.400000               2    Q9NQ94    Q14011   \n",
       "4        A1CF   CPEB4  0.285714               2    Q9NQ94    Q17RY0   \n",
       "...       ...     ...       ...             ...       ...       ...   \n",
       "17027  ZNF579   ZNF74  1.000000               1    Q8NAF0    Q16587   \n",
       "17028  ZNF579  ZNF768  1.000000               1    Q8NAF0    Q9H5H4   \n",
       "17029  ZNF622  ZNF638  1.000000               1    Q969S3    Q14966   \n",
       "17030  ZNF622  ZNF768  1.000000               1    Q969S3    Q9H5H4   \n",
       "17031   ZNF74  ZNF768  1.000000               1    Q16587    Q9H5H4   \n",
       "\n",
       "       PFAM_share  \n",
       "0               1  \n",
       "1               1  \n",
       "2               1  \n",
       "3               1  \n",
       "4               1  \n",
       "...           ...  \n",
       "17027           1  \n",
       "17028           2  \n",
       "17029           1  \n",
       "17030           1  \n",
       "17031           1  \n",
       "\n",
       "[17032 rows x 7 columns]"
      ]
     },
     "execution_count": 20,
     "metadata": {},
     "output_type": "execute_result"
    }
   ],
   "source": [
    "df_plot"
   ]
  },
  {
   "cell_type": "code",
   "execution_count": 21,
   "id": "919232c9-c1e9-4e86-b4a7-032a58458737",
   "metadata": {},
   "outputs": [
    {
     "data": {
      "text/plain": [
       "SpearmanrResult(correlation=0.3022777644336635, pvalue=0.0)"
      ]
     },
     "execution_count": 21,
     "metadata": {},
     "output_type": "execute_result"
    }
   ],
   "source": [
    "test_val = st.spearmanr(df_plot.PFAM_share, df_plot.num_GO_overlap)\n",
    "test_val"
   ]
  },
  {
   "cell_type": "markdown",
   "id": "6e456c5b-56af-4299-aa74-2e138d505b83",
   "metadata": {},
   "source": [
    "### Permutation test for the correlation coefficient (bootstrapping like for what `scipy` computes itself)\n",
    "\n",
    "p-value = proportion of permutations with an absolute value of the correlation at least as large as the observed one."
   ]
  },
  {
   "cell_type": "code",
   "execution_count": 22,
   "id": "93654fae-b666-4550-b7bc-072c9d5a2c03",
   "metadata": {},
   "outputs": [],
   "source": [
    "#0.2-0.25 seconds to run one iteration\n",
    "\n",
    "def shuffle_spearman(data_1, data_2):\n",
    "    \n",
    "    # keep one array fixed, shuffle the other one\n",
    "    data_2_shuffled = np.random.permutation(data_2)\n",
    "    \n",
    "    # compute the correlation coefficient\n",
    "    return st.spearmanr(data_1, data_2_shuffled)[0]"
   ]
  },
  {
   "cell_type": "code",
   "execution_count": 23,
   "id": "5683917f-11ca-41bd-89a5-652e01408fbc",
   "metadata": {},
   "outputs": [],
   "source": [
    "# should take 3 minutes and 20 seconds to run\n",
    "shuffled_corrs = [shuffle_spearman(df_plot.PFAM_share, df_plot.num_GO_overlap) for _ in range(10000)]"
   ]
  },
  {
   "cell_type": "code",
   "execution_count": 24,
   "id": "376e1479-341d-4339-a471-2a7abb0b1f61",
   "metadata": {},
   "outputs": [
    {
     "data": {
      "image/png": "[encoded data removed]",
      "text/plain": [
       "<Figure size 432x288 with 1 Axes>"
      ]
     },
     "metadata": {
      "needs_background": "light"
     },
     "output_type": "display_data"
    }
   ],
   "source": [
    "# cool, so it is significant\n",
    "plt.hist(shuffled_corrs)\n",
    "sns.despine()\n",
    "#plt.axvline(test_val[0], color=\"purple\")\n",
    "plt.xlabel(\"Spearman rho\")\n",
    "plt.show()"
   ]
  },
  {
   "cell_type": "code",
   "execution_count": 25,
   "id": "5aa2d39a-f997-47c9-b3d3-4b6661317ee9",
   "metadata": {},
   "outputs": [
    {
     "data": {
      "text/plain": [
       "0.0"
      ]
     },
     "execution_count": 25,
     "metadata": {},
     "output_type": "execute_result"
    }
   ],
   "source": [
    "# significant because the sample size is so large. But at least the correlation coefficient is not that close to 0\n",
    "p_val = np.sum(np.abs(shuffled_corrs) > np.abs(test_val[0])) / len(shuffled_corrs)\n",
    "p_val"
   ]
  },
  {
   "cell_type": "code",
   "execution_count": null,
   "id": "1fc78117-1115-44f8-afbc-47869d24fc62",
   "metadata": {},
   "outputs": [],
   "source": []
  }
 ],
 "metadata": {
  "kernelspec": {
   "display_name": "Python 3 (ipykernel)",
   "language": "python",
   "name": "python3"
  },
  "language_info": {
   "codemirror_mode": {
    "name": "ipython",
    "version": 3
   },
   "file_extension": ".py",
   "mimetype": "text/x-python",
   "name": "python",
   "nbconvert_exporter": "python",
   "pygments_lexer": "ipython3",
   "version": "3.8.12"
  }
 },
 "nbformat": 4,
 "nbformat_minor": 5
}

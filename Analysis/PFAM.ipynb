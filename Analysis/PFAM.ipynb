{
 "cells": [
  {
   "cell_type": "code",
   "execution_count": 78,
   "id": "546e7b82-149a-43a4-912d-f7f7ca3470ef",
   "metadata": {},
   "outputs": [],
   "source": [
    "import numpy as np\n",
    "import pandas as pd\n",
    "\n",
    "import matplotlib.pyplot as plt\n",
    "import seaborn as sns\n",
    "\n",
    "plt.rcParams['figure.dpi'] = 150\n",
    "import glob, os, json\n",
    "\n",
    "from sklearn.decomposition import PCA\n",
    "from sklearn.cluster import DBSCAN\n",
    "\n",
    "import scipy.stats as st\n",
    "import timeit\n",
    "import pickle"
   ]
  },
  {
   "cell_type": "markdown",
   "id": "dfcf3191-774c-47e5-9d97-3a589dfdbbe0",
   "metadata": {},
   "source": [
    "# Download HMMER data from the 5 batch jobs using the `03_download_hmmer.py` script\n",
    "\n",
    "```console\n",
    "python3 03_download_hmmer.py Data/PFAM_1 497 \"https://www.ebi.ac.uk/Tools/hmmer/download/1FE2F0A6-CA49-11EC-974F-F6D253F04F9B.\"\n",
    "\n",
    "python3 03_download_hmmer.py Data/PFAM_2 500 \"https://www.ebi.ac.uk/Tools/hmmer/download/CB06B1F0-CAEB-11EC-8D9A-2EC1F75AEC3D.\"\n",
    "\n",
    "python3 03_download_hmmer.py Data/PFAM_3 499 \"https://www.ebi.ac.uk/Tools/hmmer/download/E28DC60E-CAF2-11EC-9059-76DC53F04F9B.\"\n",
    "\n",
    "python3 03_download_hmmer.py Data/PFAM_4 499 \"https://www.ebi.ac.uk/Tools/hmmer/download/9E92817A-CB05-11EC-9159-81C8DBC3747A.\"\n",
    "\n",
    "python3 03_download_hmmer.py Data/PFAM_5 229 \"https://www.ebi.ac.uk/Tools/hmmer/download/C12F13AA-CB0B-11EC-9455-13DE53F04F9B.\"\n",
    "\n",
    "python3 03_download_hmmer.py Data/PFAM_6 497 \"https://www.ebi.ac.uk/Tools/hmmer/download/328DF478-CB69-11EC-85E8-784CF75AEC3D.\"\n",
    "\n",
    "python3 03_download_hmmer.py Data/PFAM_7 156 \"https://www.ebi.ac.uk/Tools/hmmer/download/3BEE450E-CB69-11EC-ADB3-EEE553F04F9B.\"\n",
    "```"
   ]
  },
  {
   "cell_type": "markdown",
   "id": "d79ffe5f-db9d-4173-99ba-13eb21c8b68c",
   "metadata": {},
   "source": [
    "# Combine HMMER data for each protein in a batch using `04_process_hmmer.py`\n",
    "\n",
    "```console\n",
    "python3 04_process_hmmer.py Data/PFAM_1 Data/proteins_seq_small_1.fasta Data/batch_1\n",
    "\n",
    "python3 04_process_hmmer.py Data/PFAM_2 Data/proteins_seq_small_2.fasta Data/batch_2\n",
    "\n",
    "python3 04_process_hmmer.py Data/PFAM_3 Data/proteins_seq_small_3.fasta Data/batch_3\n",
    "\n",
    "python3 04_process_hmmer.py Data/PFAM_4 Data/proteins_seq_small_4.fasta Data/batch_4\n",
    "\n",
    "python3 04_process_hmmer.py Data/PFAM_5 Data/proteins_seq_small_5.fasta Data/batch_5\n",
    "\n",
    "python3 04_process_hmmer.py Data/PFAM_6 Data/proteins_seq_small_6.fasta Data/batch_6\n",
    "\n",
    "python3 04_process_hmmer.py Data/PFAM_7 Data/proteins_seq_small_7.fasta Data/batch_7\n",
    "```"
   ]
  },
  {
   "cell_type": "markdown",
   "id": "db27ae26-9100-442f-b1e9-6df19a35a0dd",
   "metadata": {},
   "source": [
    "# 8 Proteins longer than 5000 had to be queried using their UniProt ID\n",
    "\n",
    "## Following esults determined manually\n",
    "\n",
    "Q9NU22: 8 AAA_5, 3 AAA_lid_7, 1 AAA_lid_5\n",
    "\n",
    "P58107: 36 Plectin\n",
    "\n",
    "Q8NF91: 2 CH, 10 Spectrin, 1 KASH\n",
    "\n",
    "Q03001: 2 CH, 20 Spectrin, 1 SH3_10, 1 Spectrin_like, 1 Plectin, 1 EF-hand_7, 1 GAS2\n",
    "\n",
    "Q09666: 0 (only disordered and low complexity regions)\n",
    "\n",
    "A6NGQ3: 61 I-set, 2 fn3, 1 IQ, 2 Pkinase, 1 RhoGEF\n",
    "\n",
    "Titin (Q8WZ42) I think it should just be removed because it's a gigantic protein and definitely a strong outlier\n",
    "\n",
    "H3BQK9: 2 CH, 1 EF-hand_7, 1 SH3_10, 1 Spectrin_like, 8 Plectin, 17 Spectrin, 1 GAS2\n",
    "\n",
    "<b>If a results file is not present in the expected directory, it means that no domains were found.</b>\n",
    "\n",
    "## Encode them in dataframes as follows (done already and combined with the main dataframe):"
   ]
  },
  {
   "cell_type": "code",
   "execution_count": 56,
   "id": "d025c16e-6b8e-414d-a941-80aea886570a",
   "metadata": {},
   "outputs": [],
   "source": [
    "df_2 = pd.DataFrame({'UniProt': ['Q9NU22', 'Q9NU22', 'Q9NU22'], 'PFAM': ['AAA_5', 'AAA_lid_7', 'AAA_lid_5'], 'Count': [8, 3, 1]})\n",
    "df_3 = pd.DataFrame({'UniProt': ['P58107'], 'PFAM': ['Plectin'], 'Count': [36]})\n",
    "df_4 = pd.DataFrame({'UniProt': ['Q8NF91', 'Q8NF91', 'Q8NF91'], 'PFAM': ['CH', 'Spectrin', 'KASH'], 'Count': [2, 10, 1]})\n",
    "df_5 = pd.DataFrame({'UniProt': ['Q03001', 'Q03001', 'Q03001', 'Q03001', 'Q03001', 'Q03001', 'Q03001'], 'PFAM': ['CH', 'Spectrin', 'SH3_10', 'Spectrin_like', 'Plectin', 'EF-hand_7', 'GAS2'], 'Count': [2, 20, 1, 1, 1, 1, 1]})\n",
    "df_6 = pd.DataFrame({'UniProt': ['A6NGQ3', 'A6NGQ3', 'A6NGQ3', 'A6NGQ3', 'A6NGQ3'], 'PFAM': ['I-set', 'fn3', 'IQ', 'Pkinase', 'RhoGEF'],\n",
    "                    'Count': [61, 2, 1, 2, 1]})\n",
    "\n",
    "df_7 = pd.DataFrame({'UniProt': ['H3BQK9', 'H3BQK9', 'H3BQK9', 'H3BQK9', 'H3BQK9', 'H3BQK9', 'H3BQK9'],\n",
    "                    'PFAM': ['CH', 'EF-hand_7', 'SH3_10', 'Spectrin_like', 'Plectin', 'Spectrin', 'GAS2'], 'Count': [2, 1, 1, 1, 8, 17, 1]})"
   ]
  },
  {
   "cell_type": "code",
   "execution_count": 57,
   "id": "d2532e14-a8b6-4a90-9416-9f6adece9d2f",
   "metadata": {},
   "outputs": [],
   "source": [
    "# sanity check that no proteins were lost during processing\n",
    "files = glob.glob(\"../Data/batch_*.csv\")\n",
    "batch_dfs = [pd.read_csv(f) for f in files]\n",
    "batches_df = pd.concat(batch_dfs)\n",
    "\n",
    "# add the 6 proteins searched manually above\n",
    "df_final = pd.concat([batches_df, df_2, df_3, df_4, df_5, df_6, df_7])\n",
    "\n",
    "# check that there are no duplicated entries (which would mean that there are also missing entries)\n",
    "assert df_final.shape == df_final.drop_duplicates().shape\n",
    "\n",
    "df_final.to_csv(\"../Processed/protein_domains.csv\", index=False)"
   ]
  },
  {
   "cell_type": "code",
   "execution_count": 58,
   "id": "aee81bec-741f-4dae-85f7-a2e126db44fa",
   "metadata": {},
   "outputs": [
    {
     "name": "stdout",
     "output_type": "stream",
     "text": [
      "(7061, 3)\n",
      "2740 proteins\n"
     ]
    }
   ],
   "source": [
    "df = pd.read_csv(\"../Processed/protein_domains.csv\")\n",
    "print(df.shape)\n",
    "print(f\"{len(df.UniProt.unique())} proteins\")"
   ]
  },
  {
   "cell_type": "markdown",
   "id": "9d21c72b-b56b-432d-aa99-3707ef944e64",
   "metadata": {},
   "source": [
    "# Distribution of Protein Domains in the dataset"
   ]
  },
  {
   "cell_type": "code",
   "execution_count": 59,
   "id": "e5853455-5e04-44f4-b160-bd9020961a3a",
   "metadata": {},
   "outputs": [
    {
     "data": {
      "image/png": "[encoded data removed]",
      "text/plain": [
       "<Figure size 900x600 with 1 Axes>"
      ]
     },
     "metadata": {
      "needs_background": "light"
     },
     "output_type": "display_data"
    }
   ],
   "source": [
    "# count the number of proteins containing a given domain\n",
    "summary_df = pd.DataFrame(df.groupby(\"PFAM\")[\"UniProt\"].count()).sort_values(\"UniProt\", ascending=False).reset_index()\n",
    "plt.hist(np.log(summary_df[\"UniProt\"]))\n",
    "\n",
    "plt.title(\"Distribution of # of Proteins Containing a PFAM Domain\")\n",
    "plt.xlabel(\"Log(# of Proteins)\")\n",
    "sns.despine()\n",
    "plt.show()"
   ]
  },
  {
   "cell_type": "markdown",
   "id": "aa6a4ec4-2b0c-4dc2-b8cc-63097b68b71f",
   "metadata": {},
   "source": [
    "# Unsupervised Methods\n",
    "\n",
    "## Principal Components Analysis -- not very informative b/c of such low explained variance and poor clustering\n",
    "\n",
    "### No significant Spearman correlations between domains and PCs\n",
    "\n",
    "### Was trying to see if proteins with shared GO functions would cluster together in protein domain space\n",
    "\n",
    "### Kind of suggestive that's a very weak correlation between sharing GO functions and protein domains"
   ]
  },
  {
   "cell_type": "code",
   "execution_count": 63,
   "id": "650d8b39-ddf2-4326-91af-d632d38aca9c",
   "metadata": {},
   "outputs": [
    {
     "data": {
      "image/png": "[encoded data removed]",
      "text/plain": [
       "<Figure size 900x600 with 1 Axes>"
      ]
     },
     "metadata": {
      "needs_background": "light"
     },
     "output_type": "display_data"
    }
   ],
   "source": [
    "# first check using the elbow method\n",
    "n = 10\n",
    "\n",
    "# use the whole matrix for now\n",
    "data = df.pivot(index=\"UniProt\", columns=\"PFAM\", values=\"Count\").fillna(0).astype(int)\n",
    "\n",
    "pca_large = PCA(n_components=n).fit(data.values)\n",
    "\n",
    "plt.plot(np.arange(1, n+1), pca_large.explained_variance_)\n",
    "sns.despine()\n",
    "plt.xticks(np.arange(1, n+1))\n",
    "plt.xlabel(\"Component\")\n",
    "plt.ylabel(\"Explained Variance\")\n",
    "plt.show()"
   ]
  },
  {
   "cell_type": "code",
   "execution_count": 64,
   "id": "a060a860-a60b-43fc-b63b-3ad584b25735",
   "metadata": {},
   "outputs": [
    {
     "data": {
      "text/plain": [
       "(0, 0)"
      ]
     },
     "execution_count": 64,
     "metadata": {},
     "output_type": "execute_result"
    }
   ],
   "source": [
    "# check that no proteins or domains have 0 representation\n",
    "sum(data.sum(axis=1)==0), sum(data.sum(axis=1)==0)"
   ]
  },
  {
   "cell_type": "code",
   "execution_count": 65,
   "id": "685d04b7-b593-4afe-936d-5c41a37dec65",
   "metadata": {},
   "outputs": [
    {
     "name": "stdout",
     "output_type": "stream",
     "text": [
      "Explained variances: [1.83605876 1.67363508]\n"
     ]
    },
    {
     "data": {
      "image/png": "[encoded data removed]",
      "text/plain": [
       "<Figure size 900x600 with 1 Axes>"
      ]
     },
     "metadata": {
      "needs_background": "light"
     },
     "output_type": "display_data"
    }
   ],
   "source": [
    "# dbscan = DBSCAN(min_samples=3).fit(matrix_domains_high.values)\n",
    "# print(f\"{np.max(dbscan.labels_)+1} clusters found\")\n",
    "\n",
    "pca = PCA(n_components=2).fit(data.values)\n",
    "\n",
    "print(f\"Explained variances: {pca.explained_variance_}\")\n",
    "\n",
    "pca_transformed = pca.transform(data.values)\n",
    "\n",
    "pca_df = pd.DataFrame(pca_transformed)\n",
    "\n",
    "pca_df.columns = [\"PC1\", \"PC2\"]\n",
    "\n",
    "pca_df[\"UniProt\"] = data.index\n",
    "\n",
    "# -1 cluster means too disordered\n",
    "#pca_df[\"Cluster\"] = dbscan.labels_\n",
    "\n",
    "sns.scatterplot(data=pca_df, x=\"PC1\", y=\"PC2\", \n",
    "                #hue=\"Cluster\", \n",
    "                #palette=\"viridis\"\n",
    "               )\n",
    "sns.despine()\n",
    "plt.show()"
   ]
  },
  {
   "cell_type": "code",
   "execution_count": 66,
   "id": "48b283e4-ac45-4cb1-aed3-cb21ec9568bb",
   "metadata": {},
   "outputs": [],
   "source": [
    "spearman_res = [[data.columns[i], st.spearmanr(pca_df.PC1, data.iloc[:, i])] for i in range(n)]\n",
    "\n",
    "pvalues_pc1, spearman_rhos_pc1 = list(zip(*spearman_res))"
   ]
  },
  {
   "cell_type": "code",
   "execution_count": 67,
   "id": "6c514189-d74b-4616-b9d1-dcd5d300ed80",
   "metadata": {},
   "outputs": [],
   "source": [
    "for domain, res in spearman_res:\n",
    "    \n",
    "    if res[1] < 0.05:\n",
    "        print(domain, res[0])"
   ]
  },
  {
   "cell_type": "markdown",
   "id": "145cb787-698d-4623-8a22-5829cdf7fab5",
   "metadata": {},
   "source": [
    "# See if proteins that share PFAM domains share GO functions"
   ]
  },
  {
   "cell_type": "code",
   "execution_count": 68,
   "id": "0bde2158-21f7-4dfb-b592-32744b3b2e9f",
   "metadata": {},
   "outputs": [],
   "source": [
    "GO_proteins = pd.read_csv(\"../Processed/enriched_GO_proteins.csv\")\n",
    "GO_small = GO_proteins.loc[GO_proteins[\"UniProt\"].isin(matrix_domains_high.index)]\n",
    "\n",
    "# put it in matrix form\n",
    "matrix_GO = GO_small.pivot(index=\"Gene\", columns=\"GO\")\n",
    "matrix_GO = matrix_GO.where(~matrix_GO. notna(), 1)\n",
    "matrix_GO = matrix_GO.fillna(0)"
   ]
  },
  {
   "cell_type": "code",
   "execution_count": 69,
   "id": "da33f86e-0e9f-4dd1-acd6-81cde7b5b4b0",
   "metadata": {},
   "outputs": [],
   "source": [
    "# number of proteins that each GO is associated with\n",
    "summary_go_df = pd.DataFrame(GO_small.groupby(\"GO\")[\"Gene\"].count()).reset_index().sort_values(\"Gene\", ascending=False).reset_index(drop=True)\n",
    "summary_go_df.columns = [\"GO\", \"num_proteins\"]"
   ]
  },
  {
   "cell_type": "code",
   "execution_count": 70,
   "id": "ff6c061c-5abf-4ffa-862e-5358a135df12",
   "metadata": {},
   "outputs": [
    {
     "data": {
      "image/png": "[encoded data removed]",
      "text/plain": [
       "<Figure size 900x600 with 1 Axes>"
      ]
     },
     "metadata": {
      "needs_background": "light"
     },
     "output_type": "display_data"
    }
   ],
   "source": [
    "plt.hist(summary_go_df.num_proteins.values)\n",
    "sns.despine()\n",
    "plt.show()"
   ]
  },
  {
   "cell_type": "code",
   "execution_count": 71,
   "id": "43efe3d3-ca1d-455e-8916-2b0d3787c674",
   "metadata": {},
   "outputs": [],
   "source": [
    "# these are the 2229 proteins that were queried on PFAM for their domain\n",
    "GO_jaccard = pd.read_csv(\"../Processed/jaccard_non_zero.csv.gz\", compression=\"gzip\")"
   ]
  },
  {
   "cell_type": "markdown",
   "id": "132cbd89-de39-4d15-bcde-6a88de904599",
   "metadata": {},
   "source": [
    "## For each pair in the above dataframe, compute how many PFAM domains they share\n",
    "\n",
    "The next cell takes 3-4 minutes to run"
   ]
  },
  {
   "cell_type": "code",
   "execution_count": 72,
   "id": "5bc35544-0ea7-4115-9480-40ea4da7fd73",
   "metadata": {},
   "outputs": [
    {
     "name": "stdout",
     "output_type": "stream",
     "text": [
      "466.169546375 seconds\n"
     ]
    }
   ],
   "source": [
    "# start = timeit.default_timer()\n",
    "\n",
    "# # this returns the number of rows containing the same PFAM --> means that they have the same domain\n",
    "# pfam_pairwise_share = [sum(df.loc[df.UniProt.isin([row[\"uniprot_1\"],  row[\"uniprot_2\"]])].duplicated(\"PFAM\")) for _, row in GO_jaccard.iterrows()]\n",
    "\n",
    "# end = timeit.default_timer()\n",
    "# print(f\"{end-start} seconds\")\n",
    "\n",
    "# # save this because it takes a few minutes to run\n",
    "# with open(\"../Processed/pfam_pairwise_share\", \"wb\") as file:\n",
    "#     pickle.dump(pfam_pairwise_share, file, protocol=pickle.HIGHEST_PROTOCOL)"
   ]
  },
  {
   "cell_type": "code",
   "execution_count": 80,
   "id": "4abda0c4-c225-4a95-b28a-e93212751b4b",
   "metadata": {},
   "outputs": [],
   "source": [
    "with open('../Processed/pfam_pairwise_share', 'rb') as file:\n",
    "    pfam_pairwise_share = pickle.load(file)"
   ]
  },
  {
   "cell_type": "code",
   "execution_count": 81,
   "id": "e963c88d-a678-4957-b692-b680bde3237f",
   "metadata": {},
   "outputs": [
    {
     "name": "stdout",
     "output_type": "stream",
     "text": [
      "0.04319052725046919 0.0 10\n"
     ]
    }
   ],
   "source": [
    "print(np.mean(pfam_pairwise_share), np.median(pfam_pairwise_share), np.max(pfam_pairwise_share))"
   ]
  },
  {
   "cell_type": "code",
   "execution_count": 82,
   "id": "3c98a45c-e296-481b-8f47-76aae3ef74a9",
   "metadata": {},
   "outputs": [
    {
     "data": {
      "text/plain": [
       "(802977, 802977)"
      ]
     },
     "execution_count": 82,
     "metadata": {},
     "output_type": "execute_result"
    }
   ],
   "source": [
    "len(pfam_pairwise_share), len(GO_jaccard)"
   ]
  },
  {
   "cell_type": "code",
   "execution_count": 83,
   "id": "919232c9-c1e9-4e86-b4a7-032a58458737",
   "metadata": {},
   "outputs": [
    {
     "data": {
      "text/plain": [
       "SpearmanrResult(correlation=0.03693451687206049, pvalue=2.2882333608674093e-240)"
      ]
     },
     "execution_count": 83,
     "metadata": {},
     "output_type": "execute_result"
    }
   ],
   "source": [
    "# need to do FDR\n",
    "st.spearmanr(GO_jaccard.Jaccard, pfam_pairwise_share)"
   ]
  },
  {
   "cell_type": "markdown",
   "id": "697e25a1-c13c-48a9-ac8c-688d5796cf22",
   "metadata": {},
   "source": [
    "## Need to look further at types of GO functions and see if they're important in i.e. immune defense"
   ]
  },
  {
   "cell_type": "code",
   "execution_count": null,
   "id": "e91412b7-d53a-46ef-ab07-461375370525",
   "metadata": {},
   "outputs": [],
   "source": []
  },
  {
   "cell_type": "code",
   "execution_count": null,
   "id": "fd3d96b0-2c5d-4263-93b0-c09bbf8dbd5b",
   "metadata": {},
   "outputs": [],
   "source": []
  },
  {
   "cell_type": "code",
   "execution_count": null,
   "id": "d5ec92bb-3616-476b-92d5-8830f7511cdf",
   "metadata": {},
   "outputs": [],
   "source": []
  }
 ],
 "metadata": {
  "kernelspec": {
   "display_name": "Python 3 (ipykernel)",
   "language": "python",
   "name": "python3"
  },
  "language_info": {
   "codemirror_mode": {
    "name": "ipython",
    "version": 3
   },
   "file_extension": ".py",
   "mimetype": "text/x-python",
   "name": "python",
   "nbconvert_exporter": "python",
   "pygments_lexer": "ipython3",
   "version": "3.8.12"
  }
 },
 "nbformat": 4,
 "nbformat_minor": 5
}

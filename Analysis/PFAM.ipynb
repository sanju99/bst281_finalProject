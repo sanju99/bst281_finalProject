{
 "cells": [
  {
   "cell_type": "code",
   "execution_count": 64,
   "id": "546e7b82-149a-43a4-912d-f7f7ca3470ef",
   "metadata": {},
   "outputs": [],
   "source": [
    "import numpy as np\n",
    "import pandas as pd\n",
    "\n",
    "import matplotlib.pyplot as plt\n",
    "import seaborn as sns\n",
    "\n",
    "plt.rcParams['figure.dpi'] = 150\n",
    "import glob, os, json\n",
    "\n",
    "from sklearn.decomposition import PCA\n",
    "from sklearn.cluster import DBSCAN\n",
    "import scipy.cluster.hierarchy as shc\n",
    "\n",
    "import scipy.stats as st\n",
    "import timeit"
   ]
  },
  {
   "cell_type": "markdown",
   "id": "dfcf3191-774c-47e5-9d97-3a589dfdbbe0",
   "metadata": {},
   "source": [
    "# Download HMMER data from the 5 batch jobs using the `03_download_hmmer.py` script\n",
    "\n",
    "```console\n",
    "python3 03_download_hmmer.py Data/PFAM_1 497 \"https://www.ebi.ac.uk/Tools/hmmer/download/1FE2F0A6-CA49-11EC-974F-F6D253F04F9B.\"\n",
    "\n",
    "python3 03_download_hmmer.py Data/PFAM_2 500 \"https://www.ebi.ac.uk/Tools/hmmer/download/CB06B1F0-CAEB-11EC-8D9A-2EC1F75AEC3D.\"\n",
    "\n",
    "python3 03_download_hmmer.py Data/PFAM_3 499 \"https://www.ebi.ac.uk/Tools/hmmer/download/E28DC60E-CAF2-11EC-9059-76DC53F04F9B.\"\n",
    "\n",
    "python3 03_download_hmmer.py Data/PFAM_4 499 \"https://www.ebi.ac.uk/Tools/hmmer/download/9E92817A-CB05-11EC-9159-81C8DBC3747A.\"\n",
    "\n",
    "python3 03_download_hmmer.py Data/PFAM_5 229 \"https://www.ebi.ac.uk/Tools/hmmer/download/C12F13AA-CB0B-11EC-9455-13DE53F04F9B.\"\n",
    "\n",
    "python3 03_download_hmmer.py Data/PFAM_6 497 \"https://www.ebi.ac.uk/Tools/hmmer/download/C12F13AA-CB0B-11EC-9455-13DE53F04F9B.\"\n",
    "\n",
    "python3 03_download_hmmer.py Data/PFAM_7 91 \"https://www.ebi.ac.uk/Tools/hmmer/download/C12F13AA-CB0B-11EC-9455-13DE53F04F9B.\"\n",
    "```"
   ]
  },
  {
   "cell_type": "markdown",
   "id": "d79ffe5f-db9d-4173-99ba-13eb21c8b68c",
   "metadata": {},
   "source": [
    "# Combine HMMER data for each protein in a batch using `04_process_hmmer.py`\n",
    "\n",
    "```console\n",
    "python3 04_process_hmmer.py Data/PFAM_1 Data/proteins_seq_small_1.fasta Data/PFAM/batch_1\n",
    "\n",
    "python3 04_process_hmmer.py Data/PFAM_2 Data/proteins_seq_small_2.fasta Data/PFAM/batch_2\n",
    "\n",
    "python3 04_process_hmmer.py Data/PFAM_3 Data/proteins_seq_small_3.fasta Data/PFAM/batch_3\n",
    "\n",
    "python3 04_process_hmmer.py Data/PFAM_4 Data/proteins_seq_small_4.fasta Data/PFAM/batch_4\n",
    "\n",
    "python3 04_process_hmmer.py Data/PFAM_5 Data/proteins_seq_small_5.fasta Data/PFAM/batch_5\n",
    "\n",
    "python3 04_process_hmmer.py Data/PFAM_6 Data/proteins_seq_small_6.fasta Data/PFAM/batch_6\n",
    "\n",
    "python3 04_process_hmmer.py Data/PFAM_7 Data/proteins_seq_small_7.fasta Data/PFAM/batch_7\n",
    "```"
   ]
  },
  {
   "cell_type": "markdown",
   "id": "db27ae26-9100-442f-b1e9-6df19a35a0dd",
   "metadata": {},
   "source": [
    "# 8 Proteins longer than 5000 had to be queried using their UniProt ID\n",
    "\n",
    "## Following esults determined manually\n",
    "\n",
    "Q9NU22: 8 AAA_5, 3 AAA_lid_7, 1 AAA_lid_5\n",
    "\n",
    "P58107: 36 Plectin\n",
    "\n",
    "Q8NF91: 2 CH, 10 Spectrin, 1 KASH\n",
    "\n",
    "Q03001: 2 CH, 20 Spectrin, 1 SH3_10, 1 Spectrin_like, 1 Plectin, 1 EF-hand_7, 1 GAS2\n",
    "\n",
    "Q09666: 0 (only disordered and low complexity regions)\n",
    "\n",
    "A6NGQ3: 61 I-set, 2 fn3, 1 IQ, 2 Pkinase, 1 RhoGEF\n",
    "\n",
    "Titin (Q8WZ42) I think it should just be removed because it's a gigantic protein and definitely a strong outlier\n",
    "\n",
    "H3BQK9: 2 CH, 1 EF-hand_7, 1 SH3_10, 1 Spectrin_like, 8 Plectin, 17 Spectrin, 1 GAS2\n",
    "\n",
    "<b>If a results file is not present in the expected directory, it means that no domains were found.</b>\n",
    "\n",
    "## Encode them in dataframes as follows (done already and combined with the main dataframe):"
   ]
  },
  {
   "cell_type": "code",
   "execution_count": 78,
   "id": "d025c16e-6b8e-414d-a941-80aea886570a",
   "metadata": {},
   "outputs": [],
   "source": [
    "# df_2 = pd.DataFrame({'UniProt': ['Q9NU22', 'Q9NU22', 'Q9NU22'], 'PFAM': ['AAA_5', 'AAA_lid_7', 'AAA_lid_5'], 'Count': [8, 3, 1]})\n",
    "# df_3 = pd.DataFrame({'UniProt': ['P58107'], 'PFAM': ['Plectin'], 'Count': [36]})\n",
    "# df_4 = pd.DataFrame({'UniProt': ['Q8NF91', 'Q8NF91', 'Q8NF91'], 'PFAM': ['CH', 'Spectrin', 'KASH'], 'Count': [2, 10, 1]})\n",
    "# df_5 = pd.DataFrame({'UniProt': ['Q03001', 'Q03001', 'Q03001', 'Q03001', 'Q03001', 'Q03001', 'Q03001'], 'PFAM': ['CH', 'Spectrin', 'SH3_10', 'Spectrin_like', 'Plectin', 'EF-hand_7', 'GAS2'], 'Count': [2, 20, 1, 1, 1, 1, 1]})\n",
    "\n",
    "df_6 = pd.DataFrame({'UniProt': ['A6NGQ3', 'A6NGQ3', 'A6NGQ3', 'A6NGQ3', 'A6NGQ3'], 'PFAM': ['I-set', 'fn3', 'IQ', 'Pkinase', 'RhoGEF'],\n",
    "                    'Count': [61, 2, 1, 2, 1]})\n",
    "\n",
    "df_7 = pd.DataFrame({'UniProt': ['H3BQK9', 'H3BQK9', 'H3BQK9', 'H3BQK9', 'H3BQK9', 'H3BQK9', 'H3BQK9'],\n",
    "                    'PFAM': ['CH', 'EF-hand_7', 'SH3_10', 'Spectrin_like', 'Plectin', 'Spectrin', 'GAS2'], 'Count': [2, 1, 1, 1, 8, 17, 1]})"
   ]
  },
  {
   "cell_type": "code",
   "execution_count": null,
   "id": "dc64f6ed-bfc8-4a7f-8447-0643c542fa1e",
   "metadata": {},
   "outputs": [],
   "source": [
    "# 7 batch files were previously combined into this file\n",
    "df = pd.read_csv(\"../Processed/protein_domains.csv\")\n",
    "\n",
    "#pd.concat([df, df_6, df_7]).to_csv(\"../Processed/protein_domains.csv\", index=False)"
   ]
  },
  {
   "cell_type": "markdown",
   "id": "9d21c72b-b56b-432d-aa99-3707ef944e64",
   "metadata": {},
   "source": [
    "# Distribution of Protein Domains in the dataset"
   ]
  },
  {
   "cell_type": "code",
   "execution_count": 5,
   "id": "e5853455-5e04-44f4-b160-bd9020961a3a",
   "metadata": {},
   "outputs": [
    {
     "data": {
      "image/png": "[encoded data removed]",
      "text/plain": [
       "<Figure size 900x600 with 1 Axes>"
      ]
     },
     "metadata": {
      "needs_background": "light"
     },
     "output_type": "display_data"
    }
   ],
   "source": [
    "# count the number of proteins containing a given domain\n",
    "summary_df = pd.DataFrame(df.groupby(\"PFAM\")[\"UniProt\"].count()).sort_values(\"UniProt\", ascending=False).reset_index()\n",
    "plt.hist(np.log(summary_df[\"UniProt\"]))\n",
    "\n",
    "plt.title(\"Distribution of # of Proteins Containing a PFAM Domain\")\n",
    "plt.xlabel(\"Log(# of Proteins)\")\n",
    "sns.despine()\n",
    "plt.show()"
   ]
  },
  {
   "cell_type": "markdown",
   "id": "ffb2bd7d-a913-4d1b-955f-22a2ce004866",
   "metadata": {},
   "source": [
    "# Take the top N domains?"
   ]
  },
  {
   "cell_type": "code",
   "execution_count": 43,
   "id": "ec7b5240-6fb3-49d0-86d5-408702aa566c",
   "metadata": {},
   "outputs": [
    {
     "data": {
      "text/plain": [
       "array(['PK_Tyr_Ser-Thr', 'Pkinase', 'RRM_1', 'Helicase_C', 'SH3_1',\n",
       "       'SH3_2', 'SH3_9', 'SH2', 'DEAD', 'PDZ'], dtype=object)"
      ]
     },
     "execution_count": 43,
     "metadata": {},
     "output_type": "execute_result"
    }
   ],
   "source": [
    "domains_high = summary_df.PFAM.values[:10]\n",
    "domains_high"
   ]
  },
  {
   "cell_type": "code",
   "execution_count": 39,
   "id": "22928da9-e37d-48b8-a910-2686fe5950b8",
   "metadata": {},
   "outputs": [],
   "source": [
    "# convert to matrix format for the following analyses\n",
    "matrix_domains_high = df.loc[df.PFAM.isin(domains_high)].pivot(index=\"UniProt\", columns=\"PFAM\", values=\"Count\").fillna(0).astype(int)"
   ]
  },
  {
   "cell_type": "code",
   "execution_count": 40,
   "id": "342b14b1-ab6a-4450-b0c7-4522c938d037",
   "metadata": {},
   "outputs": [
    {
     "data": {
      "text/html": [
       "<div>\n",
       "<style scoped>\n",
       "    .dataframe tbody tr th:only-of-type {\n",
       "        vertical-align: middle;\n",
       "    }\n",
       "\n",
       "    .dataframe tbody tr th {\n",
       "        vertical-align: top;\n",
       "    }\n",
       "\n",
       "    .dataframe thead th {\n",
       "        text-align: right;\n",
       "    }\n",
       "</style>\n",
       "<table border=\"1\" class=\"dataframe\">\n",
       "  <thead>\n",
       "    <tr style=\"text-align: right;\">\n",
       "      <th>PFAM</th>\n",
       "      <th>AAA</th>\n",
       "      <th>AAA_lid_3</th>\n",
       "      <th>ABC_tran</th>\n",
       "      <th>Ank</th>\n",
       "      <th>Ank_2</th>\n",
       "      <th>Ank_3</th>\n",
       "      <th>Ank_4</th>\n",
       "      <th>Ank_5</th>\n",
       "      <th>Arf</th>\n",
       "      <th>Arm</th>\n",
       "      <th>...</th>\n",
       "      <th>zf-C2H2</th>\n",
       "      <th>zf-C2H2_4</th>\n",
       "      <th>zf-C3HC4</th>\n",
       "      <th>zf-C3HC4_2</th>\n",
       "      <th>zf-C3HC4_3</th>\n",
       "      <th>zf-CCCH</th>\n",
       "      <th>zf-CCHC</th>\n",
       "      <th>zf-RING_2</th>\n",
       "      <th>zf-RING_UBOX</th>\n",
       "      <th>zf-met</th>\n",
       "    </tr>\n",
       "    <tr>\n",
       "      <th>UniProt</th>\n",
       "      <th></th>\n",
       "      <th></th>\n",
       "      <th></th>\n",
       "      <th></th>\n",
       "      <th></th>\n",
       "      <th></th>\n",
       "      <th></th>\n",
       "      <th></th>\n",
       "      <th></th>\n",
       "      <th></th>\n",
       "      <th></th>\n",
       "      <th></th>\n",
       "      <th></th>\n",
       "      <th></th>\n",
       "      <th></th>\n",
       "      <th></th>\n",
       "      <th></th>\n",
       "      <th></th>\n",
       "      <th></th>\n",
       "      <th></th>\n",
       "      <th></th>\n",
       "    </tr>\n",
       "  </thead>\n",
       "  <tbody>\n",
       "    <tr>\n",
       "      <th>A0A024QZX3</th>\n",
       "      <td>0</td>\n",
       "      <td>0</td>\n",
       "      <td>0</td>\n",
       "      <td>0</td>\n",
       "      <td>0</td>\n",
       "      <td>0</td>\n",
       "      <td>0</td>\n",
       "      <td>0</td>\n",
       "      <td>0</td>\n",
       "      <td>0</td>\n",
       "      <td>...</td>\n",
       "      <td>0</td>\n",
       "      <td>0</td>\n",
       "      <td>0</td>\n",
       "      <td>0</td>\n",
       "      <td>0</td>\n",
       "      <td>0</td>\n",
       "      <td>0</td>\n",
       "      <td>0</td>\n",
       "      <td>0</td>\n",
       "      <td>0</td>\n",
       "    </tr>\n",
       "    <tr>\n",
       "      <th>A0A024R1K8</th>\n",
       "      <td>0</td>\n",
       "      <td>0</td>\n",
       "      <td>0</td>\n",
       "      <td>0</td>\n",
       "      <td>0</td>\n",
       "      <td>0</td>\n",
       "      <td>0</td>\n",
       "      <td>0</td>\n",
       "      <td>0</td>\n",
       "      <td>0</td>\n",
       "      <td>...</td>\n",
       "      <td>0</td>\n",
       "      <td>0</td>\n",
       "      <td>0</td>\n",
       "      <td>0</td>\n",
       "      <td>0</td>\n",
       "      <td>0</td>\n",
       "      <td>0</td>\n",
       "      <td>0</td>\n",
       "      <td>0</td>\n",
       "      <td>0</td>\n",
       "    </tr>\n",
       "    <tr>\n",
       "      <th>A0A024R2C5</th>\n",
       "      <td>1</td>\n",
       "      <td>1</td>\n",
       "      <td>0</td>\n",
       "      <td>0</td>\n",
       "      <td>0</td>\n",
       "      <td>0</td>\n",
       "      <td>0</td>\n",
       "      <td>0</td>\n",
       "      <td>0</td>\n",
       "      <td>0</td>\n",
       "      <td>...</td>\n",
       "      <td>0</td>\n",
       "      <td>0</td>\n",
       "      <td>0</td>\n",
       "      <td>0</td>\n",
       "      <td>0</td>\n",
       "      <td>0</td>\n",
       "      <td>0</td>\n",
       "      <td>0</td>\n",
       "      <td>0</td>\n",
       "      <td>0</td>\n",
       "    </tr>\n",
       "    <tr>\n",
       "      <th>A0A024R5K8</th>\n",
       "      <td>0</td>\n",
       "      <td>0</td>\n",
       "      <td>0</td>\n",
       "      <td>0</td>\n",
       "      <td>0</td>\n",
       "      <td>0</td>\n",
       "      <td>0</td>\n",
       "      <td>0</td>\n",
       "      <td>0</td>\n",
       "      <td>0</td>\n",
       "      <td>...</td>\n",
       "      <td>0</td>\n",
       "      <td>0</td>\n",
       "      <td>0</td>\n",
       "      <td>0</td>\n",
       "      <td>0</td>\n",
       "      <td>0</td>\n",
       "      <td>0</td>\n",
       "      <td>0</td>\n",
       "      <td>0</td>\n",
       "      <td>0</td>\n",
       "    </tr>\n",
       "    <tr>\n",
       "      <th>A0A024R9Y5</th>\n",
       "      <td>0</td>\n",
       "      <td>0</td>\n",
       "      <td>0</td>\n",
       "      <td>0</td>\n",
       "      <td>0</td>\n",
       "      <td>0</td>\n",
       "      <td>0</td>\n",
       "      <td>0</td>\n",
       "      <td>0</td>\n",
       "      <td>0</td>\n",
       "      <td>...</td>\n",
       "      <td>0</td>\n",
       "      <td>0</td>\n",
       "      <td>0</td>\n",
       "      <td>0</td>\n",
       "      <td>0</td>\n",
       "      <td>0</td>\n",
       "      <td>0</td>\n",
       "      <td>0</td>\n",
       "      <td>0</td>\n",
       "      <td>0</td>\n",
       "    </tr>\n",
       "    <tr>\n",
       "      <th>...</th>\n",
       "      <td>...</td>\n",
       "      <td>...</td>\n",
       "      <td>...</td>\n",
       "      <td>...</td>\n",
       "      <td>...</td>\n",
       "      <td>...</td>\n",
       "      <td>...</td>\n",
       "      <td>...</td>\n",
       "      <td>...</td>\n",
       "      <td>...</td>\n",
       "      <td>...</td>\n",
       "      <td>...</td>\n",
       "      <td>...</td>\n",
       "      <td>...</td>\n",
       "      <td>...</td>\n",
       "      <td>...</td>\n",
       "      <td>...</td>\n",
       "      <td>...</td>\n",
       "      <td>...</td>\n",
       "      <td>...</td>\n",
       "      <td>...</td>\n",
       "    </tr>\n",
       "    <tr>\n",
       "      <th>Q9Y624</th>\n",
       "      <td>0</td>\n",
       "      <td>0</td>\n",
       "      <td>0</td>\n",
       "      <td>0</td>\n",
       "      <td>0</td>\n",
       "      <td>0</td>\n",
       "      <td>0</td>\n",
       "      <td>0</td>\n",
       "      <td>0</td>\n",
       "      <td>0</td>\n",
       "      <td>...</td>\n",
       "      <td>0</td>\n",
       "      <td>0</td>\n",
       "      <td>0</td>\n",
       "      <td>0</td>\n",
       "      <td>0</td>\n",
       "      <td>0</td>\n",
       "      <td>0</td>\n",
       "      <td>0</td>\n",
       "      <td>0</td>\n",
       "      <td>0</td>\n",
       "    </tr>\n",
       "    <tr>\n",
       "      <th>Q9Y6M1</th>\n",
       "      <td>0</td>\n",
       "      <td>0</td>\n",
       "      <td>0</td>\n",
       "      <td>0</td>\n",
       "      <td>0</td>\n",
       "      <td>0</td>\n",
       "      <td>0</td>\n",
       "      <td>0</td>\n",
       "      <td>0</td>\n",
       "      <td>0</td>\n",
       "      <td>...</td>\n",
       "      <td>0</td>\n",
       "      <td>0</td>\n",
       "      <td>0</td>\n",
       "      <td>0</td>\n",
       "      <td>0</td>\n",
       "      <td>0</td>\n",
       "      <td>0</td>\n",
       "      <td>0</td>\n",
       "      <td>0</td>\n",
       "      <td>0</td>\n",
       "    </tr>\n",
       "    <tr>\n",
       "      <th>Q9Y6R4</th>\n",
       "      <td>0</td>\n",
       "      <td>0</td>\n",
       "      <td>0</td>\n",
       "      <td>0</td>\n",
       "      <td>0</td>\n",
       "      <td>0</td>\n",
       "      <td>0</td>\n",
       "      <td>0</td>\n",
       "      <td>0</td>\n",
       "      <td>0</td>\n",
       "      <td>...</td>\n",
       "      <td>0</td>\n",
       "      <td>0</td>\n",
       "      <td>0</td>\n",
       "      <td>0</td>\n",
       "      <td>0</td>\n",
       "      <td>0</td>\n",
       "      <td>0</td>\n",
       "      <td>0</td>\n",
       "      <td>0</td>\n",
       "      <td>0</td>\n",
       "    </tr>\n",
       "    <tr>\n",
       "      <th>Q9Y6V7</th>\n",
       "      <td>0</td>\n",
       "      <td>0</td>\n",
       "      <td>0</td>\n",
       "      <td>0</td>\n",
       "      <td>0</td>\n",
       "      <td>0</td>\n",
       "      <td>0</td>\n",
       "      <td>0</td>\n",
       "      <td>0</td>\n",
       "      <td>0</td>\n",
       "      <td>...</td>\n",
       "      <td>0</td>\n",
       "      <td>0</td>\n",
       "      <td>0</td>\n",
       "      <td>0</td>\n",
       "      <td>0</td>\n",
       "      <td>0</td>\n",
       "      <td>0</td>\n",
       "      <td>0</td>\n",
       "      <td>0</td>\n",
       "      <td>0</td>\n",
       "    </tr>\n",
       "    <tr>\n",
       "      <th>Q9Y6Y8</th>\n",
       "      <td>0</td>\n",
       "      <td>0</td>\n",
       "      <td>0</td>\n",
       "      <td>0</td>\n",
       "      <td>0</td>\n",
       "      <td>0</td>\n",
       "      <td>0</td>\n",
       "      <td>0</td>\n",
       "      <td>0</td>\n",
       "      <td>0</td>\n",
       "      <td>...</td>\n",
       "      <td>0</td>\n",
       "      <td>0</td>\n",
       "      <td>0</td>\n",
       "      <td>0</td>\n",
       "      <td>0</td>\n",
       "      <td>0</td>\n",
       "      <td>0</td>\n",
       "      <td>0</td>\n",
       "      <td>0</td>\n",
       "      <td>0</td>\n",
       "    </tr>\n",
       "  </tbody>\n",
       "</table>\n",
       "<p>885 rows × 100 columns</p>\n",
       "</div>"
      ],
      "text/plain": [
       "PFAM        AAA  AAA_lid_3  ABC_tran  Ank  Ank_2  Ank_3  Ank_4  Ank_5  Arf  \\\n",
       "UniProt                                                                      \n",
       "A0A024QZX3    0          0         0    0      0      0      0      0    0   \n",
       "A0A024R1K8    0          0         0    0      0      0      0      0    0   \n",
       "A0A024R2C5    1          1         0    0      0      0      0      0    0   \n",
       "A0A024R5K8    0          0         0    0      0      0      0      0    0   \n",
       "A0A024R9Y5    0          0         0    0      0      0      0      0    0   \n",
       "...         ...        ...       ...  ...    ...    ...    ...    ...  ...   \n",
       "Q9Y624        0          0         0    0      0      0      0      0    0   \n",
       "Q9Y6M1        0          0         0    0      0      0      0      0    0   \n",
       "Q9Y6R4        0          0         0    0      0      0      0      0    0   \n",
       "Q9Y6V7        0          0         0    0      0      0      0      0    0   \n",
       "Q9Y6Y8        0          0         0    0      0      0      0      0    0   \n",
       "\n",
       "PFAM        Arm  ...  zf-C2H2  zf-C2H2_4  zf-C3HC4  zf-C3HC4_2  zf-C3HC4_3  \\\n",
       "UniProt          ...                                                         \n",
       "A0A024QZX3    0  ...        0          0         0           0           0   \n",
       "A0A024R1K8    0  ...        0          0         0           0           0   \n",
       "A0A024R2C5    0  ...        0          0         0           0           0   \n",
       "A0A024R5K8    0  ...        0          0         0           0           0   \n",
       "A0A024R9Y5    0  ...        0          0         0           0           0   \n",
       "...         ...  ...      ...        ...       ...         ...         ...   \n",
       "Q9Y624        0  ...        0          0         0           0           0   \n",
       "Q9Y6M1        0  ...        0          0         0           0           0   \n",
       "Q9Y6R4        0  ...        0          0         0           0           0   \n",
       "Q9Y6V7        0  ...        0          0         0           0           0   \n",
       "Q9Y6Y8        0  ...        0          0         0           0           0   \n",
       "\n",
       "PFAM        zf-CCCH  zf-CCHC  zf-RING_2  zf-RING_UBOX  zf-met  \n",
       "UniProt                                                        \n",
       "A0A024QZX3        0        0          0             0       0  \n",
       "A0A024R1K8        0        0          0             0       0  \n",
       "A0A024R2C5        0        0          0             0       0  \n",
       "A0A024R5K8        0        0          0             0       0  \n",
       "A0A024R9Y5        0        0          0             0       0  \n",
       "...             ...      ...        ...           ...     ...  \n",
       "Q9Y624            0        0          0             0       0  \n",
       "Q9Y6M1            0        0          0             0       0  \n",
       "Q9Y6R4            0        0          0             0       0  \n",
       "Q9Y6V7            0        0          0             0       0  \n",
       "Q9Y6Y8            0        0          0             0       0  \n",
       "\n",
       "[885 rows x 100 columns]"
      ]
     },
     "execution_count": 40,
     "metadata": {},
     "output_type": "execute_result"
    }
   ],
   "source": [
    "matrix_domains_high"
   ]
  },
  {
   "cell_type": "markdown",
   "id": "aa6a4ec4-2b0c-4dc2-b8cc-63097b68b71f",
   "metadata": {},
   "source": [
    "# Unsupervised Methods\n",
    "\n",
    "## Principal Components Analysis -- not very informative b/c of such low explained variance and poor clustering\n",
    "\n",
    "### No significant Spearman correlations between domains and PCs"
   ]
  },
  {
   "cell_type": "code",
   "execution_count": 44,
   "id": "650d8b39-ddf2-4326-91af-d632d38aca9c",
   "metadata": {},
   "outputs": [
    {
     "data": {
      "image/png": "[encoded data removed]",
      "text/plain": [
       "<Figure size 900x600 with 1 Axes>"
      ]
     },
     "metadata": {
      "needs_background": "light"
     },
     "output_type": "display_data"
    }
   ],
   "source": [
    "# first check using the elbow method\n",
    "n = 10\n",
    "\n",
    "# use the whole matrix for now\n",
    "data = df.pivot(index=\"UniProt\", columns=\"PFAM\", values=\"Count\").fillna(0).astype(int)\n",
    "\n",
    "#data = matrix_domains_high\n",
    "\n",
    "pca_large = PCA(n_components=n).fit(data.values)\n",
    "\n",
    "plt.plot(np.arange(1, n+1), pca_large.explained_variance_)\n",
    "sns.despine()\n",
    "plt.xticks(np.arange(1, n+1))\n",
    "plt.xlabel(\"Component\")\n",
    "plt.ylabel(\"Explained Variance\")\n",
    "plt.show()"
   ]
  },
  {
   "cell_type": "code",
   "execution_count": 45,
   "id": "a060a860-a60b-43fc-b63b-3ad584b25735",
   "metadata": {},
   "outputs": [
    {
     "data": {
      "text/plain": [
       "(0, 0)"
      ]
     },
     "execution_count": 45,
     "metadata": {},
     "output_type": "execute_result"
    }
   ],
   "source": [
    "sum(data.sum(axis=1)==0), sum(data.sum(axis=1)==0)"
   ]
  },
  {
   "cell_type": "code",
   "execution_count": 46,
   "id": "685d04b7-b593-4afe-936d-5c41a37dec65",
   "metadata": {},
   "outputs": [
    {
     "name": "stdout",
     "output_type": "stream",
     "text": [
      "Explained variances: [2.09638148 1.19967722]\n"
     ]
    },
    {
     "data": {
      "image/png": "[encoded data removed]",
      "text/plain": [
       "<Figure size 900x600 with 1 Axes>"
      ]
     },
     "metadata": {
      "needs_background": "light"
     },
     "output_type": "display_data"
    }
   ],
   "source": [
    "# dbscan = DBSCAN(min_samples=3).fit(matrix_domains_high.values)\n",
    "# print(f\"{np.max(dbscan.labels_)+1} clusters found\")\n",
    "\n",
    "pca = PCA(n_components=2).fit(data.values)\n",
    "\n",
    "print(f\"Explained variances: {pca.explained_variance_}\")\n",
    "\n",
    "pca_transformed = pca.transform(data.values)\n",
    "\n",
    "pca_df = pd.DataFrame(pca_transformed)\n",
    "\n",
    "pca_df.columns = [\"PC1\", \"PC2\"]\n",
    "\n",
    "pca_df[\"UniProt\"] = data.index\n",
    "\n",
    "# -1 cluster means too disordered\n",
    "#pca_df[\"Cluster\"] = dbscan.labels_\n",
    "\n",
    "sns.scatterplot(data=pca_df, x=\"PC1\", y=\"PC2\", \n",
    "                #hue=\"Cluster\", \n",
    "                #palette=\"viridis\"\n",
    "               )\n",
    "sns.despine()\n",
    "plt.show()"
   ]
  },
  {
   "cell_type": "code",
   "execution_count": 47,
   "id": "48b283e4-ac45-4cb1-aed3-cb21ec9568bb",
   "metadata": {},
   "outputs": [],
   "source": [
    "spearman_res = [[data.columns[i], st.spearmanr(pca_df.PC1, data.iloc[:, i])] for i in range(n)]\n",
    "\n",
    "pvalues_pc1, spearman_rhos_pc1 = list(zip(*spearman_res))"
   ]
  },
  {
   "cell_type": "code",
   "execution_count": 48,
   "id": "6c514189-d74b-4616-b9d1-dcd5d300ed80",
   "metadata": {},
   "outputs": [],
   "source": [
    "for domain, res in spearman_res:\n",
    "    \n",
    "    if res[1] < 0.05:\n",
    "        print(domain, res[0])"
   ]
  },
  {
   "cell_type": "markdown",
   "id": "145cb787-698d-4623-8a22-5829cdf7fab5",
   "metadata": {},
   "source": [
    "# See if proteins that share PFAM domains share GO functions"
   ]
  },
  {
   "cell_type": "code",
   "execution_count": 29,
   "id": "0bde2158-21f7-4dfb-b592-32744b3b2e9f",
   "metadata": {},
   "outputs": [],
   "source": [
    "GO_proteins = pd.read_csv(\"../Processed/enriched_GO_proteins.csv\")\n",
    "GO_small = GO_proteins.loc[GO_proteins[\"UniProt\"].isin(matrix_domains_high.index)]\n",
    "\n",
    "# put it in matrix form\n",
    "matrix_GO = GO_small.pivot(index=\"Gene\", columns=\"GO\")\n",
    "matrix_GO = matrix_GO.where(~matrix_GO. notna(), 1)\n",
    "matrix_GO = matrix_GO.fillna(0)"
   ]
  },
  {
   "cell_type": "code",
   "execution_count": 30,
   "id": "da33f86e-0e9f-4dd1-acd6-81cde7b5b4b0",
   "metadata": {},
   "outputs": [],
   "source": [
    "# number of proteins that each GO is associated with\n",
    "summary_go_df = pd.DataFrame(GO_small.groupby(\"GO\")[\"Gene\"].count()).reset_index().sort_values(\"Gene\", ascending=False).reset_index(drop=True)\n",
    "summary_go_df.columns = [\"GO\", \"num_proteins\"]"
   ]
  },
  {
   "cell_type": "code",
   "execution_count": 31,
   "id": "ff6c061c-5abf-4ffa-862e-5358a135df12",
   "metadata": {},
   "outputs": [
    {
     "data": {
      "image/png": "[encoded data removed]",
      "text/plain": [
       "<Figure size 900x600 with 1 Axes>"
      ]
     },
     "metadata": {
      "needs_background": "light"
     },
     "output_type": "display_data"
    }
   ],
   "source": [
    "plt.hist(summary_go_df.num_proteins.values)\n",
    "sns.despine()\n",
    "plt.show()"
   ]
  },
  {
   "cell_type": "code",
   "execution_count": 33,
   "id": "43efe3d3-ca1d-455e-8916-2b0d3787c674",
   "metadata": {},
   "outputs": [],
   "source": [
    "# these are the 2229 proteins that were queried on PFAM for their domain\n",
    "GO_jaccard = pd.read_csv(\"../Processed/jaccard_non_zero.csv.gz\", compression=\"gzip\")"
   ]
  },
  {
   "cell_type": "markdown",
   "id": "132cbd89-de39-4d15-bcde-6a88de904599",
   "metadata": {},
   "source": [
    "## For each pair in the above dataframe, compute how many PFAM domains they share\n",
    "\n",
    "The next cell takes ~1 minute to run"
   ]
  },
  {
   "cell_type": "code",
   "execution_count": 68,
   "id": "5bc35544-0ea7-4115-9480-40ea4da7fd73",
   "metadata": {},
   "outputs": [
    {
     "name": "stdout",
     "output_type": "stream",
     "text": [
      "54.53438033300006 seconds\n"
     ]
    }
   ],
   "source": [
    "start = timeit.default_timer()\n",
    "\n",
    "# this returns the number of rows containing the same PFAM --> means that they have the same domain\n",
    "pfam_pairwise_share = [sum(df.loc[df.UniProt.isin([row[\"uniprot_1\"],  row[\"uniprot_2\"]])].duplicated(\"PFAM\")) for _, row in GO_jaccard.iterrows()]\n",
    "\n",
    "end = timeit.default_timer()\n",
    "print(f\"{end-start} seconds\")"
   ]
  },
  {
   "cell_type": "code",
   "execution_count": 76,
   "id": "e963c88d-a678-4957-b692-b680bde3237f",
   "metadata": {},
   "outputs": [
    {
     "name": "stdout",
     "output_type": "stream",
     "text": [
      "0.05188450731518264 0.0 10\n"
     ]
    }
   ],
   "source": [
    "print(np.mean(pfam_pairwise_share), np.median(pfam_pairwise_share), np.max(pfam_pairwise_share))"
   ]
  },
  {
   "cell_type": "code",
   "execution_count": null,
   "id": "1d28c677-eb8d-4a3b-ac42-5b9d6dcacaaa",
   "metadata": {},
   "outputs": [],
   "source": []
  },
  {
   "cell_type": "code",
   "execution_count": null,
   "id": "e91412b7-d53a-46ef-ab07-461375370525",
   "metadata": {},
   "outputs": [],
   "source": []
  },
  {
   "cell_type": "code",
   "execution_count": null,
   "id": "fd3d96b0-2c5d-4263-93b0-c09bbf8dbd5b",
   "metadata": {},
   "outputs": [],
   "source": []
  },
  {
   "cell_type": "code",
   "execution_count": null,
   "id": "10d86f89-8239-49ab-919e-da00cb8df819",
   "metadata": {},
   "outputs": [],
   "source": [
    "# hierarchical clustering -- idk, might be useful, we'll see\n",
    "# plt.figure(figsize=(10, 7))\n",
    "# plt.title(\"Customer Dendograms\")\n",
    "# dend = shc.dendrogram(shc.linkage(matrix_domains_high.values, method='ward'))"
   ]
  },
  {
   "cell_type": "code",
   "execution_count": null,
   "id": "d5ec92bb-3616-476b-92d5-8830f7511cdf",
   "metadata": {},
   "outputs": [],
   "source": []
  }
 ],
 "metadata": {
  "kernelspec": {
   "display_name": "Python 3 (ipykernel)",
   "language": "python",
   "name": "python3"
  },
  "language_info": {
   "codemirror_mode": {
    "name": "ipython",
    "version": 3
   },
   "file_extension": ".py",
   "mimetype": "text/x-python",
   "name": "python",
   "nbconvert_exporter": "python",
   "pygments_lexer": "ipython3",
   "version": "3.8.12"
  }
 },
 "nbformat": 4,
 "nbformat_minor": 5
}

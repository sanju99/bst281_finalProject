{
 "cells": [
  {
   "cell_type": "code",
   "execution_count": 1,
   "id": "d90f6cd6-ffe3-456d-ab8d-cf3feec2e354",
   "metadata": {},
   "outputs": [],
   "source": [
    "import numpy as np\n",
    "import pandas as pd\n",
    "\n",
    "import matplotlib.pyplot as plt\n",
    "import seaborn as sns\n",
    "\n",
    "plt.rcParams['figure.dpi'] = 150\n",
    "import glob, os\n",
    "\n",
    "import scipy.stats as st\n",
    "import timeit"
   ]
  },
  {
   "cell_type": "markdown",
   "id": "ad38ea25-053f-4547-affc-3368f8d878a8",
   "metadata": {},
   "source": [
    "# Look at the groups of viruses in the IntAct database\n",
    "\n",
    "## See which are over- or under-represented"
   ]
  },
  {
   "cell_type": "code",
   "execution_count": null,
   "id": "5980004b-86d2-4e87-93ab-e2054a376714",
   "metadata": {},
   "outputs": [],
   "source": []
  }
 ],
 "metadata": {
  "kernelspec": {
   "display_name": "Python 3 (ipykernel)",
   "language": "python",
   "name": "python3"
  },
  "language_info": {
   "codemirror_mode": {
    "name": "ipython",
    "version": 3
   },
   "file_extension": ".py",
   "mimetype": "text/x-python",
   "name": "python",
   "nbconvert_exporter": "python",
   "pygments_lexer": "ipython3",
   "version": "3.8.12"
  }
 },
 "nbformat": 4,
 "nbformat_minor": 5
}

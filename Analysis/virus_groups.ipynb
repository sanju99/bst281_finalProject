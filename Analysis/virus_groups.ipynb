{
 "cells": [
  {
   "cell_type": "code",
   "execution_count": 1,
   "id": "d90f6cd6-ffe3-456d-ab8d-cf3feec2e354",
   "metadata": {},
   "outputs": [
    {
     "data": {
      "text/html": [
       "\n",
       "    <div class=\"bk-root\">\n",
       "        <a href=\"https://bokeh.org\" target=\"_blank\" class=\"bk-logo bk-logo-small bk-logo-notebook\"></a>\n",
       "        <span id=\"1002\">Loading BokehJS ...</span>\n",
       "    </div>"
      ]
     },
     "metadata": {},
     "output_type": "display_data"
    },
    {
     "data": {
      "application/javascript": [
       "\n",
       "(function(root) {\n",
       "  function now() {\n",
       "    return new Date();\n",
       "  }\n",
       "\n",
       "  const force = true;\n",
       "\n",
       "  if (typeof root._bokeh_onload_callbacks === \"undefined\" || force === true) {\n",
       "    root._bokeh_onload_callbacks = [];\n",
       "    root._bokeh_is_loading = undefined;\n",
       "  }\n",
       "\n",
       "  const JS_MIME_TYPE = 'application/javascript';\n",
       "  const HTML_MIME_TYPE = 'text/html';\n",
       "  const EXEC_MIME_TYPE = 'application/vnd.bokehjs_exec.v0+json';\n",
       "  const CLASS_NAME = 'output_bokeh rendered_html';\n",
       "\n",
       "  /**\n",
       "   * Render data to the DOM node\n",
       "   */\n",
       "  function render(props, node) {\n",
       "    const script = document.createElement(\"script\");\n",
       "    node.appendChild(script);\n",
       "  }\n",
       "\n",
       "  /**\n",
       "   * Handle when an output is cleared or removed\n",
       "   */\n",
       "  function handleClearOutput(event, handle) {\n",
       "    const cell = handle.cell;\n",
       "\n",
       "    const id = cell.output_area._bokeh_element_id;\n",
       "    const server_id = cell.output_area._bokeh_server_id;\n",
       "    // Clean up Bokeh references\n",
       "    if (id != null && id in Bokeh.index) {\n",
       "      Bokeh.index[id].model.document.clear();\n",
       "      delete Bokeh.index[id];\n",
       "    }\n",
       "\n",
       "    if (server_id !== undefined) {\n",
       "      // Clean up Bokeh references\n",
       "      const cmd_clean = \"from bokeh.io.state import curstate; print(curstate().uuid_to_server['\" + server_id + \"'].get_sessions()[0].document.roots[0]._id)\";\n",
       "      cell.notebook.kernel.execute(cmd_clean, {\n",
       "        iopub: {\n",
       "          output: function(msg) {\n",
       "            const id = msg.content.text.trim();\n",
       "            if (id in Bokeh.index) {\n",
       "              Bokeh.index[id].model.document.clear();\n",
       "              delete Bokeh.index[id];\n",
       "            }\n",
       "          }\n",
       "        }\n",
       "      });\n",
       "      // Destroy server and session\n",
       "      const cmd_destroy = \"import bokeh.io.notebook as ion; ion.destroy_server('\" + server_id + \"')\";\n",
       "      cell.notebook.kernel.execute(cmd_destroy);\n",
       "    }\n",
       "  }\n",
       "\n",
       "  /**\n",
       "   * Handle when a new output is added\n",
       "   */\n",
       "  function handleAddOutput(event, handle) {\n",
       "    const output_area = handle.output_area;\n",
       "    const output = handle.output;\n",
       "\n",
       "    // limit handleAddOutput to display_data with EXEC_MIME_TYPE content only\n",
       "    if ((output.output_type != \"display_data\") || (!Object.prototype.hasOwnProperty.call(output.data, EXEC_MIME_TYPE))) {\n",
       "      return\n",
       "    }\n",
       "\n",
       "    const toinsert = output_area.element.find(\".\" + CLASS_NAME.split(' ')[0]);\n",
       "\n",
       "    if (output.metadata[EXEC_MIME_TYPE][\"id\"] !== undefined) {\n",
       "      toinsert[toinsert.length - 1].firstChild.textContent = output.data[JS_MIME_TYPE];\n",
       "      // store reference to embed id on output_area\n",
       "      output_area._bokeh_element_id = output.metadata[EXEC_MIME_TYPE][\"id\"];\n",
       "    }\n",
       "    if (output.metadata[EXEC_MIME_TYPE][\"server_id\"] !== undefined) {\n",
       "      const bk_div = document.createElement(\"div\");\n",
       "      bk_div.innerHTML = output.data[HTML_MIME_TYPE];\n",
       "      const script_attrs = bk_div.children[0].attributes;\n",
       "      for (let i = 0; i < script_attrs.length; i++) {\n",
       "        toinsert[toinsert.length - 1].firstChild.setAttribute(script_attrs[i].name, script_attrs[i].value);\n",
       "        toinsert[toinsert.length - 1].firstChild.textContent = bk_div.children[0].textContent\n",
       "      }\n",
       "      // store reference to server id on output_area\n",
       "      output_area._bokeh_server_id = output.metadata[EXEC_MIME_TYPE][\"server_id\"];\n",
       "    }\n",
       "  }\n",
       "\n",
       "  function register_renderer(events, OutputArea) {\n",
       "\n",
       "    function append_mime(data, metadata, element) {\n",
       "      // create a DOM node to render to\n",
       "      const toinsert = this.create_output_subarea(\n",
       "        metadata,\n",
       "        CLASS_NAME,\n",
       "        EXEC_MIME_TYPE\n",
       "      );\n",
       "      this.keyboard_manager.register_events(toinsert);\n",
       "      // Render to node\n",
       "      const props = {data: data, metadata: metadata[EXEC_MIME_TYPE]};\n",
       "      render(props, toinsert[toinsert.length - 1]);\n",
       "      element.append(toinsert);\n",
       "      return toinsert\n",
       "    }\n",
       "\n",
       "    /* Handle when an output is cleared or removed */\n",
       "    events.on('clear_output.CodeCell', handleClearOutput);\n",
       "    events.on('delete.Cell', handleClearOutput);\n",
       "\n",
       "    /* Handle when a new output is added */\n",
       "    events.on('output_added.OutputArea', handleAddOutput);\n",
       "\n",
       "    /**\n",
       "     * Register the mime type and append_mime function with output_area\n",
       "     */\n",
       "    OutputArea.prototype.register_mime_type(EXEC_MIME_TYPE, append_mime, {\n",
       "      /* Is output safe? */\n",
       "      safe: true,\n",
       "      /* Index of renderer in `output_area.display_order` */\n",
       "      index: 0\n",
       "    });\n",
       "  }\n",
       "\n",
       "  // register the mime type if in Jupyter Notebook environment and previously unregistered\n",
       "  if (root.Jupyter !== undefined) {\n",
       "    const events = require('base/js/events');\n",
       "    const OutputArea = require('notebook/js/outputarea').OutputArea;\n",
       "\n",
       "    if (OutputArea.prototype.mime_types().indexOf(EXEC_MIME_TYPE) == -1) {\n",
       "      register_renderer(events, OutputArea);\n",
       "    }\n",
       "  }\n",
       "\n",
       "  \n",
       "  if (typeof (root._bokeh_timeout) === \"undefined\" || force === true) {\n",
       "    root._bokeh_timeout = Date.now() + 5000;\n",
       "    root._bokeh_failed_load = false;\n",
       "  }\n",
       "\n",
       "  const NB_LOAD_WARNING = {'data': {'text/html':\n",
       "     \"<div style='background-color: #fdd'>\\n\"+\n",
       "     \"<p>\\n\"+\n",
       "     \"BokehJS does not appear to have successfully loaded. If loading BokehJS from CDN, this \\n\"+\n",
       "     \"may be due to a slow or bad network connection. Possible fixes:\\n\"+\n",
       "     \"</p>\\n\"+\n",
       "     \"<ul>\\n\"+\n",
       "     \"<li>re-rerun `output_notebook()` to attempt to load from CDN again, or</li>\\n\"+\n",
       "     \"<li>use INLINE resources instead, as so:</li>\\n\"+\n",
       "     \"</ul>\\n\"+\n",
       "     \"<code>\\n\"+\n",
       "     \"from bokeh.resources import INLINE\\n\"+\n",
       "     \"output_notebook(resources=INLINE)\\n\"+\n",
       "     \"</code>\\n\"+\n",
       "     \"</div>\"}};\n",
       "\n",
       "  function display_loaded() {\n",
       "    const el = document.getElementById(\"1002\");\n",
       "    if (el != null) {\n",
       "      el.textContent = \"BokehJS is loading...\";\n",
       "    }\n",
       "    if (root.Bokeh !== undefined) {\n",
       "      if (el != null) {\n",
       "        el.textContent = \"BokehJS \" + root.Bokeh.version + \" successfully loaded.\";\n",
       "      }\n",
       "    } else if (Date.now() < root._bokeh_timeout) {\n",
       "      setTimeout(display_loaded, 100)\n",
       "    }\n",
       "  }\n",
       "\n",
       "\n",
       "  function run_callbacks() {\n",
       "    try {\n",
       "      root._bokeh_onload_callbacks.forEach(function(callback) {\n",
       "        if (callback != null)\n",
       "          callback();\n",
       "      });\n",
       "    } finally {\n",
       "      delete root._bokeh_onload_callbacks\n",
       "    }\n",
       "    console.debug(\"Bokeh: all callbacks have finished\");\n",
       "  }\n",
       "\n",
       "  function load_libs(css_urls, js_urls, callback) {\n",
       "    if (css_urls == null) css_urls = [];\n",
       "    if (js_urls == null) js_urls = [];\n",
       "\n",
       "    root._bokeh_onload_callbacks.push(callback);\n",
       "    if (root._bokeh_is_loading > 0) {\n",
       "      console.debug(\"Bokeh: BokehJS is being loaded, scheduling callback at\", now());\n",
       "      return null;\n",
       "    }\n",
       "    if (js_urls == null || js_urls.length === 0) {\n",
       "      run_callbacks();\n",
       "      return null;\n",
       "    }\n",
       "    console.debug(\"Bokeh: BokehJS not loaded, scheduling load and callback at\", now());\n",
       "    root._bokeh_is_loading = css_urls.length + js_urls.length;\n",
       "\n",
       "    function on_load() {\n",
       "      root._bokeh_is_loading--;\n",
       "      if (root._bokeh_is_loading === 0) {\n",
       "        console.debug(\"Bokeh: all BokehJS libraries/stylesheets loaded\");\n",
       "        run_callbacks()\n",
       "      }\n",
       "    }\n",
       "\n",
       "    function on_error(url) {\n",
       "      console.error(\"failed to load \" + url);\n",
       "    }\n",
       "\n",
       "    for (let i = 0; i < css_urls.length; i++) {\n",
       "      const url = css_urls[i];\n",
       "      const element = document.createElement(\"link\");\n",
       "      element.onload = on_load;\n",
       "      element.onerror = on_error.bind(null, url);\n",
       "      element.rel = \"stylesheet\";\n",
       "      element.type = \"text/css\";\n",
       "      element.href = url;\n",
       "      console.debug(\"Bokeh: injecting link tag for BokehJS stylesheet: \", url);\n",
       "      document.body.appendChild(element);\n",
       "    }\n",
       "\n",
       "    for (let i = 0; i < js_urls.length; i++) {\n",
       "      const url = js_urls[i];\n",
       "      const element = document.createElement('script');\n",
       "      element.onload = on_load;\n",
       "      element.onerror = on_error.bind(null, url);\n",
       "      element.async = false;\n",
       "      element.src = url;\n",
       "      console.debug(\"Bokeh: injecting script tag for BokehJS library: \", url);\n",
       "      document.head.appendChild(element);\n",
       "    }\n",
       "  };\n",
       "\n",
       "  function inject_raw_css(css) {\n",
       "    const element = document.createElement(\"style\");\n",
       "    element.appendChild(document.createTextNode(css));\n",
       "    document.body.appendChild(element);\n",
       "  }\n",
       "\n",
       "  \n",
       "  const js_urls = [\"https://cdn.bokeh.org/bokeh/release/bokeh-2.4.2.min.js\", \"https://cdn.bokeh.org/bokeh/release/bokeh-gl-2.4.2.min.js\", \"https://cdn.bokeh.org/bokeh/release/bokeh-widgets-2.4.2.min.js\", \"https://cdn.bokeh.org/bokeh/release/bokeh-tables-2.4.2.min.js\", \"https://cdn.bokeh.org/bokeh/release/bokeh-mathjax-2.4.2.min.js\"];\n",
       "  const css_urls = [];\n",
       "  \n",
       "\n",
       "  const inline_js = [\n",
       "    function(Bokeh) {\n",
       "      Bokeh.set_log_level(\"info\");\n",
       "    },\n",
       "    function(Bokeh) {\n",
       "    \n",
       "    \n",
       "    }\n",
       "  ];\n",
       "\n",
       "  function run_inline_js() {\n",
       "    \n",
       "    if (root.Bokeh !== undefined || force === true) {\n",
       "      \n",
       "    for (let i = 0; i < inline_js.length; i++) {\n",
       "      inline_js[i].call(root, root.Bokeh);\n",
       "    }\n",
       "    if (force === true) {\n",
       "        display_loaded();\n",
       "      }} else if (Date.now() < root._bokeh_timeout) {\n",
       "      setTimeout(run_inline_js, 100);\n",
       "    } else if (!root._bokeh_failed_load) {\n",
       "      console.log(\"Bokeh: BokehJS failed to load within specified timeout.\");\n",
       "      root._bokeh_failed_load = true;\n",
       "    } else if (force !== true) {\n",
       "      const cell = $(document.getElementById(\"1002\")).parents('.cell').data().cell;\n",
       "      cell.output_area.append_execute_result(NB_LOAD_WARNING)\n",
       "    }\n",
       "\n",
       "  }\n",
       "\n",
       "  if (root._bokeh_is_loading === 0) {\n",
       "    console.debug(\"Bokeh: BokehJS loaded, going straight to plotting\");\n",
       "    run_inline_js();\n",
       "  } else {\n",
       "    load_libs(css_urls, js_urls, function() {\n",
       "      console.debug(\"Bokeh: BokehJS plotting callback run at\", now());\n",
       "      run_inline_js();\n",
       "    });\n",
       "  }\n",
       "}(window));"
      ],
      "application/vnd.bokehjs_load.v0+json": "\n(function(root) {\n  function now() {\n    return new Date();\n  }\n\n  const force = true;\n\n  if (typeof root._bokeh_onload_callbacks === \"undefined\" || force === true) {\n    root._bokeh_onload_callbacks = [];\n    root._bokeh_is_loading = undefined;\n  }\n\n  \n\n  \n  if (typeof (root._bokeh_timeout) === \"undefined\" || force === true) {\n    root._bokeh_timeout = Date.now() + 5000;\n    root._bokeh_failed_load = false;\n  }\n\n  const NB_LOAD_WARNING = {'data': {'text/html':\n     \"<div style='background-color: #fdd'>\\n\"+\n     \"<p>\\n\"+\n     \"BokehJS does not appear to have successfully loaded. If loading BokehJS from CDN, this \\n\"+\n     \"may be due to a slow or bad network connection. Possible fixes:\\n\"+\n     \"</p>\\n\"+\n     \"<ul>\\n\"+\n     \"<li>re-rerun `output_notebook()` to attempt to load from CDN again, or</li>\\n\"+\n     \"<li>use INLINE resources instead, as so:</li>\\n\"+\n     \"</ul>\\n\"+\n     \"<code>\\n\"+\n     \"from bokeh.resources import INLINE\\n\"+\n     \"output_notebook(resources=INLINE)\\n\"+\n     \"</code>\\n\"+\n     \"</div>\"}};\n\n  function display_loaded() {\n    const el = document.getElementById(\"1002\");\n    if (el != null) {\n      el.textContent = \"BokehJS is loading...\";\n    }\n    if (root.Bokeh !== undefined) {\n      if (el != null) {\n        el.textContent = \"BokehJS \" + root.Bokeh.version + \" successfully loaded.\";\n      }\n    } else if (Date.now() < root._bokeh_timeout) {\n      setTimeout(display_loaded, 100)\n    }\n  }\n\n\n  function run_callbacks() {\n    try {\n      root._bokeh_onload_callbacks.forEach(function(callback) {\n        if (callback != null)\n          callback();\n      });\n    } finally {\n      delete root._bokeh_onload_callbacks\n    }\n    console.debug(\"Bokeh: all callbacks have finished\");\n  }\n\n  function load_libs(css_urls, js_urls, callback) {\n    if (css_urls == null) css_urls = [];\n    if (js_urls == null) js_urls = [];\n\n    root._bokeh_onload_callbacks.push(callback);\n    if (root._bokeh_is_loading > 0) {\n      console.debug(\"Bokeh: BokehJS is being loaded, scheduling callback at\", now());\n      return null;\n    }\n    if (js_urls == null || js_urls.length === 0) {\n      run_callbacks();\n      return null;\n    }\n    console.debug(\"Bokeh: BokehJS not loaded, scheduling load and callback at\", now());\n    root._bokeh_is_loading = css_urls.length + js_urls.length;\n\n    function on_load() {\n      root._bokeh_is_loading--;\n      if (root._bokeh_is_loading === 0) {\n        console.debug(\"Bokeh: all BokehJS libraries/stylesheets loaded\");\n        run_callbacks()\n      }\n    }\n\n    function on_error(url) {\n      console.error(\"failed to load \" + url);\n    }\n\n    for (let i = 0; i < css_urls.length; i++) {\n      const url = css_urls[i];\n      const element = document.createElement(\"link\");\n      element.onload = on_load;\n      element.onerror = on_error.bind(null, url);\n      element.rel = \"stylesheet\";\n      element.type = \"text/css\";\n      element.href = url;\n      console.debug(\"Bokeh: injecting link tag for BokehJS stylesheet: \", url);\n      document.body.appendChild(element);\n    }\n\n    for (let i = 0; i < js_urls.length; i++) {\n      const url = js_urls[i];\n      const element = document.createElement('script');\n      element.onload = on_load;\n      element.onerror = on_error.bind(null, url);\n      element.async = false;\n      element.src = url;\n      console.debug(\"Bokeh: injecting script tag for BokehJS library: \", url);\n      document.head.appendChild(element);\n    }\n  };\n\n  function inject_raw_css(css) {\n    const element = document.createElement(\"style\");\n    element.appendChild(document.createTextNode(css));\n    document.body.appendChild(element);\n  }\n\n  \n  const js_urls = [\"https://cdn.bokeh.org/bokeh/release/bokeh-2.4.2.min.js\", \"https://cdn.bokeh.org/bokeh/release/bokeh-gl-2.4.2.min.js\", \"https://cdn.bokeh.org/bokeh/release/bokeh-widgets-2.4.2.min.js\", \"https://cdn.bokeh.org/bokeh/release/bokeh-tables-2.4.2.min.js\", \"https://cdn.bokeh.org/bokeh/release/bokeh-mathjax-2.4.2.min.js\"];\n  const css_urls = [];\n  \n\n  const inline_js = [\n    function(Bokeh) {\n      Bokeh.set_log_level(\"info\");\n    },\n    function(Bokeh) {\n    \n    \n    }\n  ];\n\n  function run_inline_js() {\n    \n    if (root.Bokeh !== undefined || force === true) {\n      \n    for (let i = 0; i < inline_js.length; i++) {\n      inline_js[i].call(root, root.Bokeh);\n    }\n    if (force === true) {\n        display_loaded();\n      }} else if (Date.now() < root._bokeh_timeout) {\n      setTimeout(run_inline_js, 100);\n    } else if (!root._bokeh_failed_load) {\n      console.log(\"Bokeh: BokehJS failed to load within specified timeout.\");\n      root._bokeh_failed_load = true;\n    } else if (force !== true) {\n      const cell = $(document.getElementById(\"1002\")).parents('.cell').data().cell;\n      cell.output_area.append_execute_result(NB_LOAD_WARNING)\n    }\n\n  }\n\n  if (root._bokeh_is_loading === 0) {\n    console.debug(\"Bokeh: BokehJS loaded, going straight to plotting\");\n    run_inline_js();\n  } else {\n    load_libs(css_urls, js_urls, function() {\n      console.debug(\"Bokeh: BokehJS plotting callback run at\", now());\n      run_inline_js();\n    });\n  }\n}(window));"
     },
     "metadata": {},
     "output_type": "display_data"
    }
   ],
   "source": [
    "import numpy as np\n",
    "import pandas as pd\n",
    "\n",
    "import matplotlib.pyplot as plt\n",
    "import seaborn as sns\n",
    "\n",
    "plt.rcParams['figure.dpi'] = 150\n",
    "import glob, os\n",
    "\n",
    "import scipy.stats as st\n",
    "import timeit\n",
    "from sklearn.decomposition import PCA\n",
    "\n",
    "import iqplot\n",
    "import bokeh.io\n",
    "import bokeh.plotting\n",
    "\n",
    "from bokeh.io import export_png, export_svgs\n",
    "\n",
    "bokeh.io.output_notebook()\n",
    "\n",
    "from statsmodels.miscmodels.ordinal_model import OrderedModel"
   ]
  },
  {
   "cell_type": "markdown",
   "id": "ad38ea25-053f-4547-affc-3368f8d878a8",
   "metadata": {},
   "source": [
    "# Regress viral severity on predictors\n",
    "\n",
    "(severity) ~ (# of human targets) + (# of papers studying the virus) + (size of viral genomes)"
   ]
  },
  {
   "cell_type": "code",
   "execution_count": 2,
   "id": "5980004b-86d2-4e87-93ab-e2054a376714",
   "metadata": {},
   "outputs": [],
   "source": [
    "# also rearranged so that all Homo sapiens is in the right column\n",
    "virus_human = pd.read_csv(\"../Processed/virus_human.csv\")"
   ]
  },
  {
   "cell_type": "code",
   "execution_count": null,
   "id": "2d2a0356-4efc-48a8-894d-2d1a92945caf",
   "metadata": {},
   "outputs": [],
   "source": [
    "# check that all human proteins are in the second column\n",
    "print(virus_human['Taxname B'].unique(), virus_human['Taxid B'].unique())\n",
    "\n",
    "# human should not be in the first column\n",
    "print('Homo sapiens' in virus_human['Taxname A'].values)\n",
    "print(9606 in virus_human['Taxid A'].values)"
   ]
  },
  {
   "cell_type": "code",
   "execution_count": null,
   "id": "6644b50b-fb57-4f56-a86c-19c5221653ac",
   "metadata": {},
   "outputs": [],
   "source": [
    "print(len(virus_human[\"Taxname A\"].unique()), \"viral species in the PPI dataset\")"
   ]
  },
  {
   "cell_type": "code",
   "execution_count": null,
   "id": "80203a90-b623-47a0-b959-41b8312bde8b",
   "metadata": {},
   "outputs": [],
   "source": [
    "print(len(virus_human[\"Taxid A\"].unique()), \"viral taxa in the PPI dataset\")"
   ]
  },
  {
   "cell_type": "code",
   "execution_count": null,
   "id": "dd4025bc-0091-407f-976e-fdf59505dd72",
   "metadata": {},
   "outputs": [],
   "source": [
    "# save taxids to a text file to search with Taxonomizr in R (code below)\n",
    "virus_human[[\"Taxid A\"]].drop_duplicates().to_csv(\"viral_taxids.txt\", index=False, sep=\"\\t\")"
   ]
  },
  {
   "cell_type": "markdown",
   "id": "d7d2381f-6293-4c5b-8c0d-7fb2260e05c4",
   "metadata": {},
   "source": [
    "# Get taxonomic ranks using `Taxonomizr` in R\n",
    "\n",
    "## Easiest way to collapse groups of viruses (i.e. different papillomaviruses will also have the same genus)\n",
    "\n",
    "https://cran.r-project.org/web/packages/taxonomizr/vignettes/usage.html"
   ]
  },
  {
   "cell_type": "markdown",
   "id": "ee199897-5b4f-4cc4-9fc9-f07ed38312bb",
   "metadata": {},
   "source": [
    "```r\n",
    "install.packages(\"taxonomizr\")\n",
    "library(taxonomizr)\n",
    "\n",
    "prepareDatabase('accessionTaxa.sql')\n",
    "\n",
    "df <- read.table(\"viral_taxids.txt\", stringsAsFactors=FALSE, quote=\"\", header=TRUE, sep=\"\\t\")\n",
    "\n",
    "taxids <- df[[\"Taxid.A\"]]\n",
    "\n",
    "# get taxonomies for the taxids\n",
    "taxa <- getTaxonomy(taxids,'accessionTaxa.sql')\n",
    "\n",
    "# save taxa to a new dataframe\n",
    "write.csv(taxa, \"viral_taxonomies.csv\")\n",
    "```"
   ]
  },
  {
   "cell_type": "code",
   "execution_count": null,
   "id": "d2ee6a7e-a0b8-4a8e-a486-9e6a0c19e4b6",
   "metadata": {},
   "outputs": [],
   "source": [
    "# viral_taxonomies = pd.read_csv(\"viral_taxonomies.csv\")\n",
    "# viral_taxonomies.rename(columns={viral_taxonomies.columns[0]: 'Taxid A'}, inplace=True)\n",
    "\n",
    "# # combine the taxonomies with the original dataframe\n",
    "# virus_human = pd.merge(virus_human, viral_taxonomies, on='Taxid A')\n",
    "# virus_human.to_csv(\"../Processed/virus_human.csv\", index=False)\n",
    "\n",
    "# # check that there are no NaNs\n",
    "# for col in virus_human.columns:\n",
    "#     assert sum(pd.isnull(virus_human[col])) == 0"
   ]
  },
  {
   "cell_type": "markdown",
   "id": "17733fa1-d702-4bdb-a8bc-ed1c6fc30d88",
   "metadata": {
    "tags": []
   },
   "source": [
    "# Get genome sizes of all the viruses\n",
    "\n",
    "https://www.ncbi.nlm.nih.gov/genome/browse/#!/viruses/\n",
    "\n",
    "Use taxonomizr to get the exact species name, rather than the strain name (which is what's associated with the taxids).\n",
    "\n",
    "This species name should be easier to search than the taxid-associated taxname."
   ]
  },
  {
   "cell_type": "code",
   "execution_count": 3,
   "id": "ab494649-fbb7-46b7-b772-5e5451681ddd",
   "metadata": {},
   "outputs": [],
   "source": [
    "virus_genome_sizes = pd.read_csv(\"../Data/virus_genome_sizes.csv\")"
   ]
  },
  {
   "cell_type": "code",
   "execution_count": 4,
   "id": "10a837eb-cf6c-4e9c-8bfd-e4c38757348a",
   "metadata": {},
   "outputs": [
    {
     "name": "stdout",
     "output_type": "stream",
     "text": [
      "91\n"
     ]
    }
   ],
   "source": [
    "# ~1/2 as many species as taxids\n",
    "print(len(virus_human.species.unique()))\n",
    "\n",
    "# make a dictionary to map between them\n",
    "taxnames_species_dict = dict(zip(virus_human[\"Taxname A\"], virus_human[\"species\"]))"
   ]
  },
  {
   "cell_type": "code",
   "execution_count": 5,
   "id": "319b6480-83fa-4d9e-801f-080c7e4b83d7",
   "metadata": {},
   "outputs": [
    {
     "name": "stdout",
     "output_type": "stream",
     "text": [
      "66 viruses found in the database\n",
      "25 viruses not a direct match\n"
     ]
    }
   ],
   "source": [
    "# this only has 62 of the 83 species in the dataframe. Compare families for the rest because the Organism Groups column contains them\n",
    "found_viruses_df = virus_genome_sizes.loc[virus_genome_sizes[\"#Organism Name\"].isin(virus_human['species'].unique())].drop_duplicates([\"#Organism Name\", \"Size(Mb)\"])\n",
    "\n",
    "found_viruses = found_viruses_df[\"#Organism Name\"].unique()\n",
    "\n",
    "print(len(found_viruses), \"viruses found in the database\")\n",
    "\n",
    "missing_viruses = list(set(virus_human['species'].unique()) - set(found_viruses))\n",
    "\n",
    "print(len(missing_viruses), \"viruses not a direct match\")"
   ]
  },
  {
   "cell_type": "code",
   "execution_count": 6,
   "id": "2c9b5e15-1d6b-4743-b830-af748ec26b24",
   "metadata": {},
   "outputs": [
    {
     "name": "stdout",
     "output_type": "stream",
     "text": [
      "Rubivirus rubellae\n"
     ]
    }
   ],
   "source": [
    "virus_genomes_df = pd.DataFrame(found_viruses_df.groupby(\"#Organism Name\")[\"Size(Mb)\"].mean()).reset_index()\n",
    "virus_genomes_df.columns = [\"Species\", \"Size(Mb)\"]\n",
    "\n",
    "add_viruses_to_df = []\n",
    "genome_sizes = []\n",
    "\n",
    "for virus in missing_viruses:\n",
    "    \n",
    "    search_term = virus.split(\" \")\n",
    "    \n",
    "    # sometimes the split results in the last word being \"virus\"\n",
    "    if \"virus\" in search_term:\n",
    "        search_term.remove(\"virus\")\n",
    "    \n",
    "    # don't search the last term if it is of length 1 or 2, which means that it's a strain number\n",
    "    # this confounds the results by including searches for A or 10 or something like that\n",
    "    if len(search_term[-1]) in [1, 2]:  \n",
    "        search_term = search_term[:-1]\n",
    "        \n",
    "    res_df = virus_genome_sizes.loc[virus_genome_sizes[\"#Organism Name\"].str.contains(\"|\".join(search_term), case=False)]\n",
    "    if len(res_df) > 0:\n",
    "        genome_sizes.append(res_df[\"Size(Mb)\"].mean())\n",
    "        add_viruses_to_df.append(virus)\n",
    "    else:\n",
    "        print(virus)\n",
    "        \n",
    "# add rubella virus manually because it's just 1 virus\n",
    "add_viruses_to_df.append(\"Rubivirus rubellae\")\n",
    "genome_sizes.append(virus_genome_sizes.loc[virus_genome_sizes[\"#Organism Name\"].str.contains(\"rubella\", case=False)][\"Size(Mb)\"].mean())\n",
    "\n",
    "virus_genomes_df = pd.concat([virus_genomes_df, pd.DataFrame({\"Species\": add_viruses_to_df, \"Size(Mb)\": genome_sizes})]).reset_index(drop=True)\n",
    "\n",
    "assert len(set(virus_genomes_df[\"Species\"]).intersection(virus_human[\"species\"])) == len(virus_genomes_df)"
   ]
  },
  {
   "cell_type": "code",
   "execution_count": 7,
   "id": "b8bd20da-da81-4f06-91d0-dcd1be110d2d",
   "metadata": {},
   "outputs": [],
   "source": [
    "model_df = pd.DataFrame(taxnames_species_dict, index=[0]).T.reset_index()\n",
    "model_df.columns = [\"Taxname\", \"Species\"]\n",
    "\n",
    "# combine with the genome lengths\n",
    "model_df = pd.merge(model_df, virus_genomes_df, on=\"Species\", how=\"outer\")\n",
    "\n",
    "# number of proteins interacting with human proteins for a given viral species\n",
    "protein_interactions = pd.DataFrame(virus_human.groupby([\"Taxname A\"])[\"Protein B\"].apply(lambda x: len(np.unique(x)))).reset_index()\n",
    "protein_interactions.columns = [\"Taxname\", \"num_unique_interactions\"]\n",
    "\n",
    "# combine with the protein_interactions list\n",
    "model_df = pd.merge(model_df, protein_interactions, on=\"Taxname\", how=\"outer\")\n",
    "\n",
    "publications_df = pd.DataFrame(virus_human.groupby([\"Taxname A\"])[\"Publication\"].apply(lambda x: len(np.unique(x)))).reset_index()\n",
    "publications_df.columns = [\"Taxname\", \"num_publications\"]\n",
    "\n",
    "# combine with the publications list\n",
    "model_df = pd.merge(model_df, publications_df, on=\"Taxname\", how=\"outer\")\n",
    "\n",
    "# add the taxids for easy cross-referencing\n",
    "model_df = pd.merge(virus_human[[\"Taxid A\", \"Taxname A\"]].drop_duplicates(), model_df, left_on=\"Taxname A\", right_on=\"Taxname\", how=\"inner\")\n",
    "\n",
    "# duplicate column now\n",
    "del model_df[\"Taxname A\"]\n",
    "\n",
    "model_df.rename(columns={\"Taxid A\": \"Taxid\"}, inplace=True)\n",
    "\n",
    "# convert megabase size to kilobase to be on the same scale as the other variables\n",
    "model_df[\"Size(Mb)\"] *= 1000\n",
    "model_df.rename(columns={\"Size(Mb)\":\"Size(Kb)\"}, inplace=True)\n",
    "\n",
    "# finally, save it to a dataframe for modeling later (need the outcome variable)\n",
    "#model_df.to_csv(\"model_predictors.csv\", index=False)"
   ]
  },
  {
   "cell_type": "markdown",
   "id": "adf21c7f-e79d-42fe-8515-e390a84ba862",
   "metadata": {},
   "source": [
    "### Manually determined which viruses predominantly infect animals and removed them\n",
    "\n",
    "For studying protein-protein interactions, these are useful, but for the viral severity model, the outcome variable is severity in humans. Therefore, it makes sense to consider only viruses that infect humans with clinical relevance. "
   ]
  },
  {
   "cell_type": "code",
   "execution_count": 8,
   "id": "87ac9f65-90d2-4f5a-8d88-758319f6df8e",
   "metadata": {},
   "outputs": [],
   "source": [
    "nonhuman_viruses = ['Avian infectious bronchitis virus (strain Beaudette US)', 'Avian infectious bronchitis virus (strain Beaudette)', 'Avian sarcoma virus PR2257', 'Macaca mulatta polyomavirus 1',\n",
    "                   \"Marek's disease herpesvirus type 1 strain MD5\", 'Pipistrellus bat coronavirus HKU5', 'Rousettus bat coronavirus HKU9',\n",
    "                    'Canine enteric coronavirus INSAVC-1','Porcine transmissible gastroenteritis coronavirus strain Purdue',\n",
    "                    'Porcine respiratory coronavirus (STRAIN RM4)', 'Bat SARS CoV Rp3/2004', 'Murine hepatitis virus strain A59', \n",
    "                    'Bovine coronavirus strain Quebec', 'Semliki Forest virus', 'Suid alphaherpesvirus 1', \n",
    "                    'Equine herpesvirus type 1 (strain Kentucky A)', 'Equid alphaherpesvirus 1', 'Equid herpesvirus type 2 strain 86/87',\n",
    "                   'Bos taurus papillomavirus 2', 'Murine adenovirus 1', 'Fowl aviadenovirus 1', 'Hog cholera virus (strain Alfort)',\n",
    "                   'Bovine herpesvirus type 1.1', 'Bovine gammaherpesvirus 4', 'Bovine herpesvirus type 1.1 (strain Cooper)',\n",
    "                   'Bat coronavirus BM48-31/BGR/2008', 'Mus musculus polyomavirus 1', 'Rous sarcoma virus (strain Schmidt-Ruppin A)',\n",
    "                   'Murid gammaherpesvirus 4', 'Bovine alphaherpesvirus 1','Bat coronavirus RaTG13', 'Pangolin coronavirus', 'Simian virus 5 (strain W3)',\n",
    "                    'Bovine herpesvirus type 1.1 (strain Jura)', 'Classical swine fever virus - Alfort/187', 'Classical swine fever virus - Brescia',\n",
    "                    'Bat SARS-like coronavirus WIV1', 'Encephalomyocarditis virus', 'SARS coronavirus HB','Porcine enteric alphacoronavirus','Murine cytomegalovirus (strain Smith)',\n",
    "                   'Bovine viral diarrhea virus 1-NADL', 'African swine fever virus', 'Murine polyomavirus strain A3',\n",
    "                   'Herpesvirus saimiri (strain 488)', 'Herpesvirus saimiri (strain 11)', 'Murine minute virus strain MVM prototype',\n",
    "                   'Simian immunodeficiency virus (PBJ/BC13 ISOLATE) (SOOTY MANGABEY)', 'Simian immunodeficiency virus']\n",
    "\n",
    "model_df_human = model_df.loc[~model_df[\"Taxname\"].isin(nonhuman_viruses)]\n",
    "model_df_human.to_csv(\"model_predictors_human.csv\", index=False)"
   ]
  },
  {
   "cell_type": "markdown",
   "id": "1699b1ca-e603-4a7b-8b08-442925a5271e",
   "metadata": {},
   "source": [
    "# Start here if all files have already been generated"
   ]
  },
  {
   "cell_type": "code",
   "execution_count": 2,
   "id": "0126d9dc-55fc-4c2b-aba3-9b98b8db9057",
   "metadata": {},
   "outputs": [
    {
     "data": {
      "text/html": [
       "<div>\n",
       "<style scoped>\n",
       "    .dataframe tbody tr th:only-of-type {\n",
       "        vertical-align: middle;\n",
       "    }\n",
       "\n",
       "    .dataframe tbody tr th {\n",
       "        vertical-align: top;\n",
       "    }\n",
       "\n",
       "    .dataframe thead th {\n",
       "        text-align: right;\n",
       "    }\n",
       "</style>\n",
       "<table border=\"1\" class=\"dataframe\">\n",
       "  <thead>\n",
       "    <tr style=\"text-align: right;\">\n",
       "      <th></th>\n",
       "      <th>Taxid</th>\n",
       "      <th>Taxname</th>\n",
       "      <th>Species</th>\n",
       "      <th>Size(Kb)</th>\n",
       "      <th>num_unique_interactions</th>\n",
       "      <th>num_publications</th>\n",
       "    </tr>\n",
       "  </thead>\n",
       "  <tbody>\n",
       "    <tr>\n",
       "      <th>0</th>\n",
       "      <td>1263720</td>\n",
       "      <td>Betacoronavirus England 1</td>\n",
       "      <td>Middle East respiratory syndrome-related coron...</td>\n",
       "      <td>30.119000</td>\n",
       "      <td>573</td>\n",
       "      <td>23</td>\n",
       "    </tr>\n",
       "    <tr>\n",
       "      <th>1</th>\n",
       "      <td>694009</td>\n",
       "      <td>Severe acute respiratory syndrome-related coro...</td>\n",
       "      <td>Severe acute respiratory syndrome-related coro...</td>\n",
       "      <td>29.274000</td>\n",
       "      <td>1155</td>\n",
       "      <td>77</td>\n",
       "    </tr>\n",
       "    <tr>\n",
       "      <th>2</th>\n",
       "      <td>11295</td>\n",
       "      <td>Rabies virus ERA</td>\n",
       "      <td>Rabies lyssavirus</td>\n",
       "      <td>11.916765</td>\n",
       "      <td>3651</td>\n",
       "      <td>2</td>\n",
       "    </tr>\n",
       "    <tr>\n",
       "      <th>3</th>\n",
       "      <td>11137</td>\n",
       "      <td>Human coronavirus 229E</td>\n",
       "      <td>Human coronavirus 229E</td>\n",
       "      <td>27.317000</td>\n",
       "      <td>386</td>\n",
       "      <td>5</td>\n",
       "    </tr>\n",
       "    <tr>\n",
       "      <th>4</th>\n",
       "      <td>1235996</td>\n",
       "      <td>Human betacoronavirus 2c EMC/2012</td>\n",
       "      <td>Middle East respiratory syndrome-related coron...</td>\n",
       "      <td>30.119000</td>\n",
       "      <td>8</td>\n",
       "      <td>4</td>\n",
       "    </tr>\n",
       "    <tr>\n",
       "      <th>...</th>\n",
       "      <td>...</td>\n",
       "      <td>...</td>\n",
       "      <td>...</td>\n",
       "      <td>...</td>\n",
       "      <td>...</td>\n",
       "      <td>...</td>\n",
       "    </tr>\n",
       "    <tr>\n",
       "      <th>135</th>\n",
       "      <td>31635</td>\n",
       "      <td>Dengue virus 2 16681-PDK53</td>\n",
       "      <td>Dengue virus</td>\n",
       "      <td>10.693167</td>\n",
       "      <td>106</td>\n",
       "      <td>1</td>\n",
       "    </tr>\n",
       "    <tr>\n",
       "      <th>136</th>\n",
       "      <td>648242</td>\n",
       "      <td>Adeno-associated virus 2 Srivastava/1982</td>\n",
       "      <td>Adeno-associated dependoparvovirus A</td>\n",
       "      <td>4.575765</td>\n",
       "      <td>1</td>\n",
       "      <td>1</td>\n",
       "    </tr>\n",
       "    <tr>\n",
       "      <th>137</th>\n",
       "      <td>10360</td>\n",
       "      <td>Human herpesvirus 5 strain AD169</td>\n",
       "      <td>Human betaherpesvirus 5</td>\n",
       "      <td>234.511500</td>\n",
       "      <td>3</td>\n",
       "      <td>1</td>\n",
       "    </tr>\n",
       "    <tr>\n",
       "      <th>138</th>\n",
       "      <td>11113</td>\n",
       "      <td>Hepatitis C virus isolate HC-J6</td>\n",
       "      <td>Hepacivirus C</td>\n",
       "      <td>9.432274</td>\n",
       "      <td>1</td>\n",
       "      <td>1</td>\n",
       "    </tr>\n",
       "    <tr>\n",
       "      <th>139</th>\n",
       "      <td>1173018</td>\n",
       "      <td>Phlebovirus WCH/97/HN/China/2011</td>\n",
       "      <td>Phlebovirus WCH/97/HN/China/2011</td>\n",
       "      <td>10.681000</td>\n",
       "      <td>2</td>\n",
       "      <td>1</td>\n",
       "    </tr>\n",
       "  </tbody>\n",
       "</table>\n",
       "<p>140 rows × 6 columns</p>\n",
       "</div>"
      ],
      "text/plain": [
       "       Taxid                                            Taxname  \\\n",
       "0    1263720                          Betacoronavirus England 1   \n",
       "1     694009  Severe acute respiratory syndrome-related coro...   \n",
       "2      11295                                   Rabies virus ERA   \n",
       "3      11137                             Human coronavirus 229E   \n",
       "4    1235996                  Human betacoronavirus 2c EMC/2012   \n",
       "..       ...                                                ...   \n",
       "135    31635                         Dengue virus 2 16681-PDK53   \n",
       "136   648242           Adeno-associated virus 2 Srivastava/1982   \n",
       "137    10360                   Human herpesvirus 5 strain AD169   \n",
       "138    11113                    Hepatitis C virus isolate HC-J6   \n",
       "139  1173018                   Phlebovirus WCH/97/HN/China/2011   \n",
       "\n",
       "                                               Species    Size(Kb)  \\\n",
       "0    Middle East respiratory syndrome-related coron...   30.119000   \n",
       "1    Severe acute respiratory syndrome-related coro...   29.274000   \n",
       "2                                    Rabies lyssavirus   11.916765   \n",
       "3                               Human coronavirus 229E   27.317000   \n",
       "4    Middle East respiratory syndrome-related coron...   30.119000   \n",
       "..                                                 ...         ...   \n",
       "135                                       Dengue virus   10.693167   \n",
       "136               Adeno-associated dependoparvovirus A    4.575765   \n",
       "137                            Human betaherpesvirus 5  234.511500   \n",
       "138                                      Hepacivirus C    9.432274   \n",
       "139                   Phlebovirus WCH/97/HN/China/2011   10.681000   \n",
       "\n",
       "     num_unique_interactions  num_publications  \n",
       "0                        573                23  \n",
       "1                       1155                77  \n",
       "2                       3651                 2  \n",
       "3                        386                 5  \n",
       "4                          8                 4  \n",
       "..                       ...               ...  \n",
       "135                      106                 1  \n",
       "136                        1                 1  \n",
       "137                        3                 1  \n",
       "138                        1                 1  \n",
       "139                        2                 1  \n",
       "\n",
       "[140 rows x 6 columns]"
      ]
     },
     "execution_count": 2,
     "metadata": {},
     "output_type": "execute_result"
    }
   ],
   "source": [
    "model_df = pd.read_csv(\"model_predictors.csv\")\n",
    "model_df_human = pd.read_csv(\"model_predictors_human.csv\")\n",
    "\n",
    "model_df_human"
   ]
  },
  {
   "cell_type": "code",
   "execution_count": 3,
   "id": "54c37847-9da1-4fa6-a1e1-735ef0b20569",
   "metadata": {},
   "outputs": [
    {
     "data": {
      "text/plain": [
       "(140, 60)"
      ]
     },
     "execution_count": 3,
     "metadata": {},
     "output_type": "execute_result"
    }
   ],
   "source": [
    "len(model_df_human.Taxname.unique()), len(model_df_human.Species.unique())"
   ]
  },
  {
   "cell_type": "code",
   "execution_count": 4,
   "id": "b572e58e-8d48-4a47-baf7-ee623a67ba5d",
   "metadata": {},
   "outputs": [],
   "source": [
    "viral_severity = []\n",
    "\n",
    "for virus in model_df_human.Taxname.values:\n",
    "    \n",
    "    if any(map(virus.lower().__contains__, [\"229e\", \"nl63\", \"oc43\", \"hku1\", \"vesicul\", \"vaccinia\", \"syncytial\", \"orthopneumovirus\"])):\n",
    "        viral_severity.append(\"very low\")\n",
    "        \n",
    "    # betaherpesviruses include CMV, HepE (Orthohepe), HHV-5 = CMV\n",
    "    elif any(map(virus.lower().__contains__, [\"adeno\", \"parvo\", \"hepe\", \"h1n1\", \"h3n2\", \"alphaherpesvirus\", \"lymphotrophic\", \"polyomavirus\", \"zika\",\n",
    "                                             \"rubella\", \"measles\", \"herpesvirus 6\", \"herpesvirus 2\", \"herpesvirus 5\"])):\n",
    "        viral_severity.append(\"low\")\n",
    "        \n",
    "    # HHV-4 = EBV, HHV-8 = KSHV. Kunjin virus is a subtype of West Nile\n",
    "    elif any(map(virus.lower().__contains__, [\"polio\", \"hepa\", \"hiv\", \"enterovirus a71\", \"dengue\", \"nile\", \"h5n1\", \"h7n7\", \"h9n2\", \"immunodeficiency\", \"papillomavirus\", \"sars\", \"betacoronavirus\",\n",
    "                                             \"severe acute respiratory syndrome\", \"encephalitis\", \"coronavirus 2\", \"epstein\", \"leukemia\", \"lymphotropic\", \"lymphocytic\", \"herpesvirus 4\", \"herpesvirus 8\", \"kunjin\"])):\n",
    "        viral_severity.append(\"moderate\")\n",
    "        \n",
    "    elif any(map(virus.lower().__contains__, [\"rabies\", \"henipa\", \"ebola\", \"middle east\", \"hemorrhagic\", \"phlebo\", \"sfts\"])):\n",
    "        viral_severity.append(\"severe\")\n",
    "        \n",
    "    else:\n",
    "        print(virus)\n",
    "        \n",
    "model_df_human[\"Severity\"] = pd.Categorical(viral_severity, categories=[\"very low\", \"low\", \"moderate\", \"severe\"], ordered=True)"
   ]
  },
  {
   "cell_type": "code",
   "execution_count": 5,
   "id": "f86abe0d-fc6a-4833-afee-76155cd623ad",
   "metadata": {},
   "outputs": [],
   "source": [
    "def spearman_rho_corr(df, col1, col2):\n",
    "    \n",
    "    sns.scatterplot(data=df, x=col1, y=col2)\n",
    "    plt.xscale(\"log\")\n",
    "    plt.yscale(\"log\")\n",
    "    sns.despine()\n",
    "    plt.show()\n",
    "    \n",
    "    return st.spearmanr(df[col1], df[col2])"
   ]
  },
  {
   "cell_type": "code",
   "execution_count": 6,
   "id": "fb179232-120d-4b2c-9989-ba264cc6d113",
   "metadata": {},
   "outputs": [],
   "source": [
    "def make_export_strip_plot(df, plot_variable, output_file, ylabel=None):\n",
    "    \n",
    "    p = iqplot.stripbox(data=df, cats=[\"Severity\"], q=plot_variable, q_axis=\"y\", \n",
    "                    y_axis_type=\"log\", jitter=True, height=550, width=800,\n",
    "                        marker_kwargs={\"size\":6, \"alpha\":1},\n",
    "                       #y_axis_label=ylabel\n",
    "                       )\n",
    "    \n",
    "    p.xaxis.major_label_text_font_size = '16pt'\n",
    "    p.yaxis.major_label_text_font_size = '16pt'\n",
    "    bokeh.io.show(p)\n",
    "\n",
    "    p.output_backend = \"svg\"\n",
    "    \n",
    "    if \".svg\" not in output_file:\n",
    "        output_file += \".svg\"\n",
    "    \n",
    "    export_svgs(p, filename=output_file)"
   ]
  },
  {
   "cell_type": "code",
   "execution_count": 7,
   "id": "1daeda14-7c3d-4e95-b0b9-699492fa5ba1",
   "metadata": {},
   "outputs": [],
   "source": [
    "from selenium import webdriver\n",
    "import chromedriver_binary  # Adds chromedriver binary to path\n",
    "\n",
    "# driver = webdriver.Chrome()\n",
    "# driver.get(\"http://www.python.org\")\n",
    "# assert \"Python\" in driver.title"
   ]
  },
  {
   "cell_type": "code",
   "execution_count": 8,
   "id": "1268e836-765f-4e07-a895-14453ac40d79",
   "metadata": {},
   "outputs": [
    {
     "data": {
      "text/html": [
       "\n",
       "\n",
       "\n",
       "\n",
       "\n",
       "\n",
       "  <div class=\"bk-root\" id=\"e5834201-3adc-4dc6-aa1c-d009710ee470\" data-root-id=\"1004\"></div>\n"
      ]
     },
     "metadata": {},
     "output_type": "display_data"
    },
    {
     "data": {
      "application/javascript": [
       "(function(root) {\n",
       "  function embed_document(root) {\n",
       "    \n",
       "  const docs_json = {\"a5b906b9-212b-4076-aca4-4c1c8ba0f6f2\":{\"defs\":[],\"roots\":{\"references\":[{\"attributes\":{\"below\":[{\"id\":\"1012\"}],\"center\":[{\"id\":\"1014\"},{\"id\":\"1018\"}],\"height\":550,\"left\":[{\"id\":\"1015\"}],\"renderers\":[{\"id\":\"1042\"},{\"id\":\"1048\"},{\"id\":\"1054\"},{\"id\":\"1060\"},{\"id\":\"1066\"},{\"id\":\"1072\"},{\"id\":\"1082\"}],\"title\":{\"id\":\"1084\"},\"toolbar\":{\"id\":\"1026\"},\"toolbar_location\":\"above\",\"width\":800,\"x_range\":{\"id\":\"1003\"},\"x_scale\":{\"id\":\"1008\"},\"y_range\":{\"id\":\"1006\"},\"y_scale\":{\"id\":\"1010\"}},\"id\":\"1004\",\"subtype\":\"Figure\",\"type\":\"Plot\"},{\"attributes\":{},\"id\":\"1006\",\"type\":\"DataRange1d\"},{\"attributes\":{\"bottom\":{\"field\":\"bottom_whisker\"},\"fill_alpha\":{\"value\":0.2},\"fill_color\":{\"value\":\"#1f77b4\"},\"hatch_alpha\":{\"value\":0.2},\"line_alpha\":{\"value\":0.2},\"line_color\":{\"value\":\"gray\"},\"top\":{\"field\":\"bottom_whisker\"},\"width\":{\"value\":0.1},\"x\":{\"field\":\"cat\"}},\"id\":\"1059\",\"type\":\"VBar\"},{\"attributes\":{},\"id\":\"1090\",\"type\":\"CategoricalTickFormatter\"},{\"attributes\":{\"line_alpha\":{\"value\":0.1},\"line_color\":{\"value\":\"gray\"},\"x0\":{\"field\":\"cat\"},\"x1\":{\"field\":\"cat\"},\"y0\":{\"field\":\"top\"},\"y1\":{\"field\":\"top_whisker\"}},\"id\":\"1040\",\"type\":\"Segment\"},{\"attributes\":{\"bottom\":{\"field\":\"bottom\"},\"fill_alpha\":{\"value\":0},\"fill_color\":{\"field\":\"cat\",\"transform\":{\"id\":\"1037\"}},\"line_color\":{\"value\":\"gray\"},\"top\":{\"field\":\"top\"},\"width\":{\"value\":0.4},\"x\":{\"field\":\"cat\"}},\"id\":\"1063\",\"type\":\"VBar\"},{\"attributes\":{\"line_color\":{\"value\":\"gray\"},\"x0\":{\"field\":\"cat\"},\"x1\":{\"field\":\"cat\"},\"y0\":{\"field\":\"top\"},\"y1\":{\"field\":\"top_whisker\"}},\"id\":\"1039\",\"type\":\"Segment\"},{\"attributes\":{},\"id\":\"1088\",\"type\":\"AllLabels\"},{\"attributes\":{},\"id\":\"1010\",\"type\":\"LogScale\"},{\"attributes\":{\"line_alpha\":{\"value\":0.1},\"line_color\":{\"value\":\"gray\"},\"x0\":{\"field\":\"cat\"},\"x1\":{\"field\":\"cat\"},\"y0\":{\"field\":\"bottom\"},\"y1\":{\"field\":\"bottom_whisker\"}},\"id\":\"1046\",\"type\":\"Segment\"},{\"attributes\":{\"axis_label\":\"num_unique_interactions\",\"coordinates\":null,\"formatter\":{\"id\":\"1087\"},\"group\":null,\"major_label_policy\":{\"id\":\"1088\"},\"major_label_text_font_size\":\"16pt\",\"ticker\":{\"id\":\"1016\"}},\"id\":\"1015\",\"type\":\"LogAxis\"},{\"attributes\":{\"coordinates\":null,\"data_source\":{\"id\":\"1033\"},\"glyph\":{\"id\":\"1039\"},\"group\":null,\"hover_glyph\":null,\"muted_glyph\":{\"id\":\"1041\"},\"nonselection_glyph\":{\"id\":\"1040\"},\"view\":{\"id\":\"1043\"}},\"id\":\"1042\",\"type\":\"GlyphRenderer\"},{\"attributes\":{\"fill_color\":{\"field\":\"cat\",\"transform\":{\"id\":\"1075\"}},\"hatch_color\":{\"field\":\"cat\",\"transform\":{\"id\":\"1075\"}},\"line_color\":{\"field\":\"cat\",\"transform\":{\"id\":\"1075\"}},\"size\":{\"value\":6},\"x\":{\"field\":\"cat\",\"transform\":{\"id\":\"1077\"}},\"y\":{\"field\":\"num_unique_interactions\"}},\"id\":\"1079\",\"type\":\"Circle\"},{\"attributes\":{},\"id\":\"1092\",\"type\":\"UnionRenderers\"},{\"attributes\":{\"coordinates\":null,\"formatter\":{\"id\":\"1090\"},\"group\":null,\"major_label_policy\":{\"id\":\"1091\"},\"major_label_text_font_size\":\"16pt\",\"ticker\":{\"id\":\"1013\"}},\"id\":\"1012\",\"type\":\"CategoricalAxis\"},{\"attributes\":{\"bottom\":{\"field\":\"bottom_whisker\"},\"fill_color\":{\"value\":\"#1f77b4\"},\"line_color\":{\"value\":\"gray\"},\"top\":{\"field\":\"bottom_whisker\"},\"width\":{\"value\":0.1},\"x\":{\"field\":\"cat\"}},\"id\":\"1057\",\"type\":\"VBar\"},{\"attributes\":{\"source\":{\"id\":\"1033\"}},\"id\":\"1055\",\"type\":\"CDSView\"},{\"attributes\":{},\"id\":\"1013\",\"type\":\"CategoricalTicker\"},{\"attributes\":{\"axis\":{\"id\":\"1012\"},\"coordinates\":null,\"grid_line_color\":null,\"group\":null,\"ticker\":null},\"id\":\"1014\",\"type\":\"Grid\"},{\"attributes\":{\"line_alpha\":{\"value\":0.2},\"line_color\":{\"value\":\"gray\"},\"x0\":{\"field\":\"cat\"},\"x1\":{\"field\":\"cat\"},\"y0\":{\"field\":\"bottom\"},\"y1\":{\"field\":\"bottom_whisker\"}},\"id\":\"1047\",\"type\":\"Segment\"},{\"attributes\":{\"bottom\":{\"field\":\"middle\"},\"fill_color\":{\"value\":\"#1f77b4\"},\"line_color\":{\"value\":\"gray\"},\"top\":{\"field\":\"middle\"},\"width\":{\"value\":0.4},\"x\":{\"field\":\"cat\"}},\"id\":\"1069\",\"type\":\"VBar\"},{\"attributes\":{},\"id\":\"1093\",\"type\":\"Selection\"},{\"attributes\":{\"source\":{\"id\":\"1033\"}},\"id\":\"1049\",\"type\":\"CDSView\"},{\"attributes\":{\"source\":{\"id\":\"1076\"}},\"id\":\"1083\",\"type\":\"CDSView\"},{\"attributes\":{\"coordinates\":null,\"data_source\":{\"id\":\"1033\"},\"glyph\":{\"id\":\"1045\"},\"group\":null,\"hover_glyph\":null,\"muted_glyph\":{\"id\":\"1047\"},\"nonselection_glyph\":{\"id\":\"1046\"},\"view\":{\"id\":\"1049\"}},\"id\":\"1048\",\"type\":\"GlyphRenderer\"},{\"attributes\":{\"ticker\":null},\"id\":\"1087\",\"type\":\"LogTickFormatter\"},{\"attributes\":{\"axis\":{\"id\":\"1015\"},\"coordinates\":null,\"dimension\":1,\"group\":null,\"ticker\":null},\"id\":\"1018\",\"type\":\"Grid\"},{\"attributes\":{\"source\":{\"id\":\"1033\"}},\"id\":\"1043\",\"type\":\"CDSView\"},{\"attributes\":{\"num_minor_ticks\":10},\"id\":\"1016\",\"type\":\"LogTicker\"},{\"attributes\":{\"source\":{\"id\":\"1033\"}},\"id\":\"1073\",\"type\":\"CDSView\"},{\"attributes\":{\"bottom\":{\"field\":\"top_whisker\"},\"fill_color\":{\"value\":\"#1f77b4\"},\"line_color\":{\"value\":\"gray\"},\"top\":{\"field\":\"top_whisker\"},\"width\":{\"value\":0.1},\"x\":{\"field\":\"cat\"}},\"id\":\"1051\",\"type\":\"VBar\"},{\"attributes\":{\"bottom\":{\"field\":\"top_whisker\"},\"fill_alpha\":{\"value\":0.1},\"fill_color\":{\"value\":\"#1f77b4\"},\"hatch_alpha\":{\"value\":0.1},\"line_alpha\":{\"value\":0.1},\"line_color\":{\"value\":\"gray\"},\"top\":{\"field\":\"top_whisker\"},\"width\":{\"value\":0.1},\"x\":{\"field\":\"cat\"}},\"id\":\"1052\",\"type\":\"VBar\"},{\"attributes\":{\"source\":{\"id\":\"1033\"}},\"id\":\"1067\",\"type\":\"CDSView\"},{\"attributes\":{},\"id\":\"1020\",\"type\":\"WheelZoomTool\"},{\"attributes\":{\"coordinates\":null,\"data_source\":{\"id\":\"1033\"},\"glyph\":{\"id\":\"1051\"},\"group\":null,\"hover_glyph\":null,\"muted_glyph\":{\"id\":\"1053\"},\"nonselection_glyph\":{\"id\":\"1052\"},\"view\":{\"id\":\"1055\"}},\"id\":\"1054\",\"type\":\"GlyphRenderer\"},{\"attributes\":{},\"id\":\"1019\",\"type\":\"PanTool\"},{\"attributes\":{\"coordinates\":null,\"data_source\":{\"id\":\"1076\"},\"glyph\":{\"id\":\"1079\"},\"group\":null,\"hover_glyph\":null,\"muted_glyph\":{\"id\":\"1081\"},\"nonselection_glyph\":{\"id\":\"1080\"},\"view\":{\"id\":\"1083\"}},\"id\":\"1082\",\"type\":\"GlyphRenderer\"},{\"attributes\":{\"overlay\":{\"id\":\"1025\"}},\"id\":\"1021\",\"type\":\"BoxZoomTool\"},{\"attributes\":{\"line_alpha\":{\"value\":0.2},\"line_color\":{\"value\":\"gray\"},\"x0\":{\"field\":\"cat\"},\"x1\":{\"field\":\"cat\"},\"y0\":{\"field\":\"top\"},\"y1\":{\"field\":\"top_whisker\"}},\"id\":\"1041\",\"type\":\"Segment\"},{\"attributes\":{\"bottom\":{\"field\":\"bottom\"},\"fill_alpha\":{\"value\":0.2},\"fill_color\":{\"field\":\"cat\",\"transform\":{\"id\":\"1037\"}},\"hatch_alpha\":{\"value\":0.2},\"line_alpha\":{\"value\":0.2},\"line_color\":{\"value\":\"gray\"},\"top\":{\"field\":\"top\"},\"width\":{\"value\":0.4},\"x\":{\"field\":\"cat\"}},\"id\":\"1065\",\"type\":\"VBar\"},{\"attributes\":{\"coordinates\":null,\"data_source\":{\"id\":\"1033\"},\"glyph\":{\"id\":\"1069\"},\"group\":null,\"hover_glyph\":null,\"muted_glyph\":{\"id\":\"1071\"},\"nonselection_glyph\":{\"id\":\"1070\"},\"view\":{\"id\":\"1073\"}},\"id\":\"1072\",\"type\":\"GlyphRenderer\"},{\"attributes\":{},\"id\":\"1022\",\"type\":\"SaveTool\"},{\"attributes\":{},\"id\":\"1023\",\"type\":\"ResetTool\"},{\"attributes\":{},\"id\":\"1095\",\"type\":\"Selection\"},{\"attributes\":{\"fill_alpha\":{\"value\":0.1},\"fill_color\":{\"field\":\"cat\",\"transform\":{\"id\":\"1075\"}},\"hatch_alpha\":{\"value\":0.1},\"hatch_color\":{\"field\":\"cat\",\"transform\":{\"id\":\"1075\"}},\"line_alpha\":{\"value\":0.1},\"line_color\":{\"field\":\"cat\",\"transform\":{\"id\":\"1075\"}},\"size\":{\"value\":6},\"x\":{\"field\":\"cat\",\"transform\":{\"id\":\"1077\"}},\"y\":{\"field\":\"num_unique_interactions\"}},\"id\":\"1080\",\"type\":\"Circle\"},{\"attributes\":{},\"id\":\"1008\",\"type\":\"CategoricalScale\"},{\"attributes\":{\"factors\":[\"very low\",\"low\",\"moderate\",\"severe\"]},\"id\":\"1003\",\"type\":\"FactorRange\"},{\"attributes\":{\"data\":{\"__label\":[\"very low\",\"low\",\"moderate\",\"severe\"],\"bottom\":[4.5,1.0,2.0,2.75],\"bottom_whisker\":[1.0,1.0,1.0,1.0],\"cat\":[\"very low\",\"low\",\"moderate\",\"severe\"],\"middle\":[14.0,4.0,11.0,4.5],\"top\":[287.0,36.0,94.5,51.5],\"top_whisker\":[417.0,70.0,233.0,92.0]},\"selected\":{\"id\":\"1093\"},\"selection_policy\":{\"id\":\"1092\"}},\"id\":\"1033\",\"type\":\"ColumnDataSource\"},{\"attributes\":{\"coordinates\":null,\"data_source\":{\"id\":\"1033\"},\"glyph\":{\"id\":\"1057\"},\"group\":null,\"hover_glyph\":null,\"muted_glyph\":{\"id\":\"1059\"},\"nonselection_glyph\":{\"id\":\"1058\"},\"view\":{\"id\":\"1061\"}},\"id\":\"1060\",\"type\":\"GlyphRenderer\"},{\"attributes\":{\"line_color\":{\"value\":\"gray\"},\"x0\":{\"field\":\"cat\"},\"x1\":{\"field\":\"cat\"},\"y0\":{\"field\":\"bottom\"},\"y1\":{\"field\":\"bottom_whisker\"}},\"id\":\"1045\",\"type\":\"Segment\"},{\"attributes\":{\"bottom_units\":\"screen\",\"coordinates\":null,\"fill_alpha\":0.5,\"fill_color\":\"lightgrey\",\"group\":null,\"left_units\":\"screen\",\"level\":\"overlay\",\"line_alpha\":1.0,\"line_color\":\"black\",\"line_dash\":[4,4],\"line_width\":2,\"right_units\":\"screen\",\"syncable\":false,\"top_units\":\"screen\"},\"id\":\"1025\",\"type\":\"BoxAnnotation\"},{\"attributes\":{\"bottom\":{\"field\":\"middle\"},\"fill_alpha\":{\"value\":0.1},\"fill_color\":{\"value\":\"#1f77b4\"},\"hatch_alpha\":{\"value\":0.1},\"line_alpha\":{\"value\":0.1},\"line_color\":{\"value\":\"gray\"},\"top\":{\"field\":\"middle\"},\"width\":{\"value\":0.4},\"x\":{\"field\":\"cat\"}},\"id\":\"1070\",\"type\":\"VBar\"},{\"attributes\":{\"factors\":[\"very low\",\"low\",\"moderate\",\"severe\"],\"palette\":[\"#1f77b3\",\"#ff7e0e\",\"#2ba02b\",\"#d62628\",\"#9367bc\",\"#8c564b\",\"#e277c1\",\"#7e7e7e\",\"#bcbc21\",\"#16bdcf\",\"#3a0182\",\"#004201\",\"#0fffa8\",\"#5d003f\",\"#bcbcff\",\"#d8afa1\",\"#b80080\",\"#004d52\",\"#6b6400\",\"#7c0100\",\"#6026ff\",\"#ffff9a\",\"#564964\",\"#8cb893\",\"#93fbff\",\"#018267\",\"#90ff00\",\"#8200a0\",\"#ac8944\",\"#5b3400\",\"#ffbff2\",\"#ff6e75\",\"#798cff\",\"#dd00ff\",\"#505646\",\"#004489\",\"#ffbf60\",\"#ff018c\",\"#bdc8cf\",\"#af97b5\",\"#b65600\",\"#017000\",\"#cd87ff\",\"#1cd646\",\"#bfebc3\",\"#7997b5\",\"#a56089\",\"#6e8956\",\"#bc7c75\",\"#8a2844\",\"#00acff\",\"#8ed4ff\",\"#4b6d77\",\"#00d4b1\",\"#9300f2\",\"#8a9500\",\"#5d5b9e\",\"#fddfba\",\"#00939e\",\"#ffdb00\",\"#00aa79\",\"#520067\",\"#000091\",\"#0a5d3d\",\"#a5e275\",\"#623b41\",\"#c6c689\",\"#ff9eb5\",\"#cd4f6b\",\"#ff07d6\",\"#8a3a05\",\"#7e3d70\",\"#ff4901\",\"#602ba5\",\"#1c00ff\",\"#e6dfff\",\"#aa3baf\",\"#d89c00\",\"#a3a39e\",\"#3f69ff\",\"#46490c\",\"#7b6985\",\"#6b978c\",\"#ff9a75\",\"#835bff\",\"#7c6b46\",\"#80b654\",\"#bc0049\",\"#fd93ff\",\"#5d0018\",\"#89d1d1\",\"#9c8cd3\",\"#da6d42\",\"#8a5700\",\"#3b5069\",\"#4b6b3b\",\"#edcfd8\",\"#cfedff\",\"#aa1500\",\"#dfff4f\",\"#ff2a56\",\"#d1499e\",\"#707cb8\",\"#598000\",\"#00e4fd\",\"#774b95\",\"#67d48c\",\"#3d3a72\",\"#ac413f\",\"#d6a166\",\"#c169cd\",\"#69595d\",\"#87aced\",\"#a0a569\",\"#d1aae6\",\"#870062\",\"#00fddb\",\"#672818\",\"#b342ff\",\"#0e59c4\",\"#168742\",\"#90d300\",\"#cd7900\",\"#f959ff\",\"#5b7466\",\"#8eaeb3\",\"#9c7c8c\",\"#4600c6\",\"#6b4d2d\",\"#a56d46\",\"#9e8972\",\"#a8afca\",\"#cd8ca7\",\"#00fd64\",\"#917900\",\"#ff62a1\",\"#f4ffd8\",\"#018cf0\",\"#13aca0\",\"#5b2d59\",\"#89859e\",\"#cfccba\",\"#d4afc4\",\"#dbdd6d\",\"#cffff4\",\"#006485\",\"#006962\",\"#a84167\",\"#2d97c4\",\"#a874ff\",\"#26ba5d\",\"#57b600\",\"#caffa7\",\"#a379aa\",\"#ffbc93\",\"#89e2c1\",\"#0fc8ff\",\"#d400c4\",\"#626d89\",\"#69858e\",\"#4b4d52\",\"#aa6067\",\"#79b5d4\",\"#2b5916\",\"#9a0024\",\"#bdd1f2\",\"#896e67\",\"#69a56b\",\"#855467\",\"#aecdba\",\"#87997e\",\"#cadb00\",\"#9a0390\",\"#ebbc1a\",\"#eb9cd1\",\"#70006e\",\"#b1a131\",\"#ca6b93\",\"#4146a3\",\"#e48c89\",\"#d44400\",\"#c68aca\",\"#b69597\",\"#d41f75\",\"#724bcc\",\"#674d00\",\"#672138\",\"#38564f\",\"#6ebaaa\",\"#853a31\",\"#a5d397\",\"#b8af8e\",\"#d8e4df\",\"#aa00df\",\"#cac1db\",\"#ffdf8c\",\"#e2524d\",\"#66696e\",\"#ff001c\",\"#522d72\",\"#4d906b\",\"#a86d11\",\"#ff9e26\",\"#5ea3af\",\"#c88556\",\"#915997\",\"#a3a1ff\",\"#fdbaba\",\"#242a87\",\"#dbe6a8\",\"#97f2a7\",\"#6793d6\",\"#ba5b3f\",\"#3a5d91\",\"#364f2f\",\"#267c95\",\"#89959a\",\"#cfb356\",\"#004664\",\"#5e5d2f\",\"#8e8e41\",\"#ac3f13\",\"#69953b\",\"#a13d85\",\"#bfb6ba\",\"#acc667\",\"#6469cf\",\"#91af00\",\"#2be2da\",\"#016e36\",\"#ff7952\",\"#42807e\",\"#4fe800\",\"#995428\",\"#5d0a00\",\"#a30057\",\"#0c8700\",\"#5982a7\",\"#ffebfb\",\"#4b6901\",\"#8775d4\",\"#e6c6ff\",\"#a5ffda\",\"#d86e77\",\"#df014b\",\"#69675b\",\"#776ba1\",\"#7e8067\",\"#594685\",\"#0000ca\",\"#7c002a\",\"#97ff72\",\"#b5e2e1\",\"#db52c8\",\"#777734\",\"#57bd8e\"]},\"id\":\"1037\",\"type\":\"CategoricalColorMapper\"},{\"attributes\":{\"tools\":[{\"id\":\"1019\"},{\"id\":\"1020\"},{\"id\":\"1021\"},{\"id\":\"1022\"},{\"id\":\"1023\"},{\"id\":\"1024\"}]},\"id\":\"1026\",\"type\":\"Toolbar\"},{\"attributes\":{\"bottom\":{\"field\":\"bottom_whisker\"},\"fill_alpha\":{\"value\":0.1},\"fill_color\":{\"value\":\"#1f77b4\"},\"hatch_alpha\":{\"value\":0.1},\"line_alpha\":{\"value\":0.1},\"line_color\":{\"value\":\"gray\"},\"top\":{\"field\":\"bottom_whisker\"},\"width\":{\"value\":0.1},\"x\":{\"field\":\"cat\"}},\"id\":\"1058\",\"type\":\"VBar\"},{\"attributes\":{\"source\":{\"id\":\"1033\"}},\"id\":\"1061\",\"type\":\"CDSView\"},{\"attributes\":{\"distribution\":\"normal\",\"range\":{\"id\":\"1003\"},\"width\":0.1},\"id\":\"1077\",\"type\":\"Jitter\"},{\"attributes\":{\"coordinates\":null,\"data_source\":{\"id\":\"1033\"},\"glyph\":{\"id\":\"1063\"},\"group\":null,\"hover_glyph\":null,\"muted_glyph\":{\"id\":\"1065\"},\"nonselection_glyph\":{\"id\":\"1064\"},\"view\":{\"id\":\"1067\"}},\"id\":\"1066\",\"type\":\"GlyphRenderer\"},{\"attributes\":{\"bottom\":{\"field\":\"middle\"},\"fill_alpha\":{\"value\":0.2},\"fill_color\":{\"value\":\"#1f77b4\"},\"hatch_alpha\":{\"value\":0.2},\"line_alpha\":{\"value\":0.2},\"line_color\":{\"value\":\"gray\"},\"top\":{\"field\":\"middle\"},\"width\":{\"value\":0.4},\"x\":{\"field\":\"cat\"}},\"id\":\"1071\",\"type\":\"VBar\"},{\"attributes\":{\"factors\":[\"very low\",\"low\",\"moderate\",\"severe\"],\"palette\":[\"#1f77b3\",\"#ff7e0e\",\"#2ba02b\",\"#d62628\",\"#9367bc\",\"#8c564b\",\"#e277c1\",\"#7e7e7e\",\"#bcbc21\",\"#16bdcf\",\"#3a0182\",\"#004201\",\"#0fffa8\",\"#5d003f\",\"#bcbcff\",\"#d8afa1\",\"#b80080\",\"#004d52\",\"#6b6400\",\"#7c0100\",\"#6026ff\",\"#ffff9a\",\"#564964\",\"#8cb893\",\"#93fbff\",\"#018267\",\"#90ff00\",\"#8200a0\",\"#ac8944\",\"#5b3400\",\"#ffbff2\",\"#ff6e75\",\"#798cff\",\"#dd00ff\",\"#505646\",\"#004489\",\"#ffbf60\",\"#ff018c\",\"#bdc8cf\",\"#af97b5\",\"#b65600\",\"#017000\",\"#cd87ff\",\"#1cd646\",\"#bfebc3\",\"#7997b5\",\"#a56089\",\"#6e8956\",\"#bc7c75\",\"#8a2844\",\"#00acff\",\"#8ed4ff\",\"#4b6d77\",\"#00d4b1\",\"#9300f2\",\"#8a9500\",\"#5d5b9e\",\"#fddfba\",\"#00939e\",\"#ffdb00\",\"#00aa79\",\"#520067\",\"#000091\",\"#0a5d3d\",\"#a5e275\",\"#623b41\",\"#c6c689\",\"#ff9eb5\",\"#cd4f6b\",\"#ff07d6\",\"#8a3a05\",\"#7e3d70\",\"#ff4901\",\"#602ba5\",\"#1c00ff\",\"#e6dfff\",\"#aa3baf\",\"#d89c00\",\"#a3a39e\",\"#3f69ff\",\"#46490c\",\"#7b6985\",\"#6b978c\",\"#ff9a75\",\"#835bff\",\"#7c6b46\",\"#80b654\",\"#bc0049\",\"#fd93ff\",\"#5d0018\",\"#89d1d1\",\"#9c8cd3\",\"#da6d42\",\"#8a5700\",\"#3b5069\",\"#4b6b3b\",\"#edcfd8\",\"#cfedff\",\"#aa1500\",\"#dfff4f\",\"#ff2a56\",\"#d1499e\",\"#707cb8\",\"#598000\",\"#00e4fd\",\"#774b95\",\"#67d48c\",\"#3d3a72\",\"#ac413f\",\"#d6a166\",\"#c169cd\",\"#69595d\",\"#87aced\",\"#a0a569\",\"#d1aae6\",\"#870062\",\"#00fddb\",\"#672818\",\"#b342ff\",\"#0e59c4\",\"#168742\",\"#90d300\",\"#cd7900\",\"#f959ff\",\"#5b7466\",\"#8eaeb3\",\"#9c7c8c\",\"#4600c6\",\"#6b4d2d\",\"#a56d46\",\"#9e8972\",\"#a8afca\",\"#cd8ca7\",\"#00fd64\",\"#917900\",\"#ff62a1\",\"#f4ffd8\",\"#018cf0\",\"#13aca0\",\"#5b2d59\",\"#89859e\",\"#cfccba\",\"#d4afc4\",\"#dbdd6d\",\"#cffff4\",\"#006485\",\"#006962\",\"#a84167\",\"#2d97c4\",\"#a874ff\",\"#26ba5d\",\"#57b600\",\"#caffa7\",\"#a379aa\",\"#ffbc93\",\"#89e2c1\",\"#0fc8ff\",\"#d400c4\",\"#626d89\",\"#69858e\",\"#4b4d52\",\"#aa6067\",\"#79b5d4\",\"#2b5916\",\"#9a0024\",\"#bdd1f2\",\"#896e67\",\"#69a56b\",\"#855467\",\"#aecdba\",\"#87997e\",\"#cadb00\",\"#9a0390\",\"#ebbc1a\",\"#eb9cd1\",\"#70006e\",\"#b1a131\",\"#ca6b93\",\"#4146a3\",\"#e48c89\",\"#d44400\",\"#c68aca\",\"#b69597\",\"#d41f75\",\"#724bcc\",\"#674d00\",\"#672138\",\"#38564f\",\"#6ebaaa\",\"#853a31\",\"#a5d397\",\"#b8af8e\",\"#d8e4df\",\"#aa00df\",\"#cac1db\",\"#ffdf8c\",\"#e2524d\",\"#66696e\",\"#ff001c\",\"#522d72\",\"#4d906b\",\"#a86d11\",\"#ff9e26\",\"#5ea3af\",\"#c88556\",\"#915997\",\"#a3a1ff\",\"#fdbaba\",\"#242a87\",\"#dbe6a8\",\"#97f2a7\",\"#6793d6\",\"#ba5b3f\",\"#3a5d91\",\"#364f2f\",\"#267c95\",\"#89959a\",\"#cfb356\",\"#004664\",\"#5e5d2f\",\"#8e8e41\",\"#ac3f13\",\"#69953b\",\"#a13d85\",\"#bfb6ba\",\"#acc667\",\"#6469cf\",\"#91af00\",\"#2be2da\",\"#016e36\",\"#ff7952\",\"#42807e\",\"#4fe800\",\"#995428\",\"#5d0a00\",\"#a30057\",\"#0c8700\",\"#5982a7\",\"#ffebfb\",\"#4b6901\",\"#8775d4\",\"#e6c6ff\",\"#a5ffda\",\"#d86e77\",\"#df014b\",\"#69675b\",\"#776ba1\",\"#7e8067\",\"#594685\",\"#0000ca\",\"#7c002a\",\"#97ff72\",\"#b5e2e1\",\"#db52c8\",\"#777734\",\"#57bd8e\"]},\"id\":\"1075\",\"type\":\"CategoricalColorMapper\"},{\"attributes\":{\"fill_alpha\":{\"value\":0.2},\"fill_color\":{\"field\":\"cat\",\"transform\":{\"id\":\"1075\"}},\"hatch_alpha\":{\"value\":0.2},\"hatch_color\":{\"field\":\"cat\",\"transform\":{\"id\":\"1075\"}},\"line_alpha\":{\"value\":0.2},\"line_color\":{\"field\":\"cat\",\"transform\":{\"id\":\"1075\"}},\"size\":{\"value\":6},\"x\":{\"field\":\"cat\",\"transform\":{\"id\":\"1077\"}},\"y\":{\"field\":\"num_unique_interactions\"}},\"id\":\"1081\",\"type\":\"Circle\"},{\"attributes\":{\"bottom\":{\"field\":\"top_whisker\"},\"fill_alpha\":{\"value\":0.2},\"fill_color\":{\"value\":\"#1f77b4\"},\"hatch_alpha\":{\"value\":0.2},\"line_alpha\":{\"value\":0.2},\"line_color\":{\"value\":\"gray\"},\"top\":{\"field\":\"top_whisker\"},\"width\":{\"value\":0.1},\"x\":{\"field\":\"cat\"}},\"id\":\"1053\",\"type\":\"VBar\"},{\"attributes\":{},\"id\":\"1024\",\"type\":\"HelpTool\"},{\"attributes\":{\"data\":{\"Severity\":[\"moderate\",\"moderate\",\"severe\",\"very low\",\"moderate\",\"moderate\",\"low\",\"low\",\"moderate\",\"very low\",\"very low\",\"moderate\",\"severe\",\"moderate\",\"low\",\"low\",\"severe\",\"moderate\",\"low\",\"moderate\",\"moderate\",\"low\",\"moderate\",\"moderate\",\"moderate\",\"moderate\",\"low\",\"low\",\"low\",\"low\",\"low\",\"moderate\",\"moderate\",\"moderate\",\"moderate\",\"moderate\",\"low\",\"moderate\",\"moderate\",\"moderate\",\"moderate\",\"moderate\",\"low\",\"low\",\"moderate\",\"moderate\",\"moderate\",\"moderate\",\"moderate\",\"moderate\",\"moderate\",\"moderate\",\"very low\",\"moderate\",\"low\",\"very low\",\"moderate\",\"moderate\",\"moderate\",\"moderate\",\"moderate\",\"very low\",\"very low\",\"low\",\"low\",\"moderate\",\"very low\",\"moderate\",\"moderate\",\"low\",\"moderate\",\"low\",\"low\",\"moderate\",\"moderate\",\"moderate\",\"moderate\",\"moderate\",\"moderate\",\"moderate\",\"moderate\",\"moderate\",\"very low\",\"moderate\",\"severe\",\"moderate\",\"moderate\",\"moderate\",\"moderate\",\"moderate\",\"moderate\",\"moderate\",\"moderate\",\"moderate\",\"moderate\",\"moderate\",\"very low\",\"low\",\"severe\",\"low\",\"moderate\",\"low\",\"moderate\",\"moderate\",\"moderate\",\"low\",\"moderate\",\"moderate\",\"moderate\",\"moderate\",\"moderate\",\"moderate\",\"moderate\",\"low\",\"moderate\",\"moderate\",\"low\",\"low\",\"severe\",\"low\",\"moderate\",\"moderate\",\"severe\",\"very low\",\"moderate\",\"moderate\",\"moderate\",\"moderate\",\"moderate\",\"moderate\",\"moderate\",\"moderate\",\"moderate\",\"moderate\",\"moderate\",\"moderate\",\"low\",\"low\",\"moderate\",\"severe\"],\"__label\":[\"moderate\",\"moderate\",\"severe\",\"very low\",\"moderate\",\"moderate\",\"low\",\"low\",\"moderate\",\"very low\",\"very low\",\"moderate\",\"severe\",\"moderate\",\"low\",\"low\",\"severe\",\"moderate\",\"low\",\"moderate\",\"moderate\",\"low\",\"moderate\",\"moderate\",\"moderate\",\"moderate\",\"low\",\"low\",\"low\",\"low\",\"low\",\"moderate\",\"moderate\",\"moderate\",\"moderate\",\"moderate\",\"low\",\"moderate\",\"moderate\",\"moderate\",\"moderate\",\"moderate\",\"low\",\"low\",\"moderate\",\"moderate\",\"moderate\",\"moderate\",\"moderate\",\"moderate\",\"moderate\",\"moderate\",\"very low\",\"moderate\",\"low\",\"very low\",\"moderate\",\"moderate\",\"moderate\",\"moderate\",\"moderate\",\"very low\",\"very low\",\"low\",\"low\",\"moderate\",\"very low\",\"moderate\",\"moderate\",\"low\",\"moderate\",\"low\",\"low\",\"moderate\",\"moderate\",\"moderate\",\"moderate\",\"moderate\",\"moderate\",\"moderate\",\"moderate\",\"moderate\",\"very low\",\"moderate\",\"severe\",\"moderate\",\"moderate\",\"moderate\",\"moderate\",\"moderate\",\"moderate\",\"moderate\",\"moderate\",\"moderate\",\"moderate\",\"moderate\",\"very low\",\"low\",\"severe\",\"low\",\"moderate\",\"low\",\"moderate\",\"moderate\",\"moderate\",\"low\",\"moderate\",\"moderate\",\"moderate\",\"moderate\",\"moderate\",\"moderate\",\"moderate\",\"low\",\"moderate\",\"moderate\",\"low\",\"low\",\"severe\",\"low\",\"moderate\",\"moderate\",\"severe\",\"very low\",\"moderate\",\"moderate\",\"moderate\",\"moderate\",\"moderate\",\"moderate\",\"moderate\",\"moderate\",\"moderate\",\"moderate\",\"moderate\",\"moderate\",\"low\",\"low\",\"moderate\",\"severe\"],\"cat\":[\"moderate\",\"moderate\",\"severe\",\"very low\",\"moderate\",\"moderate\",\"low\",\"low\",\"moderate\",\"very low\",\"very low\",\"moderate\",\"severe\",\"moderate\",\"low\",\"low\",\"severe\",\"moderate\",\"low\",\"moderate\",\"moderate\",\"low\",\"moderate\",\"moderate\",\"moderate\",\"moderate\",\"low\",\"low\",\"low\",\"low\",\"low\",\"moderate\",\"moderate\",\"moderate\",\"moderate\",\"moderate\",\"low\",\"moderate\",\"moderate\",\"moderate\",\"moderate\",\"moderate\",\"low\",\"low\",\"moderate\",\"moderate\",\"moderate\",\"moderate\",\"moderate\",\"moderate\",\"moderate\",\"moderate\",\"very low\",\"moderate\",\"low\",\"very low\",\"moderate\",\"moderate\",\"moderate\",\"moderate\",\"moderate\",\"very low\",\"very low\",\"low\",\"low\",\"moderate\",\"very low\",\"moderate\",\"moderate\",\"low\",\"moderate\",\"low\",\"low\",\"moderate\",\"moderate\",\"moderate\",\"moderate\",\"moderate\",\"moderate\",\"moderate\",\"moderate\",\"moderate\",\"very low\",\"moderate\",\"severe\",\"moderate\",\"moderate\",\"moderate\",\"moderate\",\"moderate\",\"moderate\",\"moderate\",\"moderate\",\"moderate\",\"moderate\",\"moderate\",\"very low\",\"low\",\"severe\",\"low\",\"moderate\",\"low\",\"moderate\",\"moderate\",\"moderate\",\"low\",\"moderate\",\"moderate\",\"moderate\",\"moderate\",\"moderate\",\"moderate\",\"moderate\",\"low\",\"moderate\",\"moderate\",\"low\",\"low\",\"severe\",\"low\",\"moderate\",\"moderate\",\"severe\",\"very low\",\"moderate\",\"moderate\",\"moderate\",\"moderate\",\"moderate\",\"moderate\",\"moderate\",\"moderate\",\"moderate\",\"moderate\",\"moderate\",\"moderate\",\"low\",\"low\",\"moderate\",\"severe\"],\"num_unique_interactions\":[573,1155,3651,386,8,2296,95,1,1,292,417,311,92,1,4,134,3,477,185,560,4,60,837,14,94,8,13,5,1,20,2,296,8,41,260,95,14,384,340,396,188,7,39,41,170,5,1,376,200,433,74,1,282,1,1,9,4,3,10,3,89,14,2,1,4,26,7,2,3,6,12,27,59,12,69,65,60,37,33,4,6,1,37,30,38,37,33,6,11,158,42,144,71,110,39,233,2,1,1,3,7,1,12,8,1,1,1,2,4,4,3,2,1,1,2,1,1,1,6,70,60,1,3,1,1,1,1,1,1,1,1,4,13,1,1,106,1,3,1,2]},\"selected\":{\"id\":\"1095\"},\"selection_policy\":{\"id\":\"1094\"}},\"id\":\"1076\",\"type\":\"ColumnDataSource\"},{\"attributes\":{},\"id\":\"1094\",\"type\":\"UnionRenderers\"},{\"attributes\":{\"bottom\":{\"field\":\"bottom\"},\"fill_alpha\":{\"value\":0.1},\"fill_color\":{\"field\":\"cat\",\"transform\":{\"id\":\"1037\"}},\"hatch_alpha\":{\"value\":0.1},\"line_alpha\":{\"value\":0.1},\"line_color\":{\"value\":\"gray\"},\"top\":{\"field\":\"top\"},\"width\":{\"value\":0.4},\"x\":{\"field\":\"cat\"}},\"id\":\"1064\",\"type\":\"VBar\"},{\"attributes\":{\"coordinates\":null,\"group\":null},\"id\":\"1084\",\"type\":\"Title\"},{\"attributes\":{},\"id\":\"1091\",\"type\":\"AllLabels\"}],\"root_ids\":[\"1004\"]},\"title\":\"Bokeh Application\",\"version\":\"2.4.2\"}};\n",
       "  const render_items = [{\"docid\":\"a5b906b9-212b-4076-aca4-4c1c8ba0f6f2\",\"root_ids\":[\"1004\"],\"roots\":{\"1004\":\"e5834201-3adc-4dc6-aa1c-d009710ee470\"}}];\n",
       "  root.Bokeh.embed.embed_items_notebook(docs_json, render_items);\n",
       "\n",
       "  }\n",
       "  if (root.Bokeh !== undefined) {\n",
       "    embed_document(root);\n",
       "  } else {\n",
       "    let attempts = 0;\n",
       "    const timer = setInterval(function(root) {\n",
       "      if (root.Bokeh !== undefined) {\n",
       "        clearInterval(timer);\n",
       "        embed_document(root);\n",
       "      } else {\n",
       "        attempts++;\n",
       "        if (attempts > 100) {\n",
       "          clearInterval(timer);\n",
       "          console.log(\"Bokeh: ERROR: Unable to run BokehJS code because BokehJS library is missing\");\n",
       "        }\n",
       "      }\n",
       "    }, 10, root)\n",
       "  }\n",
       "})(window);"
      ],
      "application/vnd.bokehjs_exec.v0+json": ""
     },
     "metadata": {
      "application/vnd.bokehjs_exec.v0+json": {
       "id": "1004"
      }
     },
     "output_type": "display_data"
    }
   ],
   "source": [
    "make_export_strip_plot(model_df_human, \"num_unique_interactions\", \"../Figures/interactions_stripbox.svg\", \"Interactions\")"
   ]
  },
  {
   "cell_type": "code",
   "execution_count": 9,
   "id": "708cd622-4136-42a9-93ba-d6ea7751c9b5",
   "metadata": {},
   "outputs": [
    {
     "data": {
      "text/html": [
       "\n",
       "\n",
       "\n",
       "\n",
       "\n",
       "\n",
       "  <div class=\"bk-root\" id=\"f791ddea-d865-4a06-99f9-2d3bf5b661ef\" data-root-id=\"1346\"></div>\n"
      ]
     },
     "metadata": {},
     "output_type": "display_data"
    },
    {
     "data": {
      "application/javascript": [
       "(function(root) {\n",
       "  function embed_document(root) {\n",
       "    \n",
       "  const docs_json = {\"3f1bab62-26c4-40bc-ba09-a7b02dd55b23\":{\"defs\":[],\"roots\":{\"references\":[{\"attributes\":{\"below\":[{\"id\":\"1354\"}],\"center\":[{\"id\":\"1356\"},{\"id\":\"1360\"}],\"height\":550,\"left\":[{\"id\":\"1357\"}],\"renderers\":[{\"id\":\"1384\"},{\"id\":\"1390\"},{\"id\":\"1396\"},{\"id\":\"1402\"},{\"id\":\"1408\"},{\"id\":\"1414\"},{\"id\":\"1424\"}],\"title\":{\"id\":\"1439\"},\"toolbar\":{\"id\":\"1368\"},\"toolbar_location\":\"above\",\"width\":800,\"x_range\":{\"id\":\"1345\"},\"x_scale\":{\"id\":\"1350\"},\"y_range\":{\"id\":\"1348\"},\"y_scale\":{\"id\":\"1352\"}},\"id\":\"1346\",\"subtype\":\"Figure\",\"type\":\"Plot\"},{\"attributes\":{\"source\":{\"id\":\"1375\"}},\"id\":\"1397\",\"type\":\"CDSView\"},{\"attributes\":{},\"id\":\"1443\",\"type\":\"AllLabels\"},{\"attributes\":{},\"id\":\"1362\",\"type\":\"WheelZoomTool\"},{\"attributes\":{\"factors\":[\"very low\",\"low\",\"moderate\",\"severe\"],\"palette\":[\"#1f77b3\",\"#ff7e0e\",\"#2ba02b\",\"#d62628\",\"#9367bc\",\"#8c564b\",\"#e277c1\",\"#7e7e7e\",\"#bcbc21\",\"#16bdcf\",\"#3a0182\",\"#004201\",\"#0fffa8\",\"#5d003f\",\"#bcbcff\",\"#d8afa1\",\"#b80080\",\"#004d52\",\"#6b6400\",\"#7c0100\",\"#6026ff\",\"#ffff9a\",\"#564964\",\"#8cb893\",\"#93fbff\",\"#018267\",\"#90ff00\",\"#8200a0\",\"#ac8944\",\"#5b3400\",\"#ffbff2\",\"#ff6e75\",\"#798cff\",\"#dd00ff\",\"#505646\",\"#004489\",\"#ffbf60\",\"#ff018c\",\"#bdc8cf\",\"#af97b5\",\"#b65600\",\"#017000\",\"#cd87ff\",\"#1cd646\",\"#bfebc3\",\"#7997b5\",\"#a56089\",\"#6e8956\",\"#bc7c75\",\"#8a2844\",\"#00acff\",\"#8ed4ff\",\"#4b6d77\",\"#00d4b1\",\"#9300f2\",\"#8a9500\",\"#5d5b9e\",\"#fddfba\",\"#00939e\",\"#ffdb00\",\"#00aa79\",\"#520067\",\"#000091\",\"#0a5d3d\",\"#a5e275\",\"#623b41\",\"#c6c689\",\"#ff9eb5\",\"#cd4f6b\",\"#ff07d6\",\"#8a3a05\",\"#7e3d70\",\"#ff4901\",\"#602ba5\",\"#1c00ff\",\"#e6dfff\",\"#aa3baf\",\"#d89c00\",\"#a3a39e\",\"#3f69ff\",\"#46490c\",\"#7b6985\",\"#6b978c\",\"#ff9a75\",\"#835bff\",\"#7c6b46\",\"#80b654\",\"#bc0049\",\"#fd93ff\",\"#5d0018\",\"#89d1d1\",\"#9c8cd3\",\"#da6d42\",\"#8a5700\",\"#3b5069\",\"#4b6b3b\",\"#edcfd8\",\"#cfedff\",\"#aa1500\",\"#dfff4f\",\"#ff2a56\",\"#d1499e\",\"#707cb8\",\"#598000\",\"#00e4fd\",\"#774b95\",\"#67d48c\",\"#3d3a72\",\"#ac413f\",\"#d6a166\",\"#c169cd\",\"#69595d\",\"#87aced\",\"#a0a569\",\"#d1aae6\",\"#870062\",\"#00fddb\",\"#672818\",\"#b342ff\",\"#0e59c4\",\"#168742\",\"#90d300\",\"#cd7900\",\"#f959ff\",\"#5b7466\",\"#8eaeb3\",\"#9c7c8c\",\"#4600c6\",\"#6b4d2d\",\"#a56d46\",\"#9e8972\",\"#a8afca\",\"#cd8ca7\",\"#00fd64\",\"#917900\",\"#ff62a1\",\"#f4ffd8\",\"#018cf0\",\"#13aca0\",\"#5b2d59\",\"#89859e\",\"#cfccba\",\"#d4afc4\",\"#dbdd6d\",\"#cffff4\",\"#006485\",\"#006962\",\"#a84167\",\"#2d97c4\",\"#a874ff\",\"#26ba5d\",\"#57b600\",\"#caffa7\",\"#a379aa\",\"#ffbc93\",\"#89e2c1\",\"#0fc8ff\",\"#d400c4\",\"#626d89\",\"#69858e\",\"#4b4d52\",\"#aa6067\",\"#79b5d4\",\"#2b5916\",\"#9a0024\",\"#bdd1f2\",\"#896e67\",\"#69a56b\",\"#855467\",\"#aecdba\",\"#87997e\",\"#cadb00\",\"#9a0390\",\"#ebbc1a\",\"#eb9cd1\",\"#70006e\",\"#b1a131\",\"#ca6b93\",\"#4146a3\",\"#e48c89\",\"#d44400\",\"#c68aca\",\"#b69597\",\"#d41f75\",\"#724bcc\",\"#674d00\",\"#672138\",\"#38564f\",\"#6ebaaa\",\"#853a31\",\"#a5d397\",\"#b8af8e\",\"#d8e4df\",\"#aa00df\",\"#cac1db\",\"#ffdf8c\",\"#e2524d\",\"#66696e\",\"#ff001c\",\"#522d72\",\"#4d906b\",\"#a86d11\",\"#ff9e26\",\"#5ea3af\",\"#c88556\",\"#915997\",\"#a3a1ff\",\"#fdbaba\",\"#242a87\",\"#dbe6a8\",\"#97f2a7\",\"#6793d6\",\"#ba5b3f\",\"#3a5d91\",\"#364f2f\",\"#267c95\",\"#89959a\",\"#cfb356\",\"#004664\",\"#5e5d2f\",\"#8e8e41\",\"#ac3f13\",\"#69953b\",\"#a13d85\",\"#bfb6ba\",\"#acc667\",\"#6469cf\",\"#91af00\",\"#2be2da\",\"#016e36\",\"#ff7952\",\"#42807e\",\"#4fe800\",\"#995428\",\"#5d0a00\",\"#a30057\",\"#0c8700\",\"#5982a7\",\"#ffebfb\",\"#4b6901\",\"#8775d4\",\"#e6c6ff\",\"#a5ffda\",\"#d86e77\",\"#df014b\",\"#69675b\",\"#776ba1\",\"#7e8067\",\"#594685\",\"#0000ca\",\"#7c002a\",\"#97ff72\",\"#b5e2e1\",\"#db52c8\",\"#777734\",\"#57bd8e\"]},\"id\":\"1379\",\"type\":\"CategoricalColorMapper\"},{\"attributes\":{},\"id\":\"1361\",\"type\":\"PanTool\"},{\"attributes\":{},\"id\":\"1445\",\"type\":\"CategoricalTickFormatter\"},{\"attributes\":{\"coordinates\":null,\"data_source\":{\"id\":\"1375\"},\"glyph\":{\"id\":\"1381\"},\"group\":null,\"hover_glyph\":null,\"muted_glyph\":{\"id\":\"1383\"},\"nonselection_glyph\":{\"id\":\"1382\"},\"view\":{\"id\":\"1385\"}},\"id\":\"1384\",\"type\":\"GlyphRenderer\"},{\"attributes\":{\"overlay\":{\"id\":\"1367\"}},\"id\":\"1363\",\"type\":\"BoxZoomTool\"},{\"attributes\":{\"bottom\":{\"field\":\"top_whisker\"},\"fill_alpha\":{\"value\":0.2},\"fill_color\":{\"value\":\"#1f77b4\"},\"hatch_alpha\":{\"value\":0.2},\"line_alpha\":{\"value\":0.2},\"line_color\":{\"value\":\"gray\"},\"top\":{\"field\":\"top_whisker\"},\"width\":{\"value\":0.1},\"x\":{\"field\":\"cat\"}},\"id\":\"1395\",\"type\":\"VBar\"},{\"attributes\":{},\"id\":\"1364\",\"type\":\"SaveTool\"},{\"attributes\":{\"bottom\":{\"field\":\"top_whisker\"},\"fill_color\":{\"value\":\"#1f77b4\"},\"line_color\":{\"value\":\"gray\"},\"top\":{\"field\":\"top_whisker\"},\"width\":{\"value\":0.1},\"x\":{\"field\":\"cat\"}},\"id\":\"1393\",\"type\":\"VBar\"},{\"attributes\":{},\"id\":\"1365\",\"type\":\"ResetTool\"},{\"attributes\":{},\"id\":\"1446\",\"type\":\"AllLabels\"},{\"attributes\":{\"ticker\":null},\"id\":\"1442\",\"type\":\"LogTickFormatter\"},{\"attributes\":{\"bottom_units\":\"screen\",\"coordinates\":null,\"fill_alpha\":0.5,\"fill_color\":\"lightgrey\",\"group\":null,\"left_units\":\"screen\",\"level\":\"overlay\",\"line_alpha\":1.0,\"line_color\":\"black\",\"line_dash\":[4,4],\"line_width\":2,\"right_units\":\"screen\",\"syncable\":false,\"top_units\":\"screen\"},\"id\":\"1367\",\"type\":\"BoxAnnotation\"},{\"attributes\":{\"source\":{\"id\":\"1418\"}},\"id\":\"1425\",\"type\":\"CDSView\"},{\"attributes\":{\"coordinates\":null,\"data_source\":{\"id\":\"1418\"},\"glyph\":{\"id\":\"1421\"},\"group\":null,\"hover_glyph\":null,\"muted_glyph\":{\"id\":\"1423\"},\"nonselection_glyph\":{\"id\":\"1422\"},\"view\":{\"id\":\"1425\"}},\"id\":\"1424\",\"type\":\"GlyphRenderer\"},{\"attributes\":{},\"id\":\"1449\",\"type\":\"UnionRenderers\"},{\"attributes\":{\"bottom\":{\"field\":\"bottom_whisker\"},\"fill_alpha\":{\"value\":0.2},\"fill_color\":{\"value\":\"#1f77b4\"},\"hatch_alpha\":{\"value\":0.2},\"line_alpha\":{\"value\":0.2},\"line_color\":{\"value\":\"gray\"},\"top\":{\"field\":\"bottom_whisker\"},\"width\":{\"value\":0.1},\"x\":{\"field\":\"cat\"}},\"id\":\"1401\",\"type\":\"VBar\"},{\"attributes\":{\"bottom\":{\"field\":\"bottom\"},\"fill_alpha\":{\"value\":0.2},\"fill_color\":{\"field\":\"cat\",\"transform\":{\"id\":\"1379\"}},\"hatch_alpha\":{\"value\":0.2},\"line_alpha\":{\"value\":0.2},\"line_color\":{\"value\":\"gray\"},\"top\":{\"field\":\"top\"},\"width\":{\"value\":0.4},\"x\":{\"field\":\"cat\"}},\"id\":\"1407\",\"type\":\"VBar\"},{\"attributes\":{\"bottom\":{\"field\":\"top_whisker\"},\"fill_alpha\":{\"value\":0.1},\"fill_color\":{\"value\":\"#1f77b4\"},\"hatch_alpha\":{\"value\":0.1},\"line_alpha\":{\"value\":0.1},\"line_color\":{\"value\":\"gray\"},\"top\":{\"field\":\"top_whisker\"},\"width\":{\"value\":0.1},\"x\":{\"field\":\"cat\"}},\"id\":\"1394\",\"type\":\"VBar\"},{\"attributes\":{\"line_alpha\":{\"value\":0.2},\"line_color\":{\"value\":\"gray\"},\"x0\":{\"field\":\"cat\"},\"x1\":{\"field\":\"cat\"},\"y0\":{\"field\":\"bottom\"},\"y1\":{\"field\":\"bottom_whisker\"}},\"id\":\"1389\",\"type\":\"Segment\"},{\"attributes\":{},\"id\":\"1450\",\"type\":\"Selection\"},{\"attributes\":{\"source\":{\"id\":\"1375\"}},\"id\":\"1385\",\"type\":\"CDSView\"},{\"attributes\":{\"bottom\":{\"field\":\"bottom\"},\"fill_alpha\":{\"value\":0},\"fill_color\":{\"field\":\"cat\",\"transform\":{\"id\":\"1379\"}},\"line_color\":{\"value\":\"gray\"},\"top\":{\"field\":\"top\"},\"width\":{\"value\":0.4},\"x\":{\"field\":\"cat\"}},\"id\":\"1405\",\"type\":\"VBar\"},{\"attributes\":{\"coordinates\":null,\"data_source\":{\"id\":\"1375\"},\"glyph\":{\"id\":\"1387\"},\"group\":null,\"hover_glyph\":null,\"muted_glyph\":{\"id\":\"1389\"},\"nonselection_glyph\":{\"id\":\"1388\"},\"view\":{\"id\":\"1391\"}},\"id\":\"1390\",\"type\":\"GlyphRenderer\"},{\"attributes\":{\"axis_label\":\"num_publications\",\"coordinates\":null,\"formatter\":{\"id\":\"1442\"},\"group\":null,\"major_label_policy\":{\"id\":\"1443\"},\"major_label_text_font_size\":\"16pt\",\"ticker\":{\"id\":\"1358\"}},\"id\":\"1357\",\"type\":\"LogAxis\"},{\"attributes\":{\"bottom\":{\"field\":\"bottom\"},\"fill_alpha\":{\"value\":0.1},\"fill_color\":{\"field\":\"cat\",\"transform\":{\"id\":\"1379\"}},\"hatch_alpha\":{\"value\":0.1},\"line_alpha\":{\"value\":0.1},\"line_color\":{\"value\":\"gray\"},\"top\":{\"field\":\"top\"},\"width\":{\"value\":0.4},\"x\":{\"field\":\"cat\"}},\"id\":\"1406\",\"type\":\"VBar\"},{\"attributes\":{},\"id\":\"1348\",\"type\":\"DataRange1d\"},{\"attributes\":{\"source\":{\"id\":\"1375\"}},\"id\":\"1403\",\"type\":\"CDSView\"},{\"attributes\":{\"bottom\":{\"field\":\"middle\"},\"fill_alpha\":{\"value\":0.2},\"fill_color\":{\"value\":\"#1f77b4\"},\"hatch_alpha\":{\"value\":0.2},\"line_alpha\":{\"value\":0.2},\"line_color\":{\"value\":\"gray\"},\"top\":{\"field\":\"middle\"},\"width\":{\"value\":0.4},\"x\":{\"field\":\"cat\"}},\"id\":\"1413\",\"type\":\"VBar\"},{\"attributes\":{\"bottom\":{\"field\":\"bottom_whisker\"},\"fill_color\":{\"value\":\"#1f77b4\"},\"line_color\":{\"value\":\"gray\"},\"top\":{\"field\":\"bottom_whisker\"},\"width\":{\"value\":0.1},\"x\":{\"field\":\"cat\"}},\"id\":\"1399\",\"type\":\"VBar\"},{\"attributes\":{\"bottom\":{\"field\":\"bottom_whisker\"},\"fill_alpha\":{\"value\":0.1},\"fill_color\":{\"value\":\"#1f77b4\"},\"hatch_alpha\":{\"value\":0.1},\"line_alpha\":{\"value\":0.1},\"line_color\":{\"value\":\"gray\"},\"top\":{\"field\":\"bottom_whisker\"},\"width\":{\"value\":0.1},\"x\":{\"field\":\"cat\"}},\"id\":\"1400\",\"type\":\"VBar\"},{\"attributes\":{},\"id\":\"1447\",\"type\":\"UnionRenderers\"},{\"attributes\":{\"line_alpha\":{\"value\":0.1},\"line_color\":{\"value\":\"gray\"},\"x0\":{\"field\":\"cat\"},\"x1\":{\"field\":\"cat\"},\"y0\":{\"field\":\"top\"},\"y1\":{\"field\":\"top_whisker\"}},\"id\":\"1382\",\"type\":\"Segment\"},{\"attributes\":{\"coordinates\":null,\"data_source\":{\"id\":\"1375\"},\"glyph\":{\"id\":\"1393\"},\"group\":null,\"hover_glyph\":null,\"muted_glyph\":{\"id\":\"1395\"},\"nonselection_glyph\":{\"id\":\"1394\"},\"view\":{\"id\":\"1397\"}},\"id\":\"1396\",\"type\":\"GlyphRenderer\"},{\"attributes\":{\"source\":{\"id\":\"1375\"}},\"id\":\"1409\",\"type\":\"CDSView\"},{\"attributes\":{\"line_alpha\":{\"value\":0.2},\"line_color\":{\"value\":\"gray\"},\"x0\":{\"field\":\"cat\"},\"x1\":{\"field\":\"cat\"},\"y0\":{\"field\":\"top\"},\"y1\":{\"field\":\"top_whisker\"}},\"id\":\"1383\",\"type\":\"Segment\"},{\"attributes\":{\"bottom\":{\"field\":\"middle\"},\"fill_alpha\":{\"value\":0.1},\"fill_color\":{\"value\":\"#1f77b4\"},\"hatch_alpha\":{\"value\":0.1},\"line_alpha\":{\"value\":0.1},\"line_color\":{\"value\":\"gray\"},\"top\":{\"field\":\"middle\"},\"width\":{\"value\":0.4},\"x\":{\"field\":\"cat\"}},\"id\":\"1412\",\"type\":\"VBar\"},{\"attributes\":{},\"id\":\"1448\",\"type\":\"Selection\"},{\"attributes\":{\"coordinates\":null,\"group\":null},\"id\":\"1439\",\"type\":\"Title\"},{\"attributes\":{\"bottom\":{\"field\":\"middle\"},\"fill_color\":{\"value\":\"#1f77b4\"},\"line_color\":{\"value\":\"gray\"},\"top\":{\"field\":\"middle\"},\"width\":{\"value\":0.4},\"x\":{\"field\":\"cat\"}},\"id\":\"1411\",\"type\":\"VBar\"},{\"attributes\":{\"factors\":[\"very low\",\"low\",\"moderate\",\"severe\"],\"palette\":[\"#1f77b3\",\"#ff7e0e\",\"#2ba02b\",\"#d62628\",\"#9367bc\",\"#8c564b\",\"#e277c1\",\"#7e7e7e\",\"#bcbc21\",\"#16bdcf\",\"#3a0182\",\"#004201\",\"#0fffa8\",\"#5d003f\",\"#bcbcff\",\"#d8afa1\",\"#b80080\",\"#004d52\",\"#6b6400\",\"#7c0100\",\"#6026ff\",\"#ffff9a\",\"#564964\",\"#8cb893\",\"#93fbff\",\"#018267\",\"#90ff00\",\"#8200a0\",\"#ac8944\",\"#5b3400\",\"#ffbff2\",\"#ff6e75\",\"#798cff\",\"#dd00ff\",\"#505646\",\"#004489\",\"#ffbf60\",\"#ff018c\",\"#bdc8cf\",\"#af97b5\",\"#b65600\",\"#017000\",\"#cd87ff\",\"#1cd646\",\"#bfebc3\",\"#7997b5\",\"#a56089\",\"#6e8956\",\"#bc7c75\",\"#8a2844\",\"#00acff\",\"#8ed4ff\",\"#4b6d77\",\"#00d4b1\",\"#9300f2\",\"#8a9500\",\"#5d5b9e\",\"#fddfba\",\"#00939e\",\"#ffdb00\",\"#00aa79\",\"#520067\",\"#000091\",\"#0a5d3d\",\"#a5e275\",\"#623b41\",\"#c6c689\",\"#ff9eb5\",\"#cd4f6b\",\"#ff07d6\",\"#8a3a05\",\"#7e3d70\",\"#ff4901\",\"#602ba5\",\"#1c00ff\",\"#e6dfff\",\"#aa3baf\",\"#d89c00\",\"#a3a39e\",\"#3f69ff\",\"#46490c\",\"#7b6985\",\"#6b978c\",\"#ff9a75\",\"#835bff\",\"#7c6b46\",\"#80b654\",\"#bc0049\",\"#fd93ff\",\"#5d0018\",\"#89d1d1\",\"#9c8cd3\",\"#da6d42\",\"#8a5700\",\"#3b5069\",\"#4b6b3b\",\"#edcfd8\",\"#cfedff\",\"#aa1500\",\"#dfff4f\",\"#ff2a56\",\"#d1499e\",\"#707cb8\",\"#598000\",\"#00e4fd\",\"#774b95\",\"#67d48c\",\"#3d3a72\",\"#ac413f\",\"#d6a166\",\"#c169cd\",\"#69595d\",\"#87aced\",\"#a0a569\",\"#d1aae6\",\"#870062\",\"#00fddb\",\"#672818\",\"#b342ff\",\"#0e59c4\",\"#168742\",\"#90d300\",\"#cd7900\",\"#f959ff\",\"#5b7466\",\"#8eaeb3\",\"#9c7c8c\",\"#4600c6\",\"#6b4d2d\",\"#a56d46\",\"#9e8972\",\"#a8afca\",\"#cd8ca7\",\"#00fd64\",\"#917900\",\"#ff62a1\",\"#f4ffd8\",\"#018cf0\",\"#13aca0\",\"#5b2d59\",\"#89859e\",\"#cfccba\",\"#d4afc4\",\"#dbdd6d\",\"#cffff4\",\"#006485\",\"#006962\",\"#a84167\",\"#2d97c4\",\"#a874ff\",\"#26ba5d\",\"#57b600\",\"#caffa7\",\"#a379aa\",\"#ffbc93\",\"#89e2c1\",\"#0fc8ff\",\"#d400c4\",\"#626d89\",\"#69858e\",\"#4b4d52\",\"#aa6067\",\"#79b5d4\",\"#2b5916\",\"#9a0024\",\"#bdd1f2\",\"#896e67\",\"#69a56b\",\"#855467\",\"#aecdba\",\"#87997e\",\"#cadb00\",\"#9a0390\",\"#ebbc1a\",\"#eb9cd1\",\"#70006e\",\"#b1a131\",\"#ca6b93\",\"#4146a3\",\"#e48c89\",\"#d44400\",\"#c68aca\",\"#b69597\",\"#d41f75\",\"#724bcc\",\"#674d00\",\"#672138\",\"#38564f\",\"#6ebaaa\",\"#853a31\",\"#a5d397\",\"#b8af8e\",\"#d8e4df\",\"#aa00df\",\"#cac1db\",\"#ffdf8c\",\"#e2524d\",\"#66696e\",\"#ff001c\",\"#522d72\",\"#4d906b\",\"#a86d11\",\"#ff9e26\",\"#5ea3af\",\"#c88556\",\"#915997\",\"#a3a1ff\",\"#fdbaba\",\"#242a87\",\"#dbe6a8\",\"#97f2a7\",\"#6793d6\",\"#ba5b3f\",\"#3a5d91\",\"#364f2f\",\"#267c95\",\"#89959a\",\"#cfb356\",\"#004664\",\"#5e5d2f\",\"#8e8e41\",\"#ac3f13\",\"#69953b\",\"#a13d85\",\"#bfb6ba\",\"#acc667\",\"#6469cf\",\"#91af00\",\"#2be2da\",\"#016e36\",\"#ff7952\",\"#42807e\",\"#4fe800\",\"#995428\",\"#5d0a00\",\"#a30057\",\"#0c8700\",\"#5982a7\",\"#ffebfb\",\"#4b6901\",\"#8775d4\",\"#e6c6ff\",\"#a5ffda\",\"#d86e77\",\"#df014b\",\"#69675b\",\"#776ba1\",\"#7e8067\",\"#594685\",\"#0000ca\",\"#7c002a\",\"#97ff72\",\"#b5e2e1\",\"#db52c8\",\"#777734\",\"#57bd8e\"]},\"id\":\"1417\",\"type\":\"CategoricalColorMapper\"},{\"attributes\":{\"coordinates\":null,\"data_source\":{\"id\":\"1375\"},\"glyph\":{\"id\":\"1399\"},\"group\":null,\"hover_glyph\":null,\"muted_glyph\":{\"id\":\"1401\"},\"nonselection_glyph\":{\"id\":\"1400\"},\"view\":{\"id\":\"1403\"}},\"id\":\"1402\",\"type\":\"GlyphRenderer\"},{\"attributes\":{\"fill_alpha\":{\"value\":0.1},\"fill_color\":{\"field\":\"cat\",\"transform\":{\"id\":\"1417\"}},\"hatch_alpha\":{\"value\":0.1},\"hatch_color\":{\"field\":\"cat\",\"transform\":{\"id\":\"1417\"}},\"line_alpha\":{\"value\":0.1},\"line_color\":{\"field\":\"cat\",\"transform\":{\"id\":\"1417\"}},\"size\":{\"value\":6},\"x\":{\"field\":\"cat\",\"transform\":{\"id\":\"1419\"}},\"y\":{\"field\":\"num_publications\"}},\"id\":\"1422\",\"type\":\"Circle\"},{\"attributes\":{\"distribution\":\"normal\",\"range\":{\"id\":\"1345\"},\"width\":0.1},\"id\":\"1419\",\"type\":\"Jitter\"},{\"attributes\":{\"source\":{\"id\":\"1375\"}},\"id\":\"1391\",\"type\":\"CDSView\"},{\"attributes\":{\"line_alpha\":{\"value\":0.1},\"line_color\":{\"value\":\"gray\"},\"x0\":{\"field\":\"cat\"},\"x1\":{\"field\":\"cat\"},\"y0\":{\"field\":\"bottom\"},\"y1\":{\"field\":\"bottom_whisker\"}},\"id\":\"1388\",\"type\":\"Segment\"},{\"attributes\":{\"line_color\":{\"value\":\"gray\"},\"x0\":{\"field\":\"cat\"},\"x1\":{\"field\":\"cat\"},\"y0\":{\"field\":\"bottom\"},\"y1\":{\"field\":\"bottom_whisker\"}},\"id\":\"1387\",\"type\":\"Segment\"},{\"attributes\":{\"source\":{\"id\":\"1375\"}},\"id\":\"1415\",\"type\":\"CDSView\"},{\"attributes\":{\"coordinates\":null,\"data_source\":{\"id\":\"1375\"},\"glyph\":{\"id\":\"1411\"},\"group\":null,\"hover_glyph\":null,\"muted_glyph\":{\"id\":\"1413\"},\"nonselection_glyph\":{\"id\":\"1412\"},\"view\":{\"id\":\"1415\"}},\"id\":\"1414\",\"type\":\"GlyphRenderer\"},{\"attributes\":{\"line_color\":{\"value\":\"gray\"},\"x0\":{\"field\":\"cat\"},\"x1\":{\"field\":\"cat\"},\"y0\":{\"field\":\"top\"},\"y1\":{\"field\":\"top_whisker\"}},\"id\":\"1381\",\"type\":\"Segment\"},{\"attributes\":{},\"id\":\"1366\",\"type\":\"HelpTool\"},{\"attributes\":{},\"id\":\"1350\",\"type\":\"CategoricalScale\"},{\"attributes\":{},\"id\":\"1352\",\"type\":\"LogScale\"},{\"attributes\":{\"coordinates\":null,\"formatter\":{\"id\":\"1445\"},\"group\":null,\"major_label_policy\":{\"id\":\"1446\"},\"major_label_text_font_size\":\"16pt\",\"ticker\":{\"id\":\"1355\"}},\"id\":\"1354\",\"type\":\"CategoricalAxis\"},{\"attributes\":{\"coordinates\":null,\"data_source\":{\"id\":\"1375\"},\"glyph\":{\"id\":\"1405\"},\"group\":null,\"hover_glyph\":null,\"muted_glyph\":{\"id\":\"1407\"},\"nonselection_glyph\":{\"id\":\"1406\"},\"view\":{\"id\":\"1409\"}},\"id\":\"1408\",\"type\":\"GlyphRenderer\"},{\"attributes\":{\"fill_alpha\":{\"value\":0.2},\"fill_color\":{\"field\":\"cat\",\"transform\":{\"id\":\"1417\"}},\"hatch_alpha\":{\"value\":0.2},\"hatch_color\":{\"field\":\"cat\",\"transform\":{\"id\":\"1417\"}},\"line_alpha\":{\"value\":0.2},\"line_color\":{\"field\":\"cat\",\"transform\":{\"id\":\"1417\"}},\"size\":{\"value\":6},\"x\":{\"field\":\"cat\",\"transform\":{\"id\":\"1419\"}},\"y\":{\"field\":\"num_publications\"}},\"id\":\"1423\",\"type\":\"Circle\"},{\"attributes\":{\"tools\":[{\"id\":\"1361\"},{\"id\":\"1362\"},{\"id\":\"1363\"},{\"id\":\"1364\"},{\"id\":\"1365\"},{\"id\":\"1366\"}]},\"id\":\"1368\",\"type\":\"Toolbar\"},{\"attributes\":{},\"id\":\"1355\",\"type\":\"CategoricalTicker\"},{\"attributes\":{\"axis\":{\"id\":\"1354\"},\"coordinates\":null,\"grid_line_color\":null,\"group\":null,\"ticker\":null},\"id\":\"1356\",\"type\":\"Grid\"},{\"attributes\":{\"data\":{\"__label\":[\"very low\",\"low\",\"moderate\",\"severe\"],\"bottom\":[2.0,1.0,1.0,1.0],\"bottom_whisker\":[1.0,1.0,1.0,1.0],\"cat\":[\"very low\",\"low\",\"moderate\",\"severe\"],\"middle\":[3.0,1.0,2.0,1.0],\"top\":[4.5,2.0,4.0,2.25],\"top_whisker\":[7.0,3.0,8.0,3.0]},\"selected\":{\"id\":\"1448\"},\"selection_policy\":{\"id\":\"1447\"}},\"id\":\"1375\",\"type\":\"ColumnDataSource\"},{\"attributes\":{\"fill_color\":{\"field\":\"cat\",\"transform\":{\"id\":\"1417\"}},\"hatch_color\":{\"field\":\"cat\",\"transform\":{\"id\":\"1417\"}},\"line_color\":{\"field\":\"cat\",\"transform\":{\"id\":\"1417\"}},\"size\":{\"value\":6},\"x\":{\"field\":\"cat\",\"transform\":{\"id\":\"1419\"}},\"y\":{\"field\":\"num_publications\"}},\"id\":\"1421\",\"type\":\"Circle\"},{\"attributes\":{\"num_minor_ticks\":10},\"id\":\"1358\",\"type\":\"LogTicker\"},{\"attributes\":{\"axis\":{\"id\":\"1357\"},\"coordinates\":null,\"dimension\":1,\"group\":null,\"ticker\":null},\"id\":\"1360\",\"type\":\"Grid\"},{\"attributes\":{\"factors\":[\"very low\",\"low\",\"moderate\",\"severe\"]},\"id\":\"1345\",\"type\":\"FactorRange\"},{\"attributes\":{\"data\":{\"Severity\":[\"moderate\",\"moderate\",\"severe\",\"very low\",\"moderate\",\"moderate\",\"low\",\"low\",\"moderate\",\"very low\",\"very low\",\"moderate\",\"severe\",\"moderate\",\"low\",\"low\",\"severe\",\"moderate\",\"low\",\"moderate\",\"moderate\",\"low\",\"moderate\",\"moderate\",\"moderate\",\"moderate\",\"low\",\"low\",\"low\",\"low\",\"low\",\"moderate\",\"moderate\",\"moderate\",\"moderate\",\"moderate\",\"low\",\"moderate\",\"moderate\",\"moderate\",\"moderate\",\"moderate\",\"low\",\"low\",\"moderate\",\"moderate\",\"moderate\",\"moderate\",\"moderate\",\"moderate\",\"moderate\",\"moderate\",\"very low\",\"moderate\",\"low\",\"very low\",\"moderate\",\"moderate\",\"moderate\",\"moderate\",\"moderate\",\"very low\",\"very low\",\"low\",\"low\",\"moderate\",\"very low\",\"moderate\",\"moderate\",\"low\",\"moderate\",\"low\",\"low\",\"moderate\",\"moderate\",\"moderate\",\"moderate\",\"moderate\",\"moderate\",\"moderate\",\"moderate\",\"moderate\",\"very low\",\"moderate\",\"severe\",\"moderate\",\"moderate\",\"moderate\",\"moderate\",\"moderate\",\"moderate\",\"moderate\",\"moderate\",\"moderate\",\"moderate\",\"moderate\",\"very low\",\"low\",\"severe\",\"low\",\"moderate\",\"low\",\"moderate\",\"moderate\",\"moderate\",\"low\",\"moderate\",\"moderate\",\"moderate\",\"moderate\",\"moderate\",\"moderate\",\"moderate\",\"low\",\"moderate\",\"moderate\",\"low\",\"low\",\"severe\",\"low\",\"moderate\",\"moderate\",\"severe\",\"very low\",\"moderate\",\"moderate\",\"moderate\",\"moderate\",\"moderate\",\"moderate\",\"moderate\",\"moderate\",\"moderate\",\"moderate\",\"moderate\",\"moderate\",\"low\",\"low\",\"moderate\",\"severe\"],\"__label\":[\"moderate\",\"moderate\",\"severe\",\"very low\",\"moderate\",\"moderate\",\"low\",\"low\",\"moderate\",\"very low\",\"very low\",\"moderate\",\"severe\",\"moderate\",\"low\",\"low\",\"severe\",\"moderate\",\"low\",\"moderate\",\"moderate\",\"low\",\"moderate\",\"moderate\",\"moderate\",\"moderate\",\"low\",\"low\",\"low\",\"low\",\"low\",\"moderate\",\"moderate\",\"moderate\",\"moderate\",\"moderate\",\"low\",\"moderate\",\"moderate\",\"moderate\",\"moderate\",\"moderate\",\"low\",\"low\",\"moderate\",\"moderate\",\"moderate\",\"moderate\",\"moderate\",\"moderate\",\"moderate\",\"moderate\",\"very low\",\"moderate\",\"low\",\"very low\",\"moderate\",\"moderate\",\"moderate\",\"moderate\",\"moderate\",\"very low\",\"very low\",\"low\",\"low\",\"moderate\",\"very low\",\"moderate\",\"moderate\",\"low\",\"moderate\",\"low\",\"low\",\"moderate\",\"moderate\",\"moderate\",\"moderate\",\"moderate\",\"moderate\",\"moderate\",\"moderate\",\"moderate\",\"very low\",\"moderate\",\"severe\",\"moderate\",\"moderate\",\"moderate\",\"moderate\",\"moderate\",\"moderate\",\"moderate\",\"moderate\",\"moderate\",\"moderate\",\"moderate\",\"very low\",\"low\",\"severe\",\"low\",\"moderate\",\"low\",\"moderate\",\"moderate\",\"moderate\",\"low\",\"moderate\",\"moderate\",\"moderate\",\"moderate\",\"moderate\",\"moderate\",\"moderate\",\"low\",\"moderate\",\"moderate\",\"low\",\"low\",\"severe\",\"low\",\"moderate\",\"moderate\",\"severe\",\"very low\",\"moderate\",\"moderate\",\"moderate\",\"moderate\",\"moderate\",\"moderate\",\"moderate\",\"moderate\",\"moderate\",\"moderate\",\"moderate\",\"moderate\",\"low\",\"low\",\"moderate\",\"severe\"],\"cat\":[\"moderate\",\"moderate\",\"severe\",\"very low\",\"moderate\",\"moderate\",\"low\",\"low\",\"moderate\",\"very low\",\"very low\",\"moderate\",\"severe\",\"moderate\",\"low\",\"low\",\"severe\",\"moderate\",\"low\",\"moderate\",\"moderate\",\"low\",\"moderate\",\"moderate\",\"moderate\",\"moderate\",\"low\",\"low\",\"low\",\"low\",\"low\",\"moderate\",\"moderate\",\"moderate\",\"moderate\",\"moderate\",\"low\",\"moderate\",\"moderate\",\"moderate\",\"moderate\",\"moderate\",\"low\",\"low\",\"moderate\",\"moderate\",\"moderate\",\"moderate\",\"moderate\",\"moderate\",\"moderate\",\"moderate\",\"very low\",\"moderate\",\"low\",\"very low\",\"moderate\",\"moderate\",\"moderate\",\"moderate\",\"moderate\",\"very low\",\"very low\",\"low\",\"low\",\"moderate\",\"very low\",\"moderate\",\"moderate\",\"low\",\"moderate\",\"low\",\"low\",\"moderate\",\"moderate\",\"moderate\",\"moderate\",\"moderate\",\"moderate\",\"moderate\",\"moderate\",\"moderate\",\"very low\",\"moderate\",\"severe\",\"moderate\",\"moderate\",\"moderate\",\"moderate\",\"moderate\",\"moderate\",\"moderate\",\"moderate\",\"moderate\",\"moderate\",\"moderate\",\"very low\",\"low\",\"severe\",\"low\",\"moderate\",\"low\",\"moderate\",\"moderate\",\"moderate\",\"low\",\"moderate\",\"moderate\",\"moderate\",\"moderate\",\"moderate\",\"moderate\",\"moderate\",\"low\",\"moderate\",\"moderate\",\"low\",\"low\",\"severe\",\"low\",\"moderate\",\"moderate\",\"severe\",\"very low\",\"moderate\",\"moderate\",\"moderate\",\"moderate\",\"moderate\",\"moderate\",\"moderate\",\"moderate\",\"moderate\",\"moderate\",\"moderate\",\"moderate\",\"low\",\"low\",\"moderate\",\"severe\"],\"num_publications\":[23,77,2,5,4,178,7,1,1,3,10,1,1,1,1,4,3,44,25,3,4,12,17,9,5,7,11,5,1,3,1,16,4,3,9,2,1,74,29,13,3,5,1,2,3,4,1,34,67,20,2,1,2,1,1,4,1,4,6,2,4,7,3,1,2,20,2,1,3,1,1,1,1,4,1,1,1,1,1,5,2,1,4,2,1,1,1,1,1,5,1,2,2,2,1,1,1,1,1,1,2,1,3,4,1,1,1,1,1,1,1,1,1,1,1,1,1,1,3,1,1,1,1,1,1,1,1,1,1,1,1,3,8,1,1,1,1,1,1,1]},\"selected\":{\"id\":\"1450\"},\"selection_policy\":{\"id\":\"1449\"}},\"id\":\"1418\",\"type\":\"ColumnDataSource\"}],\"root_ids\":[\"1346\"]},\"title\":\"Bokeh Application\",\"version\":\"2.4.2\"}};\n",
       "  const render_items = [{\"docid\":\"3f1bab62-26c4-40bc-ba09-a7b02dd55b23\",\"root_ids\":[\"1346\"],\"roots\":{\"1346\":\"f791ddea-d865-4a06-99f9-2d3bf5b661ef\"}}];\n",
       "  root.Bokeh.embed.embed_items_notebook(docs_json, render_items);\n",
       "\n",
       "  }\n",
       "  if (root.Bokeh !== undefined) {\n",
       "    embed_document(root);\n",
       "  } else {\n",
       "    let attempts = 0;\n",
       "    const timer = setInterval(function(root) {\n",
       "      if (root.Bokeh !== undefined) {\n",
       "        clearInterval(timer);\n",
       "        embed_document(root);\n",
       "      } else {\n",
       "        attempts++;\n",
       "        if (attempts > 100) {\n",
       "          clearInterval(timer);\n",
       "          console.log(\"Bokeh: ERROR: Unable to run BokehJS code because BokehJS library is missing\");\n",
       "        }\n",
       "      }\n",
       "    }, 10, root)\n",
       "  }\n",
       "})(window);"
      ],
      "application/vnd.bokehjs_exec.v0+json": ""
     },
     "metadata": {
      "application/vnd.bokehjs_exec.v0+json": {
       "id": "1346"
      }
     },
     "output_type": "display_data"
    }
   ],
   "source": [
    "make_export_strip_plot(model_df_human, \"num_publications\", \"../Figures/publications_stripbox.svg\", \"Publications\")"
   ]
  },
  {
   "cell_type": "code",
   "execution_count": 10,
   "id": "f613c508-487a-4ae1-b6ff-ebe6c9ee28ce",
   "metadata": {},
   "outputs": [
    {
     "data": {
      "text/html": [
       "\n",
       "\n",
       "\n",
       "\n",
       "\n",
       "\n",
       "  <div class=\"bk-root\" id=\"bf4e65e6-bd7a-46df-829d-c3780172a5d6\" data-root-id=\"1701\"></div>\n"
      ]
     },
     "metadata": {},
     "output_type": "display_data"
    },
    {
     "data": {
      "application/javascript": [
       "(function(root) {\n",
       "  function embed_document(root) {\n",
       "    \n",
       "  const docs_json = {\"0d47276a-915b-4954-930a-0b4dc0849cc5\":{\"defs\":[],\"roots\":{\"references\":[{\"attributes\":{\"below\":[{\"id\":\"1709\"}],\"center\":[{\"id\":\"1711\"},{\"id\":\"1715\"}],\"height\":550,\"left\":[{\"id\":\"1712\"}],\"renderers\":[{\"id\":\"1739\"},{\"id\":\"1745\"},{\"id\":\"1751\"},{\"id\":\"1757\"},{\"id\":\"1763\"},{\"id\":\"1769\"},{\"id\":\"1779\"}],\"title\":{\"id\":\"1807\"},\"toolbar\":{\"id\":\"1723\"},\"toolbar_location\":\"above\",\"width\":800,\"x_range\":{\"id\":\"1700\"},\"x_scale\":{\"id\":\"1705\"},\"y_range\":{\"id\":\"1703\"},\"y_scale\":{\"id\":\"1707\"}},\"id\":\"1701\",\"subtype\":\"Figure\",\"type\":\"Plot\"},{\"attributes\":{\"source\":{\"id\":\"1730\"}},\"id\":\"1758\",\"type\":\"CDSView\"},{\"attributes\":{\"bottom\":{\"field\":\"top_whisker\"},\"fill_color\":{\"value\":\"#1f77b4\"},\"line_color\":{\"value\":\"gray\"},\"top\":{\"field\":\"top_whisker\"},\"width\":{\"value\":0.1},\"x\":{\"field\":\"cat\"}},\"id\":\"1748\",\"type\":\"VBar\"},{\"attributes\":{\"source\":{\"id\":\"1730\"}},\"id\":\"1752\",\"type\":\"CDSView\"},{\"attributes\":{\"line_alpha\":{\"value\":0.1},\"line_color\":{\"value\":\"gray\"},\"x0\":{\"field\":\"cat\"},\"x1\":{\"field\":\"cat\"},\"y0\":{\"field\":\"bottom\"},\"y1\":{\"field\":\"bottom_whisker\"}},\"id\":\"1743\",\"type\":\"Segment\"},{\"attributes\":{},\"id\":\"1703\",\"type\":\"DataRange1d\"},{\"attributes\":{\"coordinates\":null,\"data_source\":{\"id\":\"1730\"},\"glyph\":{\"id\":\"1748\"},\"group\":null,\"hover_glyph\":null,\"muted_glyph\":{\"id\":\"1750\"},\"nonselection_glyph\":{\"id\":\"1749\"},\"view\":{\"id\":\"1752\"}},\"id\":\"1751\",\"type\":\"GlyphRenderer\"},{\"attributes\":{},\"id\":\"1815\",\"type\":\"UnionRenderers\"},{\"attributes\":{\"bottom\":{\"field\":\"bottom_whisker\"},\"fill_alpha\":{\"value\":0.1},\"fill_color\":{\"value\":\"#1f77b4\"},\"hatch_alpha\":{\"value\":0.1},\"line_alpha\":{\"value\":0.1},\"line_color\":{\"value\":\"gray\"},\"top\":{\"field\":\"bottom_whisker\"},\"width\":{\"value\":0.1},\"x\":{\"field\":\"cat\"}},\"id\":\"1755\",\"type\":\"VBar\"},{\"attributes\":{\"fill_color\":{\"field\":\"cat\",\"transform\":{\"id\":\"1772\"}},\"hatch_color\":{\"field\":\"cat\",\"transform\":{\"id\":\"1772\"}},\"line_color\":{\"field\":\"cat\",\"transform\":{\"id\":\"1772\"}},\"size\":{\"value\":6},\"x\":{\"field\":\"cat\",\"transform\":{\"id\":\"1774\"}},\"y\":{\"field\":\"Size(Kb)\"}},\"id\":\"1776\",\"type\":\"Circle\"},{\"attributes\":{\"source\":{\"id\":\"1730\"}},\"id\":\"1746\",\"type\":\"CDSView\"},{\"attributes\":{\"bottom\":{\"field\":\"bottom_whisker\"},\"fill_alpha\":{\"value\":0.2},\"fill_color\":{\"value\":\"#1f77b4\"},\"hatch_alpha\":{\"value\":0.2},\"line_alpha\":{\"value\":0.2},\"line_color\":{\"value\":\"gray\"},\"top\":{\"field\":\"bottom_whisker\"},\"width\":{\"value\":0.1},\"x\":{\"field\":\"cat\"}},\"id\":\"1756\",\"type\":\"VBar\"},{\"attributes\":{},\"id\":\"1721\",\"type\":\"HelpTool\"},{\"attributes\":{},\"id\":\"1816\",\"type\":\"Selection\"},{\"attributes\":{\"line_alpha\":{\"value\":0.2},\"line_color\":{\"value\":\"gray\"},\"x0\":{\"field\":\"cat\"},\"x1\":{\"field\":\"cat\"},\"y0\":{\"field\":\"bottom\"},\"y1\":{\"field\":\"bottom_whisker\"}},\"id\":\"1744\",\"type\":\"Segment\"},{\"attributes\":{\"ticker\":null},\"id\":\"1810\",\"type\":\"LogTickFormatter\"},{\"attributes\":{\"coordinates\":null,\"data_source\":{\"id\":\"1730\"},\"glyph\":{\"id\":\"1742\"},\"group\":null,\"hover_glyph\":null,\"muted_glyph\":{\"id\":\"1744\"},\"nonselection_glyph\":{\"id\":\"1743\"},\"view\":{\"id\":\"1746\"}},\"id\":\"1745\",\"type\":\"GlyphRenderer\"},{\"attributes\":{},\"id\":\"1707\",\"type\":\"LogScale\"},{\"attributes\":{\"coordinates\":null,\"formatter\":{\"id\":\"1813\"},\"group\":null,\"major_label_policy\":{\"id\":\"1814\"},\"major_label_text_font_size\":\"16pt\",\"ticker\":{\"id\":\"1710\"}},\"id\":\"1709\",\"type\":\"CategoricalAxis\"},{\"attributes\":{},\"id\":\"1710\",\"type\":\"CategoricalTicker\"},{\"attributes\":{\"bottom\":{\"field\":\"middle\"},\"fill_alpha\":{\"value\":0.1},\"fill_color\":{\"value\":\"#1f77b4\"},\"hatch_alpha\":{\"value\":0.1},\"line_alpha\":{\"value\":0.1},\"line_color\":{\"value\":\"gray\"},\"top\":{\"field\":\"middle\"},\"width\":{\"value\":0.4},\"x\":{\"field\":\"cat\"}},\"id\":\"1767\",\"type\":\"VBar\"},{\"attributes\":{\"bottom_units\":\"screen\",\"coordinates\":null,\"fill_alpha\":0.5,\"fill_color\":\"lightgrey\",\"group\":null,\"left_units\":\"screen\",\"level\":\"overlay\",\"line_alpha\":1.0,\"line_color\":\"black\",\"line_dash\":[4,4],\"line_width\":2,\"right_units\":\"screen\",\"syncable\":false,\"top_units\":\"screen\"},\"id\":\"1722\",\"type\":\"BoxAnnotation\"},{\"attributes\":{\"axis\":{\"id\":\"1709\"},\"coordinates\":null,\"grid_line_color\":null,\"group\":null,\"ticker\":null},\"id\":\"1711\",\"type\":\"Grid\"},{\"attributes\":{\"tools\":[{\"id\":\"1716\"},{\"id\":\"1717\"},{\"id\":\"1718\"},{\"id\":\"1719\"},{\"id\":\"1720\"},{\"id\":\"1721\"}]},\"id\":\"1723\",\"type\":\"Toolbar\"},{\"attributes\":{\"distribution\":\"normal\",\"range\":{\"id\":\"1700\"},\"width\":0.1},\"id\":\"1774\",\"type\":\"Jitter\"},{\"attributes\":{},\"id\":\"1811\",\"type\":\"AllLabels\"},{\"attributes\":{\"fill_alpha\":{\"value\":0.1},\"fill_color\":{\"field\":\"cat\",\"transform\":{\"id\":\"1772\"}},\"hatch_alpha\":{\"value\":0.1},\"hatch_color\":{\"field\":\"cat\",\"transform\":{\"id\":\"1772\"}},\"line_alpha\":{\"value\":0.1},\"line_color\":{\"field\":\"cat\",\"transform\":{\"id\":\"1772\"}},\"size\":{\"value\":6},\"x\":{\"field\":\"cat\",\"transform\":{\"id\":\"1774\"}},\"y\":{\"field\":\"Size(Kb)\"}},\"id\":\"1777\",\"type\":\"Circle\"},{\"attributes\":{\"axis\":{\"id\":\"1712\"},\"coordinates\":null,\"dimension\":1,\"group\":null,\"ticker\":null},\"id\":\"1715\",\"type\":\"Grid\"},{\"attributes\":{\"coordinates\":null,\"data_source\":{\"id\":\"1730\"},\"glyph\":{\"id\":\"1736\"},\"group\":null,\"hover_glyph\":null,\"muted_glyph\":{\"id\":\"1738\"},\"nonselection_glyph\":{\"id\":\"1737\"},\"view\":{\"id\":\"1740\"}},\"id\":\"1739\",\"type\":\"GlyphRenderer\"},{\"attributes\":{\"bottom\":{\"field\":\"middle\"},\"fill_alpha\":{\"value\":0.2},\"fill_color\":{\"value\":\"#1f77b4\"},\"hatch_alpha\":{\"value\":0.2},\"line_alpha\":{\"value\":0.2},\"line_color\":{\"value\":\"gray\"},\"top\":{\"field\":\"middle\"},\"width\":{\"value\":0.4},\"x\":{\"field\":\"cat\"}},\"id\":\"1768\",\"type\":\"VBar\"},{\"attributes\":{\"data\":{\"Severity\":[\"moderate\",\"moderate\",\"severe\",\"very low\",\"moderate\",\"moderate\",\"low\",\"low\",\"moderate\",\"very low\",\"very low\",\"moderate\",\"severe\",\"moderate\",\"low\",\"low\",\"severe\",\"moderate\",\"low\",\"moderate\",\"moderate\",\"low\",\"moderate\",\"moderate\",\"moderate\",\"moderate\",\"low\",\"low\",\"low\",\"low\",\"low\",\"moderate\",\"moderate\",\"moderate\",\"moderate\",\"moderate\",\"low\",\"moderate\",\"moderate\",\"moderate\",\"moderate\",\"moderate\",\"low\",\"low\",\"moderate\",\"moderate\",\"moderate\",\"moderate\",\"moderate\",\"moderate\",\"moderate\",\"moderate\",\"very low\",\"moderate\",\"low\",\"very low\",\"moderate\",\"moderate\",\"moderate\",\"moderate\",\"moderate\",\"very low\",\"very low\",\"low\",\"low\",\"moderate\",\"very low\",\"moderate\",\"moderate\",\"low\",\"moderate\",\"low\",\"low\",\"moderate\",\"moderate\",\"moderate\",\"moderate\",\"moderate\",\"moderate\",\"moderate\",\"moderate\",\"moderate\",\"very low\",\"moderate\",\"severe\",\"moderate\",\"moderate\",\"moderate\",\"moderate\",\"moderate\",\"moderate\",\"moderate\",\"moderate\",\"moderate\",\"moderate\",\"moderate\",\"very low\",\"low\",\"severe\",\"low\",\"moderate\",\"low\",\"moderate\",\"moderate\",\"moderate\",\"low\",\"moderate\",\"moderate\",\"moderate\",\"moderate\",\"moderate\",\"moderate\",\"moderate\",\"low\",\"moderate\",\"moderate\",\"low\",\"low\",\"severe\",\"low\",\"moderate\",\"moderate\",\"severe\",\"very low\",\"moderate\",\"moderate\",\"moderate\",\"moderate\",\"moderate\",\"moderate\",\"moderate\",\"moderate\",\"moderate\",\"moderate\",\"moderate\",\"moderate\",\"low\",\"low\",\"moderate\",\"severe\"],\"Size(Kb)\":[30.119,29.274,11.916764705882352,27.317,30.119,29.274,13.210598540145998,10.891,7.413,30.6348,27.553,13.210598540145998,18.2182,29.274,13.210598540145998,13.210598540145998,30.119,7.856999999999999,35.83646666666667,137.969,9.432273809523808,151.15183333333334,171.72820000000002,8.959712328767123,8.959712328767123,9.432273809523808,33.81999999999999,35.83646666666667,234.5115,151.15183333333334,141.19619047619048,8.959712328767123,8.959712328767123,8.959712328767123,7.533333333333334,171.72820000000002,9.028,7.9542,7.9542,7.9542,7.533333333333334,137.969,5.146999999999999,27.518078683035583,7.9542,9.432273809523808,9.432273809523808,9.432273809523808,9.432273809523808,9.432273809523808,8.959712328767123,10.033972972972974,29.926,7.868,13.210598540145998,180.9562307692308,8.959712328767123,9.432273809523808,7.9542,7.868,7.9542,180.9562307692308,180.9562307692308,159.378,35.03314084507043,7.945,180.9562307692308,7.44,9.432273809523808,13.210598540145998,13.210598540145998,13.210598540145998,13.210598540145998,10.693166666666665,13.210598540145998,13.210598540145998,13.210598540145998,13.210598540145998,13.210598540145998,9.432273809523808,10.9955,10.693166666666665,15.2235,10.693166666666665,10.376,10.9955,8.589333333333332,10.976,10.693166666666665,7.815,7.9542,7.3858,7.9542,7.856999999999999,7.9542,10.33,11.083,15.893999999999998,19.146,13.210598540145998,8.959712328767123,35.07171428571428,9.028,3.2136666666666667,7.856999999999999,33.81999999999999,7.9542,137.969,8.959712328767123,8.959712328767123,8.959712328767123,7.0955,7.0955,151.15183333333334,8.959712328767123,171.72820000000002,9.762,151.15183333333334,18.923,9.028,8.005176470588234,3.2136666666666667,6.843,15.2235,7.4405,6.153271739130437,7.3858,7.533333333333334,7.415,7.3858,7.533333333333334,9.432273809523808,9.432273809523808,9.432273809523808,9.432273809523808,10.693166666666665,4.575764705882353,234.5115,9.432273809523808,10.681],\"__label\":[\"moderate\",\"moderate\",\"severe\",\"very low\",\"moderate\",\"moderate\",\"low\",\"low\",\"moderate\",\"very low\",\"very low\",\"moderate\",\"severe\",\"moderate\",\"low\",\"low\",\"severe\",\"moderate\",\"low\",\"moderate\",\"moderate\",\"low\",\"moderate\",\"moderate\",\"moderate\",\"moderate\",\"low\",\"low\",\"low\",\"low\",\"low\",\"moderate\",\"moderate\",\"moderate\",\"moderate\",\"moderate\",\"low\",\"moderate\",\"moderate\",\"moderate\",\"moderate\",\"moderate\",\"low\",\"low\",\"moderate\",\"moderate\",\"moderate\",\"moderate\",\"moderate\",\"moderate\",\"moderate\",\"moderate\",\"very low\",\"moderate\",\"low\",\"very low\",\"moderate\",\"moderate\",\"moderate\",\"moderate\",\"moderate\",\"very low\",\"very low\",\"low\",\"low\",\"moderate\",\"very low\",\"moderate\",\"moderate\",\"low\",\"moderate\",\"low\",\"low\",\"moderate\",\"moderate\",\"moderate\",\"moderate\",\"moderate\",\"moderate\",\"moderate\",\"moderate\",\"moderate\",\"very low\",\"moderate\",\"severe\",\"moderate\",\"moderate\",\"moderate\",\"moderate\",\"moderate\",\"moderate\",\"moderate\",\"moderate\",\"moderate\",\"moderate\",\"moderate\",\"very low\",\"low\",\"severe\",\"low\",\"moderate\",\"low\",\"moderate\",\"moderate\",\"moderate\",\"low\",\"moderate\",\"moderate\",\"moderate\",\"moderate\",\"moderate\",\"moderate\",\"moderate\",\"low\",\"moderate\",\"moderate\",\"low\",\"low\",\"severe\",\"low\",\"moderate\",\"moderate\",\"severe\",\"very low\",\"moderate\",\"moderate\",\"moderate\",\"moderate\",\"moderate\",\"moderate\",\"moderate\",\"moderate\",\"moderate\",\"moderate\",\"moderate\",\"moderate\",\"low\",\"low\",\"moderate\",\"severe\"],\"cat\":[\"moderate\",\"moderate\",\"severe\",\"very low\",\"moderate\",\"moderate\",\"low\",\"low\",\"moderate\",\"very low\",\"very low\",\"moderate\",\"severe\",\"moderate\",\"low\",\"low\",\"severe\",\"moderate\",\"low\",\"moderate\",\"moderate\",\"low\",\"moderate\",\"moderate\",\"moderate\",\"moderate\",\"low\",\"low\",\"low\",\"low\",\"low\",\"moderate\",\"moderate\",\"moderate\",\"moderate\",\"moderate\",\"low\",\"moderate\",\"moderate\",\"moderate\",\"moderate\",\"moderate\",\"low\",\"low\",\"moderate\",\"moderate\",\"moderate\",\"moderate\",\"moderate\",\"moderate\",\"moderate\",\"moderate\",\"very low\",\"moderate\",\"low\",\"very low\",\"moderate\",\"moderate\",\"moderate\",\"moderate\",\"moderate\",\"very low\",\"very low\",\"low\",\"low\",\"moderate\",\"very low\",\"moderate\",\"moderate\",\"low\",\"moderate\",\"low\",\"low\",\"moderate\",\"moderate\",\"moderate\",\"moderate\",\"moderate\",\"moderate\",\"moderate\",\"moderate\",\"moderate\",\"very low\",\"moderate\",\"severe\",\"moderate\",\"moderate\",\"moderate\",\"moderate\",\"moderate\",\"moderate\",\"moderate\",\"moderate\",\"moderate\",\"moderate\",\"moderate\",\"very low\",\"low\",\"severe\",\"low\",\"moderate\",\"low\",\"moderate\",\"moderate\",\"moderate\",\"low\",\"moderate\",\"moderate\",\"moderate\",\"moderate\",\"moderate\",\"moderate\",\"moderate\",\"low\",\"moderate\",\"moderate\",\"low\",\"low\",\"severe\",\"low\",\"moderate\",\"moderate\",\"severe\",\"very low\",\"moderate\",\"moderate\",\"moderate\",\"moderate\",\"moderate\",\"moderate\",\"moderate\",\"moderate\",\"moderate\",\"moderate\",\"moderate\",\"moderate\",\"low\",\"low\",\"moderate\",\"severe\"]},\"selected\":{\"id\":\"1818\"},\"selection_policy\":{\"id\":\"1817\"}},\"id\":\"1773\",\"type\":\"ColumnDataSource\"},{\"attributes\":{\"num_minor_ticks\":10},\"id\":\"1713\",\"type\":\"LogTicker\"},{\"attributes\":{\"factors\":[\"very low\",\"low\",\"moderate\",\"severe\"],\"palette\":[\"#1f77b3\",\"#ff7e0e\",\"#2ba02b\",\"#d62628\",\"#9367bc\",\"#8c564b\",\"#e277c1\",\"#7e7e7e\",\"#bcbc21\",\"#16bdcf\",\"#3a0182\",\"#004201\",\"#0fffa8\",\"#5d003f\",\"#bcbcff\",\"#d8afa1\",\"#b80080\",\"#004d52\",\"#6b6400\",\"#7c0100\",\"#6026ff\",\"#ffff9a\",\"#564964\",\"#8cb893\",\"#93fbff\",\"#018267\",\"#90ff00\",\"#8200a0\",\"#ac8944\",\"#5b3400\",\"#ffbff2\",\"#ff6e75\",\"#798cff\",\"#dd00ff\",\"#505646\",\"#004489\",\"#ffbf60\",\"#ff018c\",\"#bdc8cf\",\"#af97b5\",\"#b65600\",\"#017000\",\"#cd87ff\",\"#1cd646\",\"#bfebc3\",\"#7997b5\",\"#a56089\",\"#6e8956\",\"#bc7c75\",\"#8a2844\",\"#00acff\",\"#8ed4ff\",\"#4b6d77\",\"#00d4b1\",\"#9300f2\",\"#8a9500\",\"#5d5b9e\",\"#fddfba\",\"#00939e\",\"#ffdb00\",\"#00aa79\",\"#520067\",\"#000091\",\"#0a5d3d\",\"#a5e275\",\"#623b41\",\"#c6c689\",\"#ff9eb5\",\"#cd4f6b\",\"#ff07d6\",\"#8a3a05\",\"#7e3d70\",\"#ff4901\",\"#602ba5\",\"#1c00ff\",\"#e6dfff\",\"#aa3baf\",\"#d89c00\",\"#a3a39e\",\"#3f69ff\",\"#46490c\",\"#7b6985\",\"#6b978c\",\"#ff9a75\",\"#835bff\",\"#7c6b46\",\"#80b654\",\"#bc0049\",\"#fd93ff\",\"#5d0018\",\"#89d1d1\",\"#9c8cd3\",\"#da6d42\",\"#8a5700\",\"#3b5069\",\"#4b6b3b\",\"#edcfd8\",\"#cfedff\",\"#aa1500\",\"#dfff4f\",\"#ff2a56\",\"#d1499e\",\"#707cb8\",\"#598000\",\"#00e4fd\",\"#774b95\",\"#67d48c\",\"#3d3a72\",\"#ac413f\",\"#d6a166\",\"#c169cd\",\"#69595d\",\"#87aced\",\"#a0a569\",\"#d1aae6\",\"#870062\",\"#00fddb\",\"#672818\",\"#b342ff\",\"#0e59c4\",\"#168742\",\"#90d300\",\"#cd7900\",\"#f959ff\",\"#5b7466\",\"#8eaeb3\",\"#9c7c8c\",\"#4600c6\",\"#6b4d2d\",\"#a56d46\",\"#9e8972\",\"#a8afca\",\"#cd8ca7\",\"#00fd64\",\"#917900\",\"#ff62a1\",\"#f4ffd8\",\"#018cf0\",\"#13aca0\",\"#5b2d59\",\"#89859e\",\"#cfccba\",\"#d4afc4\",\"#dbdd6d\",\"#cffff4\",\"#006485\",\"#006962\",\"#a84167\",\"#2d97c4\",\"#a874ff\",\"#26ba5d\",\"#57b600\",\"#caffa7\",\"#a379aa\",\"#ffbc93\",\"#89e2c1\",\"#0fc8ff\",\"#d400c4\",\"#626d89\",\"#69858e\",\"#4b4d52\",\"#aa6067\",\"#79b5d4\",\"#2b5916\",\"#9a0024\",\"#bdd1f2\",\"#896e67\",\"#69a56b\",\"#855467\",\"#aecdba\",\"#87997e\",\"#cadb00\",\"#9a0390\",\"#ebbc1a\",\"#eb9cd1\",\"#70006e\",\"#b1a131\",\"#ca6b93\",\"#4146a3\",\"#e48c89\",\"#d44400\",\"#c68aca\",\"#b69597\",\"#d41f75\",\"#724bcc\",\"#674d00\",\"#672138\",\"#38564f\",\"#6ebaaa\",\"#853a31\",\"#a5d397\",\"#b8af8e\",\"#d8e4df\",\"#aa00df\",\"#cac1db\",\"#ffdf8c\",\"#e2524d\",\"#66696e\",\"#ff001c\",\"#522d72\",\"#4d906b\",\"#a86d11\",\"#ff9e26\",\"#5ea3af\",\"#c88556\",\"#915997\",\"#a3a1ff\",\"#fdbaba\",\"#242a87\",\"#dbe6a8\",\"#97f2a7\",\"#6793d6\",\"#ba5b3f\",\"#3a5d91\",\"#364f2f\",\"#267c95\",\"#89959a\",\"#cfb356\",\"#004664\",\"#5e5d2f\",\"#8e8e41\",\"#ac3f13\",\"#69953b\",\"#a13d85\",\"#bfb6ba\",\"#acc667\",\"#6469cf\",\"#91af00\",\"#2be2da\",\"#016e36\",\"#ff7952\",\"#42807e\",\"#4fe800\",\"#995428\",\"#5d0a00\",\"#a30057\",\"#0c8700\",\"#5982a7\",\"#ffebfb\",\"#4b6901\",\"#8775d4\",\"#e6c6ff\",\"#a5ffda\",\"#d86e77\",\"#df014b\",\"#69675b\",\"#776ba1\",\"#7e8067\",\"#594685\",\"#0000ca\",\"#7c002a\",\"#97ff72\",\"#b5e2e1\",\"#db52c8\",\"#777734\",\"#57bd8e\"]},\"id\":\"1772\",\"type\":\"CategoricalColorMapper\"},{\"attributes\":{\"axis_label\":\"Size(Kb)\",\"coordinates\":null,\"formatter\":{\"id\":\"1810\"},\"group\":null,\"major_label_policy\":{\"id\":\"1811\"},\"major_label_text_font_size\":\"16pt\",\"ticker\":{\"id\":\"1713\"}},\"id\":\"1712\",\"type\":\"LogAxis\"},{\"attributes\":{},\"id\":\"1813\",\"type\":\"CategoricalTickFormatter\"},{\"attributes\":{\"line_alpha\":{\"value\":0.2},\"line_color\":{\"value\":\"gray\"},\"x0\":{\"field\":\"cat\"},\"x1\":{\"field\":\"cat\"},\"y0\":{\"field\":\"top\"},\"y1\":{\"field\":\"top_whisker\"}},\"id\":\"1738\",\"type\":\"Segment\"},{\"attributes\":{\"bottom\":{\"field\":\"bottom_whisker\"},\"fill_color\":{\"value\":\"#1f77b4\"},\"line_color\":{\"value\":\"gray\"},\"top\":{\"field\":\"bottom_whisker\"},\"width\":{\"value\":0.1},\"x\":{\"field\":\"cat\"}},\"id\":\"1754\",\"type\":\"VBar\"},{\"attributes\":{},\"id\":\"1717\",\"type\":\"WheelZoomTool\"},{\"attributes\":{\"fill_alpha\":{\"value\":0.2},\"fill_color\":{\"field\":\"cat\",\"transform\":{\"id\":\"1772\"}},\"hatch_alpha\":{\"value\":0.2},\"hatch_color\":{\"field\":\"cat\",\"transform\":{\"id\":\"1772\"}},\"line_alpha\":{\"value\":0.2},\"line_color\":{\"field\":\"cat\",\"transform\":{\"id\":\"1772\"}},\"size\":{\"value\":6},\"x\":{\"field\":\"cat\",\"transform\":{\"id\":\"1774\"}},\"y\":{\"field\":\"Size(Kb)\"}},\"id\":\"1778\",\"type\":\"Circle\"},{\"attributes\":{},\"id\":\"1716\",\"type\":\"PanTool\"},{\"attributes\":{\"line_color\":{\"value\":\"gray\"},\"x0\":{\"field\":\"cat\"},\"x1\":{\"field\":\"cat\"},\"y0\":{\"field\":\"bottom\"},\"y1\":{\"field\":\"bottom_whisker\"}},\"id\":\"1742\",\"type\":\"Segment\"},{\"attributes\":{\"overlay\":{\"id\":\"1722\"}},\"id\":\"1718\",\"type\":\"BoxZoomTool\"},{\"attributes\":{},\"id\":\"1719\",\"type\":\"SaveTool\"},{\"attributes\":{\"bottom\":{\"field\":\"middle\"},\"fill_color\":{\"value\":\"#1f77b4\"},\"line_color\":{\"value\":\"gray\"},\"top\":{\"field\":\"middle\"},\"width\":{\"value\":0.4},\"x\":{\"field\":\"cat\"}},\"id\":\"1766\",\"type\":\"VBar\"},{\"attributes\":{\"bottom\":{\"field\":\"bottom\"},\"fill_alpha\":{\"value\":0},\"fill_color\":{\"field\":\"cat\",\"transform\":{\"id\":\"1734\"}},\"line_color\":{\"value\":\"gray\"},\"top\":{\"field\":\"top\"},\"width\":{\"value\":0.4},\"x\":{\"field\":\"cat\"}},\"id\":\"1760\",\"type\":\"VBar\"},{\"attributes\":{\"source\":{\"id\":\"1773\"}},\"id\":\"1780\",\"type\":\"CDSView\"},{\"attributes\":{\"factors\":[\"very low\",\"low\",\"moderate\",\"severe\"]},\"id\":\"1700\",\"type\":\"FactorRange\"},{\"attributes\":{\"bottom\":{\"field\":\"top_whisker\"},\"fill_alpha\":{\"value\":0.2},\"fill_color\":{\"value\":\"#1f77b4\"},\"hatch_alpha\":{\"value\":0.2},\"line_alpha\":{\"value\":0.2},\"line_color\":{\"value\":\"gray\"},\"top\":{\"field\":\"top_whisker\"},\"width\":{\"value\":0.1},\"x\":{\"field\":\"cat\"}},\"id\":\"1750\",\"type\":\"VBar\"},{\"attributes\":{},\"id\":\"1720\",\"type\":\"ResetTool\"},{\"attributes\":{\"source\":{\"id\":\"1730\"}},\"id\":\"1740\",\"type\":\"CDSView\"},{\"attributes\":{\"coordinates\":null,\"data_source\":{\"id\":\"1730\"},\"glyph\":{\"id\":\"1760\"},\"group\":null,\"hover_glyph\":null,\"muted_glyph\":{\"id\":\"1762\"},\"nonselection_glyph\":{\"id\":\"1761\"},\"view\":{\"id\":\"1764\"}},\"id\":\"1763\",\"type\":\"GlyphRenderer\"},{\"attributes\":{},\"id\":\"1817\",\"type\":\"UnionRenderers\"},{\"attributes\":{\"data\":{\"__label\":[\"very low\",\"low\",\"moderate\",\"severe\"],\"bottom\":[21.27025,13.210598540145998,7.9496,10.60475],\"bottom_whisker\":[11.083,4.575764705882353,6.153271739130437,6.843],\"cat\":[\"very low\",\"low\",\"moderate\",\"severe\"],\"middle\":[29.926,21.70603934151779,8.959712328767123,15.067482352941177],\"top\":[180.9562307692308,114.85625952380953,10.693166666666665,18.978749999999998],\"top_whisker\":[180.9562307692308,234.5115,13.210598540145998,30.119]},\"selected\":{\"id\":\"1816\"},\"selection_policy\":{\"id\":\"1815\"}},\"id\":\"1730\",\"type\":\"ColumnDataSource\"},{\"attributes\":{\"line_color\":{\"value\":\"gray\"},\"x0\":{\"field\":\"cat\"},\"x1\":{\"field\":\"cat\"},\"y0\":{\"field\":\"top\"},\"y1\":{\"field\":\"top_whisker\"}},\"id\":\"1736\",\"type\":\"Segment\"},{\"attributes\":{},\"id\":\"1818\",\"type\":\"Selection\"},{\"attributes\":{\"bottom\":{\"field\":\"bottom\"},\"fill_alpha\":{\"value\":0.2},\"fill_color\":{\"field\":\"cat\",\"transform\":{\"id\":\"1734\"}},\"hatch_alpha\":{\"value\":0.2},\"line_alpha\":{\"value\":0.2},\"line_color\":{\"value\":\"gray\"},\"top\":{\"field\":\"top\"},\"width\":{\"value\":0.4},\"x\":{\"field\":\"cat\"}},\"id\":\"1762\",\"type\":\"VBar\"},{\"attributes\":{\"factors\":[\"very low\",\"low\",\"moderate\",\"severe\"],\"palette\":[\"#1f77b3\",\"#ff7e0e\",\"#2ba02b\",\"#d62628\",\"#9367bc\",\"#8c564b\",\"#e277c1\",\"#7e7e7e\",\"#bcbc21\",\"#16bdcf\",\"#3a0182\",\"#004201\",\"#0fffa8\",\"#5d003f\",\"#bcbcff\",\"#d8afa1\",\"#b80080\",\"#004d52\",\"#6b6400\",\"#7c0100\",\"#6026ff\",\"#ffff9a\",\"#564964\",\"#8cb893\",\"#93fbff\",\"#018267\",\"#90ff00\",\"#8200a0\",\"#ac8944\",\"#5b3400\",\"#ffbff2\",\"#ff6e75\",\"#798cff\",\"#dd00ff\",\"#505646\",\"#004489\",\"#ffbf60\",\"#ff018c\",\"#bdc8cf\",\"#af97b5\",\"#b65600\",\"#017000\",\"#cd87ff\",\"#1cd646\",\"#bfebc3\",\"#7997b5\",\"#a56089\",\"#6e8956\",\"#bc7c75\",\"#8a2844\",\"#00acff\",\"#8ed4ff\",\"#4b6d77\",\"#00d4b1\",\"#9300f2\",\"#8a9500\",\"#5d5b9e\",\"#fddfba\",\"#00939e\",\"#ffdb00\",\"#00aa79\",\"#520067\",\"#000091\",\"#0a5d3d\",\"#a5e275\",\"#623b41\",\"#c6c689\",\"#ff9eb5\",\"#cd4f6b\",\"#ff07d6\",\"#8a3a05\",\"#7e3d70\",\"#ff4901\",\"#602ba5\",\"#1c00ff\",\"#e6dfff\",\"#aa3baf\",\"#d89c00\",\"#a3a39e\",\"#3f69ff\",\"#46490c\",\"#7b6985\",\"#6b978c\",\"#ff9a75\",\"#835bff\",\"#7c6b46\",\"#80b654\",\"#bc0049\",\"#fd93ff\",\"#5d0018\",\"#89d1d1\",\"#9c8cd3\",\"#da6d42\",\"#8a5700\",\"#3b5069\",\"#4b6b3b\",\"#edcfd8\",\"#cfedff\",\"#aa1500\",\"#dfff4f\",\"#ff2a56\",\"#d1499e\",\"#707cb8\",\"#598000\",\"#00e4fd\",\"#774b95\",\"#67d48c\",\"#3d3a72\",\"#ac413f\",\"#d6a166\",\"#c169cd\",\"#69595d\",\"#87aced\",\"#a0a569\",\"#d1aae6\",\"#870062\",\"#00fddb\",\"#672818\",\"#b342ff\",\"#0e59c4\",\"#168742\",\"#90d300\",\"#cd7900\",\"#f959ff\",\"#5b7466\",\"#8eaeb3\",\"#9c7c8c\",\"#4600c6\",\"#6b4d2d\",\"#a56d46\",\"#9e8972\",\"#a8afca\",\"#cd8ca7\",\"#00fd64\",\"#917900\",\"#ff62a1\",\"#f4ffd8\",\"#018cf0\",\"#13aca0\",\"#5b2d59\",\"#89859e\",\"#cfccba\",\"#d4afc4\",\"#dbdd6d\",\"#cffff4\",\"#006485\",\"#006962\",\"#a84167\",\"#2d97c4\",\"#a874ff\",\"#26ba5d\",\"#57b600\",\"#caffa7\",\"#a379aa\",\"#ffbc93\",\"#89e2c1\",\"#0fc8ff\",\"#d400c4\",\"#626d89\",\"#69858e\",\"#4b4d52\",\"#aa6067\",\"#79b5d4\",\"#2b5916\",\"#9a0024\",\"#bdd1f2\",\"#896e67\",\"#69a56b\",\"#855467\",\"#aecdba\",\"#87997e\",\"#cadb00\",\"#9a0390\",\"#ebbc1a\",\"#eb9cd1\",\"#70006e\",\"#b1a131\",\"#ca6b93\",\"#4146a3\",\"#e48c89\",\"#d44400\",\"#c68aca\",\"#b69597\",\"#d41f75\",\"#724bcc\",\"#674d00\",\"#672138\",\"#38564f\",\"#6ebaaa\",\"#853a31\",\"#a5d397\",\"#b8af8e\",\"#d8e4df\",\"#aa00df\",\"#cac1db\",\"#ffdf8c\",\"#e2524d\",\"#66696e\",\"#ff001c\",\"#522d72\",\"#4d906b\",\"#a86d11\",\"#ff9e26\",\"#5ea3af\",\"#c88556\",\"#915997\",\"#a3a1ff\",\"#fdbaba\",\"#242a87\",\"#dbe6a8\",\"#97f2a7\",\"#6793d6\",\"#ba5b3f\",\"#3a5d91\",\"#364f2f\",\"#267c95\",\"#89959a\",\"#cfb356\",\"#004664\",\"#5e5d2f\",\"#8e8e41\",\"#ac3f13\",\"#69953b\",\"#a13d85\",\"#bfb6ba\",\"#acc667\",\"#6469cf\",\"#91af00\",\"#2be2da\",\"#016e36\",\"#ff7952\",\"#42807e\",\"#4fe800\",\"#995428\",\"#5d0a00\",\"#a30057\",\"#0c8700\",\"#5982a7\",\"#ffebfb\",\"#4b6901\",\"#8775d4\",\"#e6c6ff\",\"#a5ffda\",\"#d86e77\",\"#df014b\",\"#69675b\",\"#776ba1\",\"#7e8067\",\"#594685\",\"#0000ca\",\"#7c002a\",\"#97ff72\",\"#b5e2e1\",\"#db52c8\",\"#777734\",\"#57bd8e\"]},\"id\":\"1734\",\"type\":\"CategoricalColorMapper\"},{\"attributes\":{\"coordinates\":null,\"data_source\":{\"id\":\"1773\"},\"glyph\":{\"id\":\"1776\"},\"group\":null,\"hover_glyph\":null,\"muted_glyph\":{\"id\":\"1778\"},\"nonselection_glyph\":{\"id\":\"1777\"},\"view\":{\"id\":\"1780\"}},\"id\":\"1779\",\"type\":\"GlyphRenderer\"},{\"attributes\":{\"line_alpha\":{\"value\":0.1},\"line_color\":{\"value\":\"gray\"},\"x0\":{\"field\":\"cat\"},\"x1\":{\"field\":\"cat\"},\"y0\":{\"field\":\"top\"},\"y1\":{\"field\":\"top_whisker\"}},\"id\":\"1737\",\"type\":\"Segment\"},{\"attributes\":{\"source\":{\"id\":\"1730\"}},\"id\":\"1764\",\"type\":\"CDSView\"},{\"attributes\":{\"coordinates\":null,\"group\":null},\"id\":\"1807\",\"type\":\"Title\"},{\"attributes\":{\"bottom\":{\"field\":\"bottom\"},\"fill_alpha\":{\"value\":0.1},\"fill_color\":{\"field\":\"cat\",\"transform\":{\"id\":\"1734\"}},\"hatch_alpha\":{\"value\":0.1},\"line_alpha\":{\"value\":0.1},\"line_color\":{\"value\":\"gray\"},\"top\":{\"field\":\"top\"},\"width\":{\"value\":0.4},\"x\":{\"field\":\"cat\"}},\"id\":\"1761\",\"type\":\"VBar\"},{\"attributes\":{},\"id\":\"1814\",\"type\":\"AllLabels\"},{\"attributes\":{},\"id\":\"1705\",\"type\":\"CategoricalScale\"},{\"attributes\":{\"bottom\":{\"field\":\"top_whisker\"},\"fill_alpha\":{\"value\":0.1},\"fill_color\":{\"value\":\"#1f77b4\"},\"hatch_alpha\":{\"value\":0.1},\"line_alpha\":{\"value\":0.1},\"line_color\":{\"value\":\"gray\"},\"top\":{\"field\":\"top_whisker\"},\"width\":{\"value\":0.1},\"x\":{\"field\":\"cat\"}},\"id\":\"1749\",\"type\":\"VBar\"},{\"attributes\":{\"source\":{\"id\":\"1730\"}},\"id\":\"1770\",\"type\":\"CDSView\"},{\"attributes\":{\"coordinates\":null,\"data_source\":{\"id\":\"1730\"},\"glyph\":{\"id\":\"1766\"},\"group\":null,\"hover_glyph\":null,\"muted_glyph\":{\"id\":\"1768\"},\"nonselection_glyph\":{\"id\":\"1767\"},\"view\":{\"id\":\"1770\"}},\"id\":\"1769\",\"type\":\"GlyphRenderer\"},{\"attributes\":{\"coordinates\":null,\"data_source\":{\"id\":\"1730\"},\"glyph\":{\"id\":\"1754\"},\"group\":null,\"hover_glyph\":null,\"muted_glyph\":{\"id\":\"1756\"},\"nonselection_glyph\":{\"id\":\"1755\"},\"view\":{\"id\":\"1758\"}},\"id\":\"1757\",\"type\":\"GlyphRenderer\"}],\"root_ids\":[\"1701\"]},\"title\":\"Bokeh Application\",\"version\":\"2.4.2\"}};\n",
       "  const render_items = [{\"docid\":\"0d47276a-915b-4954-930a-0b4dc0849cc5\",\"root_ids\":[\"1701\"],\"roots\":{\"1701\":\"bf4e65e6-bd7a-46df-829d-c3780172a5d6\"}}];\n",
       "  root.Bokeh.embed.embed_items_notebook(docs_json, render_items);\n",
       "\n",
       "  }\n",
       "  if (root.Bokeh !== undefined) {\n",
       "    embed_document(root);\n",
       "  } else {\n",
       "    let attempts = 0;\n",
       "    const timer = setInterval(function(root) {\n",
       "      if (root.Bokeh !== undefined) {\n",
       "        clearInterval(timer);\n",
       "        embed_document(root);\n",
       "      } else {\n",
       "        attempts++;\n",
       "        if (attempts > 100) {\n",
       "          clearInterval(timer);\n",
       "          console.log(\"Bokeh: ERROR: Unable to run BokehJS code because BokehJS library is missing\");\n",
       "        }\n",
       "      }\n",
       "    }, 10, root)\n",
       "  }\n",
       "})(window);"
      ],
      "application/vnd.bokehjs_exec.v0+json": ""
     },
     "metadata": {
      "application/vnd.bokehjs_exec.v0+json": {
       "id": "1701"
      }
     },
     "output_type": "display_data"
    }
   ],
   "source": [
    "make_export_strip_plot(model_df_human, \"Size(Kb)\", \"../Figures/genome_stripbox.svg\", \"Genome Size (kb)\")"
   ]
  },
  {
   "cell_type": "code",
   "execution_count": 11,
   "id": "849de57a-54be-44ec-a301-e9279c9894be",
   "metadata": {},
   "outputs": [
    {
     "data": {
      "image/png": "[encoded data removed]",
      "text/plain": [
       "<Figure size 900x600 with 1 Axes>"
      ]
     },
     "metadata": {
      "needs_background": "light"
     },
     "output_type": "display_data"
    },
    {
     "data": {
      "text/plain": [
       "SpearmanrResult(correlation=0.6163184072183158, pvalue=5.234022980731022e-16)"
      ]
     },
     "execution_count": 11,
     "metadata": {},
     "output_type": "execute_result"
    }
   ],
   "source": [
    "# might be the biggest predictor. Spearman rho totally not significant for num_interactions and genome size\n",
    "spearman_rho_corr(model_df_human, \"num_publications\", \"num_unique_interactions\")"
   ]
  },
  {
   "cell_type": "code",
   "execution_count": 12,
   "id": "0bf79628-a04d-491e-8d98-c7be4cb8423e",
   "metadata": {},
   "outputs": [
    {
     "data": {
      "image/png": "[encoded data removed]",
      "text/plain": [
       "<Figure size 900x600 with 1 Axes>"
      ]
     },
     "metadata": {
      "needs_background": "light"
     },
     "output_type": "display_data"
    },
    {
     "data": {
      "text/plain": [
       "SpearmanrResult(correlation=0.07580908164030033, pvalue=0.3733449876134395)"
      ]
     },
     "execution_count": 12,
     "metadata": {},
     "output_type": "execute_result"
    }
   ],
   "source": [
    "spearman_rho_corr(model_df_human, \"Size(Kb)\", \"num_unique_interactions\")"
   ]
  },
  {
   "cell_type": "code",
   "execution_count": 13,
   "id": "225806c1-21b5-4b47-9da9-67882c1e1dfd",
   "metadata": {},
   "outputs": [
    {
     "data": {
      "image/png": "[encoded data removed]",
      "text/plain": [
       "<Figure size 900x600 with 1 Axes>"
      ]
     },
     "metadata": {
      "needs_background": "light"
     },
     "output_type": "display_data"
    },
    {
     "data": {
      "text/plain": [
       "SpearmanrResult(correlation=0.09515413623721056, pvalue=0.263428423236626)"
      ]
     },
     "execution_count": 13,
     "metadata": {},
     "output_type": "execute_result"
    }
   ],
   "source": [
    "spearman_rho_corr(model_df_human, \"Size(Kb)\", \"num_publications\")"
   ]
  },
  {
   "cell_type": "markdown",
   "id": "8f0b95aa-79fd-4242-937e-3bdb9e38ef0d",
   "metadata": {},
   "source": [
    "# Logit Ordinal Regression"
   ]
  },
  {
   "cell_type": "code",
   "execution_count": 14,
   "id": "99e345c3-0eb6-46f7-a3c2-c2a371056526",
   "metadata": {},
   "outputs": [
    {
     "name": "stdout",
     "output_type": "stream",
     "text": [
      "Optimization terminated successfully.\n",
      "         Current function value: 0.886458\n",
      "         Iterations: 19\n",
      "         Function evaluations: 24\n",
      "         Gradient evaluations: 24\n"
     ]
    },
    {
     "data": {
      "text/html": [
       "<table class=\"simpletable\">\n",
       "<caption>OrderedModel Results</caption>\n",
       "<tr>\n",
       "  <th>Dep. Variable:</th>         <td>Severity</td>      <th>  Log-Likelihood:    </th> <td> -124.10</td>\n",
       "</tr>\n",
       "<tr>\n",
       "  <th>Model:</th>               <td>OrderedModel</td>    <th>  AIC:               </th> <td>   260.2</td>\n",
       "</tr>\n",
       "<tr>\n",
       "  <th>Method:</th>           <td>Maximum Likelihood</td> <th>  BIC:               </th> <td>   277.9</td>\n",
       "</tr>\n",
       "<tr>\n",
       "  <th>Date:</th>              <td>Thu, 12 May 2022</td>  <th>                     </th>     <td> </td>   \n",
       "</tr>\n",
       "<tr>\n",
       "  <th>Time:</th>                  <td>10:15:53</td>      <th>                     </th>     <td> </td>   \n",
       "</tr>\n",
       "<tr>\n",
       "  <th>No. Observations:</th>       <td>   140</td>       <th>                     </th>     <td> </td>   \n",
       "</tr>\n",
       "<tr>\n",
       "  <th>Df Residuals:</th>           <td>   134</td>       <th>                     </th>     <td> </td>   \n",
       "</tr>\n",
       "<tr>\n",
       "  <th>Df Model:</th>               <td>     6</td>       <th>                     </th>     <td> </td>   \n",
       "</tr>\n",
       "</table>\n",
       "<table class=\"simpletable\">\n",
       "<tr>\n",
       "             <td></td>                <th>coef</th>     <th>std err</th>      <th>z</th>      <th>P>|z|</th>  <th>[0.025</th>    <th>0.975]</th>  \n",
       "</tr>\n",
       "<tr>\n",
       "  <th>Size(Kb)</th>                <td>   -0.0134</td> <td>    0.003</td> <td>   -4.290</td> <td> 0.000</td> <td>   -0.019</td> <td>   -0.007</td>\n",
       "</tr>\n",
       "<tr>\n",
       "  <th>num_unique_interactions</th> <td>    0.0013</td> <td>    0.001</td> <td>    1.831</td> <td> 0.067</td> <td>-9.16e-05</td> <td>    0.003</td>\n",
       "</tr>\n",
       "<tr>\n",
       "  <th>num_publications</th>        <td>   -0.0069</td> <td>    0.012</td> <td>   -0.557</td> <td> 0.577</td> <td>   -0.031</td> <td>    0.017</td>\n",
       "</tr>\n",
       "<tr>\n",
       "  <th>very low/low</th>            <td>   -3.1349</td> <td>    0.399</td> <td>   -7.860</td> <td> 0.000</td> <td>   -3.917</td> <td>   -2.353</td>\n",
       "</tr>\n",
       "<tr>\n",
       "  <th>low/moderate</th>            <td>    0.6052</td> <td>    0.179</td> <td>    3.381</td> <td> 0.001</td> <td>    0.254</td> <td>    0.956</td>\n",
       "</tr>\n",
       "<tr>\n",
       "  <th>moderate/severe</th>         <td>    1.3954</td> <td>    0.104</td> <td>   13.423</td> <td> 0.000</td> <td>    1.192</td> <td>    1.599</td>\n",
       "</tr>\n",
       "</table>"
      ],
      "text/plain": [
       "<class 'statsmodels.iolib.summary.Summary'>\n",
       "\"\"\"\n",
       "                             OrderedModel Results                             \n",
       "==============================================================================\n",
       "Dep. Variable:               Severity   Log-Likelihood:                -124.10\n",
       "Model:                   OrderedModel   AIC:                             260.2\n",
       "Method:            Maximum Likelihood   BIC:                             277.9\n",
       "Date:                Thu, 12 May 2022                                         \n",
       "Time:                        10:15:53                                         \n",
       "No. Observations:                 140                                         \n",
       "Df Residuals:                     134                                         \n",
       "Df Model:                           6                                         \n",
       "===========================================================================================\n",
       "                              coef    std err          z      P>|z|      [0.025      0.975]\n",
       "-------------------------------------------------------------------------------------------\n",
       "Size(Kb)                   -0.0134      0.003     -4.290      0.000      -0.019      -0.007\n",
       "num_unique_interactions     0.0013      0.001      1.831      0.067   -9.16e-05       0.003\n",
       "num_publications           -0.0069      0.012     -0.557      0.577      -0.031       0.017\n",
       "very low/low               -3.1349      0.399     -7.860      0.000      -3.917      -2.353\n",
       "low/moderate                0.6052      0.179      3.381      0.001       0.254       0.956\n",
       "moderate/severe             1.3954      0.104     13.423      0.000       1.192       1.599\n",
       "===========================================================================================\n",
       "\"\"\""
      ]
     },
     "execution_count": 14,
     "metadata": {},
     "output_type": "execute_result"
    }
   ],
   "source": [
    "mod_prob = OrderedModel(model_df_human['Severity'],\n",
    "                        model_df_human[['Size(Kb)', 'num_unique_interactions', 'num_publications']],\n",
    "                        distr='logit')\n",
    "\n",
    "res_prob = mod_prob.fit(method='bfgs')\n",
    "res_prob.summary()"
   ]
  },
  {
   "cell_type": "code",
   "execution_count": 15,
   "id": "c15a3554-4515-4a2e-aaa8-5b4865b5da5e",
   "metadata": {},
   "outputs": [
    {
     "data": {
      "text/html": [
       "<div>\n",
       "<style scoped>\n",
       "    .dataframe tbody tr th:only-of-type {\n",
       "        vertical-align: middle;\n",
       "    }\n",
       "\n",
       "    .dataframe tbody tr th {\n",
       "        vertical-align: top;\n",
       "    }\n",
       "\n",
       "    .dataframe thead th {\n",
       "        text-align: right;\n",
       "    }\n",
       "</style>\n",
       "<table border=\"1\" class=\"dataframe\">\n",
       "  <thead>\n",
       "    <tr style=\"text-align: right;\">\n",
       "      <th></th>\n",
       "      <th>num_unique_interactions</th>\n",
       "    </tr>\n",
       "    <tr>\n",
       "      <th>Species</th>\n",
       "      <th></th>\n",
       "    </tr>\n",
       "  </thead>\n",
       "  <tbody>\n",
       "    <tr>\n",
       "      <th>Rabies lyssavirus</th>\n",
       "      <td>3651</td>\n",
       "    </tr>\n",
       "    <tr>\n",
       "      <th>Severe acute respiratory syndrome-related coronavirus</th>\n",
       "      <td>3452</td>\n",
       "    </tr>\n",
       "    <tr>\n",
       "      <th>Hepacivirus C</th>\n",
       "      <td>1057</td>\n",
       "    </tr>\n",
       "    <tr>\n",
       "      <th>Human gammaherpesvirus 4</th>\n",
       "      <td>933</td>\n",
       "    </tr>\n",
       "    <tr>\n",
       "      <th>Influenza A virus</th>\n",
       "      <td>916</td>\n",
       "    </tr>\n",
       "  </tbody>\n",
       "</table>\n",
       "</div>"
      ],
      "text/plain": [
       "                                                    num_unique_interactions\n",
       "Species                                                                    \n",
       "Rabies lyssavirus                                                      3651\n",
       "Severe acute respiratory syndrome-related coron...                     3452\n",
       "Hepacivirus C                                                          1057\n",
       "Human gammaherpesvirus 4                                                933\n",
       "Influenza A virus                                                       916"
      ]
     },
     "execution_count": 15,
     "metadata": {},
     "output_type": "execute_result"
    }
   ],
   "source": [
    "pd.DataFrame(model_df_human.groupby(\"Species\")[\"num_unique_interactions\"].sum()).sort_values(\"num_unique_interactions\", ascending=False).iloc[:5, :]"
   ]
  },
  {
   "cell_type": "code",
   "execution_count": 16,
   "id": "80f110fe-ab65-4a63-9dff-b036ef8b33fc",
   "metadata": {},
   "outputs": [
    {
     "data": {
      "text/html": [
       "<div>\n",
       "<style scoped>\n",
       "    .dataframe tbody tr th:only-of-type {\n",
       "        vertical-align: middle;\n",
       "    }\n",
       "\n",
       "    .dataframe tbody tr th {\n",
       "        vertical-align: top;\n",
       "    }\n",
       "\n",
       "    .dataframe thead th {\n",
       "        text-align: right;\n",
       "    }\n",
       "</style>\n",
       "<table border=\"1\" class=\"dataframe\">\n",
       "  <thead>\n",
       "    <tr style=\"text-align: right;\">\n",
       "      <th></th>\n",
       "      <th>num_unique_interactions</th>\n",
       "    </tr>\n",
       "    <tr>\n",
       "      <th>Species</th>\n",
       "      <th></th>\n",
       "    </tr>\n",
       "  </thead>\n",
       "  <tbody>\n",
       "    <tr>\n",
       "      <th>Adeno-associated dependoparvovirus A</th>\n",
       "      <td>1</td>\n",
       "    </tr>\n",
       "    <tr>\n",
       "      <th>Betapapillomavirus 4</th>\n",
       "      <td>1</td>\n",
       "    </tr>\n",
       "    <tr>\n",
       "      <th>Betapapillomavirus 5</th>\n",
       "      <td>1</td>\n",
       "    </tr>\n",
       "    <tr>\n",
       "      <th>Crimean-Congo hemorrhagic fever orthonairovirus</th>\n",
       "      <td>1</td>\n",
       "    </tr>\n",
       "    <tr>\n",
       "      <th>Enterovirus A</th>\n",
       "      <td>1</td>\n",
       "    </tr>\n",
       "    <tr>\n",
       "      <th>Gammapapillomavirus 1</th>\n",
       "      <td>1</td>\n",
       "    </tr>\n",
       "    <tr>\n",
       "      <th>Human betaherpesvirus 6A</th>\n",
       "      <td>1</td>\n",
       "    </tr>\n",
       "    <tr>\n",
       "      <th>Human immunodeficiency virus 2</th>\n",
       "      <td>1</td>\n",
       "    </tr>\n",
       "    <tr>\n",
       "      <th>Human mastadenovirus D</th>\n",
       "      <td>1</td>\n",
       "    </tr>\n",
       "    <tr>\n",
       "      <th>Measles morbillivirus</th>\n",
       "      <td>1</td>\n",
       "    </tr>\n",
       "    <tr>\n",
       "      <th>Rubivirus rubellae</th>\n",
       "      <td>1</td>\n",
       "    </tr>\n",
       "    <tr>\n",
       "      <th>Zika virus</th>\n",
       "      <td>1</td>\n",
       "    </tr>\n",
       "  </tbody>\n",
       "</table>\n",
       "</div>"
      ],
      "text/plain": [
       "                                                 num_unique_interactions\n",
       "Species                                                                 \n",
       "Adeno-associated dependoparvovirus A                                   1\n",
       "Betapapillomavirus 4                                                   1\n",
       "Betapapillomavirus 5                                                   1\n",
       "Crimean-Congo hemorrhagic fever orthonairovirus                        1\n",
       "Enterovirus A                                                          1\n",
       "Gammapapillomavirus 1                                                  1\n",
       "Human betaherpesvirus 6A                                               1\n",
       "Human immunodeficiency virus 2                                         1\n",
       "Human mastadenovirus D                                                 1\n",
       "Measles morbillivirus                                                  1\n",
       "Rubivirus rubellae                                                     1\n",
       "Zika virus                                                             1"
      ]
     },
     "execution_count": 16,
     "metadata": {},
     "output_type": "execute_result"
    }
   ],
   "source": [
    "pd.DataFrame(model_df_human.groupby(\"Species\")[\"num_unique_interactions\"].sum()).query(\"num_unique_interactions==1\")"
   ]
  },
  {
   "cell_type": "code",
   "execution_count": null,
   "id": "549002dd-aa15-4543-91b1-4ba2db1aaa21",
   "metadata": {},
   "outputs": [],
   "source": []
  }
 ],
 "metadata": {
  "kernelspec": {
   "display_name": "Python 3 (ipykernel)",
   "language": "python",
   "name": "python3"
  },
  "language_info": {
   "codemirror_mode": {
    "name": "ipython",
    "version": 3
   },
   "file_extension": ".py",
   "mimetype": "text/x-python",
   "name": "python",
   "nbconvert_exporter": "python",
   "pygments_lexer": "ipython3",
   "version": "3.8.12"
  }
 },
 "nbformat": 4,
 "nbformat_minor": 5
}

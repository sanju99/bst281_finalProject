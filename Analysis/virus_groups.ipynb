{
 "cells": [
  {
   "cell_type": "code",
   "execution_count": 1,
   "id": "d90f6cd6-ffe3-456d-ab8d-cf3feec2e354",
   "metadata": {},
   "outputs": [],
   "source": [
    "import numpy as np\n",
    "import pandas as pd\n",
    "\n",
    "import matplotlib.pyplot as plt\n",
    "import seaborn as sns\n",
    "\n",
    "plt.rcParams['figure.dpi'] = 150\n",
    "import glob, os\n",
    "\n",
    "import scipy.stats as st\n",
    "import timeit"
   ]
  },
  {
   "cell_type": "markdown",
   "id": "ad38ea25-053f-4547-affc-3368f8d878a8",
   "metadata": {},
   "source": [
    "# Regress viral severity on predictors\n",
    "\n",
    "(severity) ~ (# of human targets) + (# of papers studying the virus) + (size of viral genomes) + etc."
   ]
  },
  {
   "cell_type": "code",
   "execution_count": 2,
   "id": "5980004b-86d2-4e87-93ab-e2054a376714",
   "metadata": {},
   "outputs": [],
   "source": [
    "# also rearranged so that all Homo sapiens is in the right column\n",
    "virus_human = pd.read_csv(\"../Processed/virus_human.csv\")\n",
    "human_human = pd.read_csv(\"../Processed/human_important_for_virus.csv\")\n",
    "\n",
    "# don't need virus_virus, which is a dataframe of viral proteins interacting with each other\n",
    "\n",
    "proteins = pd.read_csv(\"../Processed/enriched_GO_proteins.csv\")"
   ]
  },
  {
   "cell_type": "code",
   "execution_count": 3,
   "id": "2d2a0356-4efc-48a8-894d-2d1a92945caf",
   "metadata": {},
   "outputs": [
    {
     "name": "stdout",
     "output_type": "stream",
     "text": [
      "['Homo sapiens'] [9606]\n",
      "False\n",
      "False\n"
     ]
    }
   ],
   "source": [
    "# check that all human proteins are in the second column\n",
    "print(virus_human['Taxname B'].unique(), virus_human['Taxid B'].unique())\n",
    "\n",
    "# human should not be in the first column\n",
    "print('Homo sapiens' in virus_human['Taxname A'].values)\n",
    "print(9606 in virus_human['Taxid A'].values)"
   ]
  },
  {
   "cell_type": "code",
   "execution_count": 4,
   "id": "6644b50b-fb57-4f56-a86c-19c5221653ac",
   "metadata": {},
   "outputs": [
    {
     "name": "stdout",
     "output_type": "stream",
     "text": [
      "168 viral species in the PPI dataset\n"
     ]
    }
   ],
   "source": [
    "print(len(virus_human[\"Taxname A\"].unique()), \"viral species in the PPI dataset\")"
   ]
  },
  {
   "cell_type": "code",
   "execution_count": 5,
   "id": "dd4025bc-0091-407f-976e-fdf59505dd72",
   "metadata": {},
   "outputs": [],
   "source": [
    "# save taxids to a text file to search with Taxonomizr in R (code below)\n",
    "virus_human[[\"Taxid A\"]].drop_duplicates().to_csv(\"viral_taxids.txt\", index=False, sep=\"\\t\")"
   ]
  },
  {
   "cell_type": "markdown",
   "id": "d7d2381f-6293-4c5b-8c0d-7fb2260e05c4",
   "metadata": {},
   "source": [
    "# Get taxonomic ranks using `Taxonomizr` in R\n",
    "\n",
    "## Easiest way to collapse groups of viruses (i.e. different papillomaviruses will also have the same genus)\n",
    "\n",
    "https://cran.r-project.org/web/packages/taxonomizr/vignettes/usage.html"
   ]
  },
  {
   "cell_type": "markdown",
   "id": "ee199897-5b4f-4cc4-9fc9-f07ed38312bb",
   "metadata": {},
   "source": [
    "```r\n",
    "install.packages(\"taxonomizr\")\n",
    "library(taxonomizr)\n",
    "\n",
    "prepareDatabase('accessionTaxa.sql')\n",
    "\n",
    "df <- read.table(\"viral_taxids.txt\", stringsAsFactors=FALSE, quote=\"\", header=TRUE, sep=\"\\t\")\n",
    "\n",
    "taxids <- df[[\"Taxid.A\"]]\n",
    "\n",
    "# get taxonomies for the taxids\n",
    "taxa <- getTaxonomy(taxids,'accessionTaxa.sql')\n",
    "\n",
    "# save taxa to a new dataframe\n",
    "write.csv(taxa, \"viral_taxonomies.csv\")\n",
    "```"
   ]
  },
  {
   "cell_type": "code",
   "execution_count": 6,
   "id": "d2ee6a7e-a0b8-4a8e-a486-9e6a0c19e4b6",
   "metadata": {},
   "outputs": [],
   "source": [
    "viral_taxonomies = pd.read_csv(\"viral_taxonomies.csv\")\n",
    "viral_taxonomies.rename(columns={viral_taxonomies.columns[0]: 'Taxid A'}, inplace=True)\n",
    "\n",
    "# combine the taxonomies with the original dataframe\n",
    "virus_human = pd.merge(virus_human, viral_taxonomies, on='Taxid A')"
   ]
  },
  {
   "cell_type": "markdown",
   "id": "17733fa1-d702-4bdb-a8bc-ed1c6fc30d88",
   "metadata": {
    "tags": []
   },
   "source": [
    "# Get genome sizes of all the viruses\n",
    "\n",
    "https://www.ncbi.nlm.nih.gov/genome/browse/#!/viruses/\n",
    "\n",
    "Use taxonomizr gets the exact species name, rather than the strain name (which is what's associated with the taxids).\n",
    "\n",
    "This species name should be easier to search than the taxid-associated taxname."
   ]
  },
  {
   "cell_type": "code",
   "execution_count": 7,
   "id": "ab494649-fbb7-46b7-b772-5e5451681ddd",
   "metadata": {},
   "outputs": [],
   "source": [
    "virus_genome_sizes = pd.read_csv(\"../Data/virus_genome_sizes.csv\")"
   ]
  },
  {
   "cell_type": "code",
   "execution_count": 8,
   "id": "10a837eb-cf6c-4e9c-8bfd-e4c38757348a",
   "metadata": {},
   "outputs": [],
   "source": [
    "# ~1/2 as many species as taxids\n",
    "len(virus_human.species.unique())\n",
    "\n",
    "# make a dictionary to map between them\n",
    "taxnames_species_dict = dict(zip(virus_human[\"Taxname A\"], virus_human[\"species\"]))"
   ]
  },
  {
   "cell_type": "code",
   "execution_count": 9,
   "id": "319b6480-83fa-4d9e-801f-080c7e4b83d7",
   "metadata": {},
   "outputs": [
    {
     "name": "stdout",
     "output_type": "stream",
     "text": [
      "62 viruses found in the database\n",
      "21 viruses not a direct match\n"
     ]
    }
   ],
   "source": [
    "# this only has 62 of the 83 species in the dataframe. Compare families for the rest because the Organism Groups column contains them\n",
    "found_viruses_df = virus_genome_sizes.loc[virus_genome_sizes[\"#Organism Name\"].isin(virus_human['species'].unique())].drop_duplicates([\"#Organism Name\", \"Size(Mb)\"])\n",
    "\n",
    "found_viruses = found_viruses_df[\"#Organism Name\"].unique()\n",
    "\n",
    "print(len(found_viruses), \"viruses found in the database\")\n",
    "\n",
    "missing_viruses = list(set(virus_human['species'].unique()) - set(found_viruses))\n",
    "\n",
    "print(len(missing_viruses), \"viruses not a direct match\")"
   ]
  },
  {
   "cell_type": "code",
   "execution_count": 10,
   "id": "2c9b5e15-1d6b-4743-b830-af748ec26b24",
   "metadata": {},
   "outputs": [
    {
     "name": "stdout",
     "output_type": "stream",
     "text": [
      "Rubivirus rubellae\n"
     ]
    }
   ],
   "source": [
    "virus_genomes_df = pd.DataFrame(found_viruses_df.groupby(\"#Organism Name\")[\"Size(Mb)\"].mean()).reset_index()\n",
    "virus_genomes_df.columns = [\"Species\", \"Size(Mb)\"]\n",
    "\n",
    "add_viruses_to_df = []\n",
    "genome_sizes = []\n",
    "\n",
    "for virus in missing_viruses:\n",
    "    \n",
    "    res_df = virus_genome_sizes.loc[virus_genome_sizes[\"#Organism Name\"].str.contains(\"|\".join(virus.split(\" \")), case=False)]\n",
    "    if len(res_df) > 0:\n",
    "        genome_sizes.append(res_df[\"Size(Mb)\"].mean())\n",
    "        add_viruses_to_df.append(virus)\n",
    "    else:\n",
    "        print(virus)\n",
    "        \n",
    "# add rubella virus manually because it's just 1 virus\n",
    "add_viruses_to_df.append(\"Rubivirus rubellae\")\n",
    "genome_sizes.append(virus_genome_sizes.loc[virus_genome_sizes[\"#Organism Name\"].str.contains(\"rubella\", case=False)][\"Size(Mb)\"].mean())\n",
    "\n",
    "virus_genomes_df = pd.concat([virus_genomes_df, pd.DataFrame({\"Species\": add_viruses_to_df, \"Size(Mb)\": genome_sizes})]).reset_index(drop=True)\n",
    "\n",
    "assert len(set(virus_genomes_df[\"Species\"]).intersection(virus_human[\"species\"])) == len(virus_genomes_df)"
   ]
  },
  {
   "cell_type": "code",
   "execution_count": 11,
   "id": "b8bd20da-da81-4f06-91d0-dcd1be110d2d",
   "metadata": {},
   "outputs": [],
   "source": [
    "model_df = pd.DataFrame(taxnames_species_dict, index=[0]).T.reset_index()\n",
    "model_df.columns = [\"Taxname\", \"Species\"]\n",
    "\n",
    "# combine with the genome lengths\n",
    "model_df = pd.merge(model_df, virus_genomes_df, on=\"Species\", how=\"outer\")\n",
    "\n",
    "# number of proteins interacting with human proteins for a given viral species\n",
    "protein_interactions = pd.DataFrame(virus_human.groupby(\"Taxname A\")[\"Publication\"].count()).reset_index()\n",
    "protein_interactions.columns = [\"Taxname\", \"num_interactions\"]\n",
    "\n",
    "# combine with the protein_interactions list\n",
    "model_df = pd.merge(model_df, protein_interactions, on=\"Taxname\", how=\"outer\")\n",
    "\n",
    "def num_unique_publications(df, taxname):\n",
    "    \n",
    "    df_single_tax = df.loc[df[\"Taxname A\"] == taxname]    \n",
    "    return len(np.unique(df_single_tax[\"Publication\"]))\n",
    "\n",
    "num_pubs = [num_unique_publications(virus_human, taxname) for taxname in model_df.Taxname.values]\n",
    "\n",
    "model_df[\"Publications\"] = num_pubs\n",
    "\n",
    "# make sure that all numbers of publications are equal to or smaller than the number of protein interactions\n",
    "assert sum(model_df[\"Publications\"] <= model_df[\"num_interactions\"]) == len(model_df)\n",
    "\n",
    "# finally, save it to a dataframe for modeling later (need the outcome variable)\n",
    "model_df.to_csv(\"severity_model_predictors.csv\", index=False)"
   ]
  },
  {
   "cell_type": "markdown",
   "id": "71a89a71-3034-4af6-9e2a-2d6c7b8fa319",
   "metadata": {},
   "source": [
    "# Use fatality rate for viral severity"
   ]
  },
  {
   "cell_type": "code",
   "execution_count": 12,
   "id": "0126d9dc-55fc-4c2b-aba3-9b98b8db9057",
   "metadata": {},
   "outputs": [
    {
     "data": {
      "text/html": [
       "<div>\n",
       "<style scoped>\n",
       "    .dataframe tbody tr th:only-of-type {\n",
       "        vertical-align: middle;\n",
       "    }\n",
       "\n",
       "    .dataframe tbody tr th {\n",
       "        vertical-align: top;\n",
       "    }\n",
       "\n",
       "    .dataframe thead th {\n",
       "        text-align: right;\n",
       "    }\n",
       "</style>\n",
       "<table border=\"1\" class=\"dataframe\">\n",
       "  <thead>\n",
       "    <tr style=\"text-align: right;\">\n",
       "      <th></th>\n",
       "      <th>Taxname</th>\n",
       "      <th>Species</th>\n",
       "      <th>Size(Mb)</th>\n",
       "      <th>num_interactions</th>\n",
       "      <th>Publications</th>\n",
       "    </tr>\n",
       "  </thead>\n",
       "  <tbody>\n",
       "    <tr>\n",
       "      <th>0</th>\n",
       "      <td>Betacoronavirus England 1</td>\n",
       "      <td>Middle East respiratory syndrome-related coron...</td>\n",
       "      <td>0.030119</td>\n",
       "      <td>590</td>\n",
       "      <td>20</td>\n",
       "    </tr>\n",
       "    <tr>\n",
       "      <th>1</th>\n",
       "      <td>Human betacoronavirus 2c EMC/2012</td>\n",
       "      <td>Middle East respiratory syndrome-related coron...</td>\n",
       "      <td>0.030119</td>\n",
       "      <td>6</td>\n",
       "      <td>4</td>\n",
       "    </tr>\n",
       "    <tr>\n",
       "      <th>2</th>\n",
       "      <td>Middle East respiratory syndrome-related coron...</td>\n",
       "      <td>Middle East respiratory syndrome-related coron...</td>\n",
       "      <td>0.030119</td>\n",
       "      <td>7</td>\n",
       "      <td>3</td>\n",
       "    </tr>\n",
       "    <tr>\n",
       "      <th>3</th>\n",
       "      <td>Severe acute respiratory syndrome-related coro...</td>\n",
       "      <td>Severe acute respiratory syndrome-related coro...</td>\n",
       "      <td>0.029274</td>\n",
       "      <td>1324</td>\n",
       "      <td>47</td>\n",
       "    </tr>\n",
       "    <tr>\n",
       "      <th>4</th>\n",
       "      <td>Severe acute respiratory syndrome coronavirus 2</td>\n",
       "      <td>Severe acute respiratory syndrome-related coro...</td>\n",
       "      <td>0.029274</td>\n",
       "      <td>3405</td>\n",
       "      <td>83</td>\n",
       "    </tr>\n",
       "    <tr>\n",
       "      <th>...</th>\n",
       "      <td>...</td>\n",
       "      <td>...</td>\n",
       "      <td>...</td>\n",
       "      <td>...</td>\n",
       "      <td>...</td>\n",
       "    </tr>\n",
       "    <tr>\n",
       "      <th>163</th>\n",
       "      <td>Human papillomavirus 4</td>\n",
       "      <td>Gammapapillomavirus 1</td>\n",
       "      <td>0.043874</td>\n",
       "      <td>2</td>\n",
       "      <td>1</td>\n",
       "    </tr>\n",
       "    <tr>\n",
       "      <th>164</th>\n",
       "      <td>Human papillomavirus type 96</td>\n",
       "      <td>Betapapillomavirus 5</td>\n",
       "      <td>0.007415</td>\n",
       "      <td>1</td>\n",
       "      <td>1</td>\n",
       "    </tr>\n",
       "    <tr>\n",
       "      <th>165</th>\n",
       "      <td>Murine minute virus strain MVM prototype</td>\n",
       "      <td>Rodent protoparvovirus 1</td>\n",
       "      <td>0.043923</td>\n",
       "      <td>1</td>\n",
       "      <td>1</td>\n",
       "    </tr>\n",
       "    <tr>\n",
       "      <th>166</th>\n",
       "      <td>Adeno-associated virus 2 Srivastava/1982</td>\n",
       "      <td>Adeno-associated dependoparvovirus A</td>\n",
       "      <td>0.048147</td>\n",
       "      <td>4</td>\n",
       "      <td>1</td>\n",
       "    </tr>\n",
       "    <tr>\n",
       "      <th>167</th>\n",
       "      <td>Phlebovirus WCH/97/HN/China/2011</td>\n",
       "      <td>Phlebovirus WCH/97/HN/China/2011</td>\n",
       "      <td>0.010681</td>\n",
       "      <td>4</td>\n",
       "      <td>1</td>\n",
       "    </tr>\n",
       "  </tbody>\n",
       "</table>\n",
       "<p>168 rows × 5 columns</p>\n",
       "</div>"
      ],
      "text/plain": [
       "                                               Taxname  \\\n",
       "0                            Betacoronavirus England 1   \n",
       "1                    Human betacoronavirus 2c EMC/2012   \n",
       "2    Middle East respiratory syndrome-related coron...   \n",
       "3    Severe acute respiratory syndrome-related coro...   \n",
       "4      Severe acute respiratory syndrome coronavirus 2   \n",
       "..                                                 ...   \n",
       "163                             Human papillomavirus 4   \n",
       "164                       Human papillomavirus type 96   \n",
       "165           Murine minute virus strain MVM prototype   \n",
       "166           Adeno-associated virus 2 Srivastava/1982   \n",
       "167                   Phlebovirus WCH/97/HN/China/2011   \n",
       "\n",
       "                                               Species  Size(Mb)  \\\n",
       "0    Middle East respiratory syndrome-related coron...  0.030119   \n",
       "1    Middle East respiratory syndrome-related coron...  0.030119   \n",
       "2    Middle East respiratory syndrome-related coron...  0.030119   \n",
       "3    Severe acute respiratory syndrome-related coro...  0.029274   \n",
       "4    Severe acute respiratory syndrome-related coro...  0.029274   \n",
       "..                                                 ...       ...   \n",
       "163                              Gammapapillomavirus 1  0.043874   \n",
       "164                               Betapapillomavirus 5  0.007415   \n",
       "165                           Rodent protoparvovirus 1  0.043923   \n",
       "166               Adeno-associated dependoparvovirus A  0.048147   \n",
       "167                   Phlebovirus WCH/97/HN/China/2011  0.010681   \n",
       "\n",
       "     num_interactions  Publications  \n",
       "0                 590            20  \n",
       "1                   6             4  \n",
       "2                   7             3  \n",
       "3                1324            47  \n",
       "4                3405            83  \n",
       "..                ...           ...  \n",
       "163                 2             1  \n",
       "164                 1             1  \n",
       "165                 1             1  \n",
       "166                 4             1  \n",
       "167                 4             1  \n",
       "\n",
       "[168 rows x 5 columns]"
      ]
     },
     "execution_count": 12,
     "metadata": {},
     "output_type": "execute_result"
    }
   ],
   "source": [
    "model_df"
   ]
  }
 ],
 "metadata": {
  "kernelspec": {
   "display_name": "Python 3 (ipykernel)",
   "language": "python",
   "name": "python3"
  },
  "language_info": {
   "codemirror_mode": {
    "name": "ipython",
    "version": 3
   },
   "file_extension": ".py",
   "mimetype": "text/x-python",
   "name": "python",
   "nbconvert_exporter": "python",
   "pygments_lexer": "ipython3",
   "version": "3.8.12"
  }
 },
 "nbformat": 4,
 "nbformat_minor": 5
}
